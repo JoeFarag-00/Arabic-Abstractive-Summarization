{
 "cells": [
  {
   "cell_type": "code",
   "execution_count": 1,
   "metadata": {},
   "outputs": [
    {
     "name": "stdout",
     "output_type": "stream",
     "text": [
      "Diacritized and dediacritized Arabic sentences:\n",
      "\tوَلَمْ أَكُنْ بِدُنْيَاكَ عَبِدًا، وَلَكِنَّمَا أَكُنْتُ حَمَقَى يَلْبَسُونَ، فَكَفَانِي أَنْ تَتَعَلَّمَ كَثِيرًا مِنْهُمْ\n",
      "\tولم أكن بدنياك عبدا، ولكنما أكنت حمقى يلبسون، فكفاني أن تتعلم كثيرا منهم\n"
     ]
    }
   ],
   "source": [
    "from camel_tools.utils.dediac import dediac_ar, dediac_bw\n",
    "\n",
    "# Strings to dediacritize\n",
    "sentence_ar = 'وَلَمْ أَكُنْ بِدُنْيَاكَ عَبِدًا، وَلَكِنَّمَا أَكُنْتُ حَمَقَى يَلْبَسُونَ، فَكَفَانِي أَنْ تَتَعَلَّمَ كَثِيرًا مِنْهُمْ'\n",
    "sentence_bw = 'vAbitu Ald~A}irapi huwa nisbapu muHiyTihA liquTrihA wayuErafu biAlv~Abiti T'\n",
    "\n",
    "# Dediacritize\n",
    "sentence_ar_dediac = dediac_ar(sentence_ar)\n",
    "sentence_bw_dediac = dediac_bw(sentence_bw)\n",
    "\n",
    "# Print results\n",
    "print('Diacritized and dediacritized Arabic sentences:\\n\\t{}\\n\\t{}'.format(sentence_ar, sentence_ar_dediac))"
   ]
  }
 ],
 "metadata": {
  "kernelspec": {
   "display_name": "Python 3",
   "language": "python",
   "name": "python3"
  },
  "language_info": {
   "codemirror_mode": {
    "name": "ipython",
    "version": 3
   },
   "file_extension": ".py",
   "mimetype": "text/x-python",
   "name": "python",
   "nbconvert_exporter": "python",
   "pygments_lexer": "ipython3",
   "version": "3.10.10"
  },
  "orig_nbformat": 4
 },
 "nbformat": 4,
 "nbformat_minor": 2
}
