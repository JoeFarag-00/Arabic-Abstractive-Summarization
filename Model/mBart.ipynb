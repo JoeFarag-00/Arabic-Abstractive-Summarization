{
 "cells": [
  {
   "cell_type": "code",
   "execution_count": 1,
   "metadata": {},
   "outputs": [
    {
     "name": "stderr",
     "output_type": "stream",
     "text": [
      "c:\\Anaconda\\envs\\Cuda\\lib\\site-packages\\numpy\\_distributor_init.py:30: UserWarning: loaded more than 1 DLL from .libs:\n",
      "c:\\Anaconda\\envs\\Cuda\\lib\\site-packages\\numpy\\.libs\\libopenblas.FB5AE2TYXYH2IJRDKGDGQ3XBKLKTF43H.gfortran-win_amd64.dll\n",
      "c:\\Anaconda\\envs\\Cuda\\lib\\site-packages\\numpy\\.libs\\libopenblas64__v0.3.21-gcc_10_3_0.dll\n",
      "  warnings.warn(\"loaded more than 1 DLL from .libs:\"\n",
      "c:\\Anaconda\\envs\\Cuda\\lib\\site-packages\\tqdm\\auto.py:21: TqdmWarning: IProgress not found. Please update jupyter and ipywidgets. See https://ipywidgets.readthedocs.io/en/stable/user_install.html\n",
      "  from .autonotebook import tqdm as notebook_tqdm\n"
     ]
    }
   ],
   "source": [
    "import pandas as pd\n",
    "import torch\n",
    "from torch.utils.data import Dataset, DataLoader\n",
    "from transformers import MBartForConditionalGeneration, MBartTokenizer\n",
    "from sklearn.model_selection import train_test_split\n",
    "from tqdm import tqdm\n",
    "from rouge_score import rouge_scorer"
   ]
  },
  {
   "cell_type": "code",
   "execution_count": 2,
   "metadata": {},
   "outputs": [
    {
     "data": {
      "text/plain": [
       "device(type='cuda')"
      ]
     },
     "execution_count": 2,
     "metadata": {},
     "output_type": "execute_result"
    }
   ],
   "source": [
    "device = torch.device('cuda' if torch.cuda.is_available() else 'cpu')\n",
    "device"
   ]
  },
  {
   "cell_type": "code",
   "execution_count": 3,
   "metadata": {},
   "outputs": [
    {
     "data": {
      "text/html": [
       "<div>\n",
       "<style scoped>\n",
       "    .dataframe tbody tr th:only-of-type {\n",
       "        vertical-align: middle;\n",
       "    }\n",
       "\n",
       "    .dataframe tbody tr th {\n",
       "        vertical-align: top;\n",
       "    }\n",
       "\n",
       "    .dataframe thead th {\n",
       "        text-align: right;\n",
       "    }\n",
       "</style>\n",
       "<table border=\"1\" class=\"dataframe\">\n",
       "  <thead>\n",
       "    <tr style=\"text-align: right;\">\n",
       "      <th></th>\n",
       "      <th>example_id</th>\n",
       "      <th>paragraph</th>\n",
       "      <th>summary</th>\n",
       "    </tr>\n",
       "  </thead>\n",
       "  <tbody>\n",
       "    <tr>\n",
       "      <th>0</th>\n",
       "      <td>0</td>\n",
       "      <td>وتحت عنوان من الكارثة إلى التحدى يبدأ الكاتب ع...</td>\n",
       "      <td>يبدأ الكاتب عرض الكتاب الرابع تحت عنوان من الك...</td>\n",
       "    </tr>\n",
       "    <tr>\n",
       "      <th>1</th>\n",
       "      <td>1</td>\n",
       "      <td>ولم يعترف دبلوماسيو هاتين الدولتين بالعريضة ال...</td>\n",
       "      <td>دبلوماسيو الدولتين لم يعترفوا بالعريضة التي قا...</td>\n",
       "    </tr>\n",
       "    <tr>\n",
       "      <th>2</th>\n",
       "      <td>2</td>\n",
       "      <td>قامت ولاية حلب بعد اعلان الجنرال الفرنسي هنري ...</td>\n",
       "      <td>أعلن غورو الانتداب الفرنسي على سوريا لكي يعاقب...</td>\n",
       "    </tr>\n",
       "    <tr>\n",
       "      <th>3</th>\n",
       "      <td>3</td>\n",
       "      <td>دولة مصر العربيه هي ليست اي دوله وليست اي شعب ...</td>\n",
       "      <td>مصر هي أم البلاد، وقائدة العرب؛ فهي أرض بلاد ا...</td>\n",
       "    </tr>\n",
       "    <tr>\n",
       "      <th>4</th>\n",
       "      <td>4</td>\n",
       "      <td>السوريون يصرون على استقلال بلادهم : و مثلما رف...</td>\n",
       "      <td>الشعب السوري يصر على استقلال بلدهم من السيطرة ...</td>\n",
       "    </tr>\n",
       "  </tbody>\n",
       "</table>\n",
       "</div>"
      ],
      "text/plain": [
       "   example_id                                          paragraph  \\\n",
       "0           0  وتحت عنوان من الكارثة إلى التحدى يبدأ الكاتب ع...   \n",
       "1           1  ولم يعترف دبلوماسيو هاتين الدولتين بالعريضة ال...   \n",
       "2           2  قامت ولاية حلب بعد اعلان الجنرال الفرنسي هنري ...   \n",
       "3           3  دولة مصر العربيه هي ليست اي دوله وليست اي شعب ...   \n",
       "4           4  السوريون يصرون على استقلال بلادهم : و مثلما رف...   \n",
       "\n",
       "                                             summary  \n",
       "0  يبدأ الكاتب عرض الكتاب الرابع تحت عنوان من الك...  \n",
       "1  دبلوماسيو الدولتين لم يعترفوا بالعريضة التي قا...  \n",
       "2  أعلن غورو الانتداب الفرنسي على سوريا لكي يعاقب...  \n",
       "3  مصر هي أم البلاد، وقائدة العرب؛ فهي أرض بلاد ا...  \n",
       "4  الشعب السوري يصر على استقلال بلدهم من السيطرة ...  "
      ]
     },
     "execution_count": 3,
     "metadata": {},
     "output_type": "execute_result"
    }
   ],
   "source": [
    "DF = pd.read_json('../Datasets/AIC Val/ds.jsonl', lines=True)\n",
    "DF.head()\n",
    "# DF = pd.read_csv('../Datasets\\WikiHow\\wikiHow.csv', nrows=2000)\n",
    "# DF.columns = ['summary', 'paragraph']\n",
    "# DF"
   ]
  },
  {
   "cell_type": "code",
   "execution_count": 4,
   "metadata": {},
   "outputs": [],
   "source": [
    "Paragraphs = DF['paragraph'].tolist()\n",
    "Summaries = DF['summary'].tolist()"
   ]
  },
  {
   "cell_type": "code",
   "execution_count": 5,
   "metadata": {},
   "outputs": [],
   "source": [
    "Train_Paragraphs, Test_Paragraphs, Train_Summaries, Test_Summaries = train_test_split(Paragraphs, Summaries, test_size=0.2, random_state=42)\n",
    "Train_Paragraphs, Validation_Paragraphs, Train_Summaries, Validation_Summaries = train_test_split(Train_Paragraphs, Train_Summaries, test_size=0.2, random_state=42)"
   ]
  },
  {
   "cell_type": "code",
   "execution_count": 6,
   "metadata": {},
   "outputs": [
    {
     "name": "stderr",
     "output_type": "stream",
     "text": [
      "The tokenizer class you load from this checkpoint is not the same type as the class this function is called from. It may result in unexpected tokenization. \n",
      "The tokenizer class you load from this checkpoint is 'MBart50Tokenizer'. \n",
      "The class this function is called from is 'MBartTokenizer'.\n",
      "Special tokens have been added in the vocabulary, make sure the associated word embeddings are fine-tuned or trained.\n"
     ]
    }
   ],
   "source": [
    "Model_Name = \"facebook/mbart-large-50\"\n",
    "Tokenizer = MBartTokenizer.from_pretrained(Model_Name)\n",
    "Model = MBartForConditionalGeneration.from_pretrained(Model_Name).to(device)"
   ]
  },
  {
   "cell_type": "code",
   "execution_count": 7,
   "metadata": {},
   "outputs": [],
   "source": [
    "Paragraph_Max_Length = 512\n",
    "Train_Paragraph_Encodings = Tokenizer(Train_Paragraphs, truncation=True, max_length=Paragraph_Max_Length, padding=\"max_length\", return_tensors=\"pt\").to(device)\n",
    "Validation_Paragraph_Encodings = Tokenizer(Validation_Paragraphs, truncation=True, max_length=Paragraph_Max_Length, padding=\"max_length\", return_tensors=\"pt\").to(device)\n",
    "Test_Paragraph_Encodings = Tokenizer(Test_Paragraphs, truncation=True, max_length=Paragraph_Max_Length, padding=\"max_length\", return_tensors=\"pt\").to(device)\n",
    "\n",
    "Summary_Max_Length = 64\n",
    "Train_Summary_Encodings = Tokenizer(Train_Summaries, truncation=True, max_length=Summary_Max_Length, padding=\"max_length\", return_tensors=\"pt\").to(device)\n",
    "Validation_Summary_Encodings = Tokenizer(Validation_Summaries, truncation=True, max_length=Summary_Max_Length, padding=\"max_length\", return_tensors=\"pt\").to(device)\n",
    "Test_Summary_Encodings = Tokenizer(Test_Summaries, truncation=True, max_length=Summary_Max_Length, padding=\"max_length\", return_tensors=\"pt\").to(device)"
   ]
  },
  {
   "cell_type": "code",
   "execution_count": 8,
   "metadata": {},
   "outputs": [],
   "source": [
    "class CustomDataset(torch.utils.data.Dataset):\n",
    "    def __init__(self, input_ids, attention_mask, decoder_input_ids, decoder_attention_mask):\n",
    "        self.input_ids = input_ids.to(device)\n",
    "        self.attention_mask = attention_mask.to(device)\n",
    "        self.decoder_input_ids = decoder_input_ids.to(device)\n",
    "        self.decoder_attention_mask = decoder_attention_mask.to(device)\n",
    "\n",
    "    def __len__(self):\n",
    "        return len(self.input_ids)\n",
    "\n",
    "    def __getitem__(self, idx):\n",
    "        return {\n",
    "            \"input_ids\": self.input_ids[idx],\n",
    "            \"attention_mask\": self.attention_mask[idx],\n",
    "            \"decoder_input_ids\": self.decoder_input_ids[idx],\n",
    "            \"decoder_attention_mask\": self.decoder_attention_mask[idx]\n",
    "        }"
   ]
  },
  {
   "cell_type": "code",
   "execution_count": 9,
   "metadata": {},
   "outputs": [],
   "source": [
    "Train_Dataset = CustomDataset(\n",
    "    Train_Paragraph_Encodings['input_ids'],\n",
    "    Train_Paragraph_Encodings['attention_mask'],\n",
    "    Train_Summary_Encodings['input_ids'],\n",
    "    Train_Summary_Encodings['attention_mask']\n",
    ")\n",
    "\n",
    "Validation_Dataset = CustomDataset(\n",
    "    Validation_Paragraph_Encodings['input_ids'],\n",
    "    Validation_Paragraph_Encodings['attention_mask'],\n",
    "    Validation_Summary_Encodings['input_ids'],\n",
    "    Validation_Summary_Encodings['attention_mask']\n",
    ")\n",
    "\n",
    "Test_Dataset = CustomDataset(\n",
    "    Test_Paragraph_Encodings['input_ids'],\n",
    "    Test_Paragraph_Encodings['attention_mask'],\n",
    "    Test_Summary_Encodings['input_ids'],\n",
    "    Test_Summary_Encodings['attention_mask']\n",
    ")"
   ]
  },
  {
   "cell_type": "code",
   "execution_count": 10,
   "metadata": {},
   "outputs": [],
   "source": [
    "Train_Dataloader = DataLoader(Train_Dataset, batch_size=1)\n",
    "Validation_Dataloader = DataLoader(Validation_Dataset, batch_size=1)\n",
    "Test_Dataloader = DataLoader(Test_Dataset, batch_size=1)"
   ]
  },
  {
   "cell_type": "code",
   "execution_count": 11,
   "metadata": {},
   "outputs": [],
   "source": [
    "Scorer = rouge_scorer.RougeScorer(['rouge1', 'rouge2', 'rougeL'])"
   ]
  },
  {
   "cell_type": "code",
   "execution_count": 12,
   "metadata": {},
   "outputs": [
    {
     "name": "stderr",
     "output_type": "stream",
     "text": [
      "Epoch 1/5:   0%|          | 0/98 [00:00<?, ?batch/s]"
     ]
    },
    {
     "name": "stderr",
     "output_type": "stream",
     "text": [
      "Epoch 1/5: 100%|██████████| 98/98 [07:28<00:00,  4.57s/batch, Loss_Average=2.45, Rouge1_Average=0.0748, Rouge2_Average=0, RougeL_Average=0.0748, loss=0.118] \n",
      "Epoch 2/5: 100%|██████████| 98/98 [07:37<00:00,  4.67s/batch, Loss_Average=0.042, Rouge1_Average=0.187, Rouge2_Average=0.0306, RougeL_Average=0.187, loss=0.00954] \n",
      "Epoch 3/5: 100%|██████████| 98/98 [07:29<00:00,  4.59s/batch, Loss_Average=0.0121, Rouge1_Average=0.194, Rouge2_Average=0.0408, RougeL_Average=0.194, loss=0.00455] \n",
      "Epoch 4/5: 100%|██████████| 98/98 [07:21<00:00,  4.50s/batch, Loss_Average=0.00659, Rouge1_Average=0.194, Rouge2_Average=0.0408, RougeL_Average=0.194, loss=0.00255]\n",
      "Epoch 5/5: 100%|██████████| 98/98 [07:28<00:00,  4.57s/batch, Loss_Average=0.0047, Rouge1_Average=0.194, Rouge2_Average=0.0408, RougeL_Average=0.194, loss=0.00215]  \n"
     ]
    }
   ],
   "source": [
    "Optimizer = torch.optim.AdamW(Model.parameters(), lr=1e-5)\n",
    "Criterion = torch.nn.CrossEntropyLoss().to(device)\n",
    "\n",
    "Epochs_Number = 5\n",
    "\n",
    "for Epoch in range(Epochs_Number):\n",
    "    Model.train()\n",
    "    Total_Loss = 0\n",
    "\n",
    "    Total_Rouge1 = 0.0\n",
    "    Total_Rouge2 = 0.0\n",
    "    Total_RougeL = 0.0\n",
    "    Total_Batches = 0\n",
    "    with tqdm(Train_Dataloader, desc=f\"Epoch {Epoch + 1}/{Epochs_Number}\",  unit=\"batch\") as t:\n",
    "        for Batch in t:\n",
    "            Input_IDs = Batch[\"input_ids\"].to(device)\n",
    "            Attention_Mask = Batch[\"attention_mask\"].to(device)\n",
    "            Decoder_Input_IDs = Batch[\"decoder_input_ids\"].to(device)\n",
    "            Decoder_Attention_Mask = Batch[\"decoder_attention_mask\"].to(device)\n",
    "\n",
    "            # print(\"Input IDs Shape:\", Input_IDs.shape)\n",
    "            # print(\"Attention Mask Shape:\", Attention_Mask.shape)\n",
    "            # print(\"Decoder Input IDs Shape:\", Decoder_Input_IDs.shape)\n",
    "            # print(\"Decoder Attention Mask Shape:\", Decoder_Attention_Mask.shape)\n",
    "\n",
    "            Outputs = Model(\n",
    "                input_ids=Input_IDs,\n",
    "                attention_mask=Attention_Mask,\n",
    "                decoder_input_ids=Decoder_Input_IDs,\n",
    "                decoder_attention_mask=Decoder_Attention_Mask,\n",
    "                labels=Decoder_Input_IDs\n",
    "            )\n",
    "\n",
    "            # IDs = Tokenizer.batch_decode(Input_IDs, skip_special_tokens=True)\n",
    "            # decoded_output = Tokenizer.batch_decode(Outputs.logits.argmax(dim=-1), skip_special_tokens=True)\n",
    "            # print(IDs)\n",
    "            # print(decoded_output)\n",
    "\n",
    "            Loss = Outputs.loss\n",
    "            Total_Loss += Loss.item()\n",
    "\n",
    "            Optimizer.zero_grad()\n",
    "            Loss.backward()\n",
    "            Optimizer.step()\n",
    "\n",
    "            Reference_sentences = Tokenizer.batch_decode(Decoder_Input_IDs, skip_special_tokens=True)\n",
    "            Generated_sentences = Tokenizer.batch_decode(Outputs.logits.argmax(dim=-1), skip_special_tokens=True)\n",
    "\n",
    "            Scores = Scorer.score(''.join(Reference_sentences), ''.join(Generated_sentences))\n",
    "            Total_Rouge1 += Scores['rouge1'].fmeasure\n",
    "            Total_Rouge2 += Scores['rouge2'].fmeasure\n",
    "            Total_RougeL += Scores['rougeL'].fmeasure\n",
    "            Total_Batches += 1\n",
    "\n",
    "            t.set_postfix(\n",
    "                Loss_Average=Total_Loss / len(Train_Dataloader),\n",
    "                loss=Loss.item(),\n",
    "                Rouge1_Average=Total_Rouge1 / Total_Batches,\n",
    "                Rouge2_Average=Total_Rouge2 / Total_Batches,\n",
    "                RougeL_Average=Total_RougeL / Total_Batches\n",
    "            )"
   ]
  },
  {
   "cell_type": "code",
   "execution_count": 12,
   "metadata": {},
   "outputs": [],
   "source": [
    "Model_Save_Path = 'mBart.pt'"
   ]
  },
  {
   "cell_type": "code",
   "execution_count": null,
   "metadata": {},
   "outputs": [],
   "source": [
    "torch.save(Model.state_dict(), Model_Save_Path)"
   ]
  },
  {
   "cell_type": "code",
   "execution_count": 13,
   "metadata": {},
   "outputs": [
    {
     "data": {
      "text/plain": [
       "<All keys matched successfully>"
      ]
     },
     "execution_count": 13,
     "metadata": {},
     "output_type": "execute_result"
    }
   ],
   "source": [
    "Model.load_state_dict(torch.load(Model_Save_Path, map_location=torch.device(device)))"
   ]
  },
  {
   "cell_type": "code",
   "execution_count": 22,
   "metadata": {},
   "outputs": [
    {
     "data": {
      "text/plain": [
       "tensor([[1, 1, 1,  ..., 0, 0, 0],\n",
       "        [1, 1, 1,  ..., 0, 0, 0],\n",
       "        [1, 1, 1,  ..., 1, 1, 1],\n",
       "        ...,\n",
       "        [1, 1, 1,  ..., 0, 0, 0],\n",
       "        [1, 1, 1,  ..., 1, 1, 1],\n",
       "        [1, 1, 1,  ..., 0, 0, 0]], device='cuda:0')"
      ]
     },
     "execution_count": 22,
     "metadata": {},
     "output_type": "execute_result"
    }
   ],
   "source": [
    "Test_Paragraph_Encodings['input_ids']"
   ]
  },
  {
   "cell_type": "code",
   "execution_count": 26,
   "metadata": {},
   "outputs": [
    {
     "data": {
      "text/plain": [
       "31"
      ]
     },
     "execution_count": 26,
     "metadata": {},
     "output_type": "execute_result"
    }
   ],
   "source": [
    "len(Test_Paragraph_Encodings['input_ids'])"
   ]
  },
  {
   "cell_type": "code",
   "execution_count": 25,
   "metadata": {},
   "outputs": [
    {
     "name": "stderr",
     "output_type": "stream",
     "text": [
      "Testing:   0%|          | 0/31 [00:00<?, ?batch/s]"
     ]
    },
    {
     "name": "stdout",
     "output_type": "stream",
     "text": [
      "['اعلنت \" لجنة جائزة بشارة الخوري للتوعية الديموقراطية \" انها انجزت المسابقة التي نظمتها حول \" دور الرئيس بشارة الخوري في تحقيق الميثاق والاستقلال \" بالتعاون مع وزارة التربية والتعليم العالي وبدعم من \" مؤسسة فريديريتش ايبرت \"، والتي شارك فيها طلاب الصف الثانوي الثاني بفرعيه العلمي والادبي والذين ينتمون الى مدارس رسمية وخاصة في المحافظات اللبنانية ، لافتة الى ان اعلان النتائج وتوزيع الجوائز سيتم خلال احتفال يقام عند الخامسة من بعد ظهر الخميس 30 الحالي في قصر الاونيسكو. واوضحت اللجنة في بيان \" ان المسابقة تناولت تاريخ لبنان الحديث من قيام دولة لبنان الكبير في الاول من ايلول 1920، الى الجلاء في 31 كانون الاول 1946، دور الرئيس بشارة الخوري في تحقيق الوحدة الوطنية واهمية الالتزام بالميثاق الوطني للمحافظة على الاستقلال \". واشارت \" الى ان الطلاب المشاركين اخضعوا في مرحلة اولى لامتحان خطي فاز في نهايته 69 طالبا ، ثم اشترك 17 منهم ممن نالوا العلامات الاعلى في المرحلة الثانية من المسابقة التي تضمنت امتحانا شفهيا امام لجنة فاحصة من الاساتذة المختصين اجابوا فيه على اسئلة تناولت فترة ولادة الاستقلال و الميثاق الوطني ودور الرئيسين بشارة الخوري ورياض الصلح في تلك المرحلة. وفي نتيجة الامتحان الشفهي فاز خمسة طلاب بالجائزة على ان تعلن اللجنة المنظمة عن اسمائهم خلال احتفال الاونيسكو ويتسلمون جوائزهم المادية والمعنوية. وذكرت اللجنة انها \" المرة الاولى التي تمنح فيها \" جائزة بشارة الخوري للتوعية الديموقراطية \" التي بدأ التحضير لها العام الماضي لمناسبة مرور 50 عاما على وفاة اول رئيس للجمهورية اللبنانية المستقلة ، على ان تكون هذه الجائزة سنوية وتخصص للاضاءة على ثوابت الاستقلال اللبناني واسس الميثاق الوطني ومبادئه \". وشكرت الذين تعاونوا لانجاح المسابقة ولاسيما المدير العام لوزارة التربية الدكتور فادي يرق والمسؤولين في الوزارة ومدراء المدارس الرسمية والخاصة التي شارك طلابها فيها والاساتذة الذين تولوا تصحيح المسابقات واجراء الامتحان الشفهي ، ومؤسسة فريدريتش ايبرت التي قدمت الجوائز للفائزين.']\n",
      "['قالت لجنة جائزة بشارة الخوري أنها اجتازت المسابقة التي نظمتها حول بشارة الخوري في أن يحقق الاستقلال، وقام طلبة الصف الثاني الثانوي بالمشاركة في مؤسسة فريديريتش ايبريت، وأن توزيع الجوائز يتم في احتفال يحدث الخامسة بعد الظهر،']\n"
     ]
    },
    {
     "name": "stderr",
     "output_type": "stream",
     "text": [
      "Testing:   3%|▎         | 1/31 [00:04<02:18,  4.63s/batch, Loss_Average=9.67, Rouge1_Average=0, Rouge2_Average=0, RougeL_Average=0, loss=22.7]"
     ]
    },
    {
     "name": "stdout",
     "output_type": "stream",
     "text": [
      "['و لما استولى العباسيون على زمام الأمور أهمل شأن البريد إلى زمن المهدي حين أغزى ابنه هارون الرشيد بلاد الروم ، فرتب بينه وبين معسكر ابنه بردا تأتيه بأخباره ، ولما عاد الرشيد من مهمته توقفت تلك البرد ، وحين تولى الرشيد الخلافة ذكر ما كان من أبيه بشأن البريد فأمر بتنظيمه وقرره على نحو ما كان أيام بني أمية ، وزاد خلفاؤه فيه حتى غدا أشبه بدائرة للاستخبارات والخدمات العاجلة ، وأقيمت محطات البريد في كل أرجاء الخلافة. واستمر أمر البريد على هذا النحو إلى أن غلب بنو بويه على الخلافة فقطعوا البريد ليخفى على الخليفة ما يكون من أخبارهم ، وتابعهم السلاجقة في هذا الأمر ، فلم يكن بين ملوك الإسلام إلا الرسل على الدواب. وفي العهد الزنكي وضع للبريد نظام جديد يقوم على خدمته النجابة ( البريدية ) وخصصت لهم النجائب المنتخبة ، ودام ذلك حتى نهاية الدولة الأيوبية وصعود دولة المماليك. وفي العهد الزنكي أيضا كان ابتداء استخدام الطيور الهوادي ( حمام الزاجل ) في نقل البريد. وكان السلطان الملك العادل نور الدين بن زنكي أول من استخدمه من ملوك الإسلام في نقل الرسائل بانتظام ابتداء من سنة 565 ه. وأقام له مطارات وأبراج في المراكز الرئيسية للدولة ، ورتب لها ديوانا ، واستمرت العناية به في مصر والشام حتى أواسط العصر المملوكي. كذلك ظل نظام النجابة في بداية حكم المماليك على ما عهد في زمن الأيوبيين إلى أن تولى السلطنة الملك الظاهر بيبرس البندقداري (625-676 ه )، فأعاد تنظيمه على نحو ما كان أيام الخلفاء ، وصار للبريدي علامة يجعلها في عنقه يعرف بها فتسهل مهمته ويتسلم خيل البريد. ولم يزل البريد باقيا على ذلك في البلاد المصرية والشامية حتى غشي الشام تيمورلنك ودخل دمشق وخربها سنة 804 ه ، ثم سرى ذلك الإهمال إلى مصر فذهبت معالم البريد منهما وعفت آثاره.']\n",
      "['عندما استولى العباسيين على الأمور ضعف شأن البريد, وغزا هارون الرشيد بلاد الروم، وأمر بتنظيم البريد وزاد حلفاؤه، وفي العهد الزنكي وضع للبريد نظام جديد، وكان نور الدين أول من استخدم الطيور الهوادي في نقل البريد، وأعد لل']\n"
     ]
    },
    {
     "name": "stderr",
     "output_type": "stream",
     "text": [
      "Testing:   6%|▋         | 2/31 [00:09<02:24,  5.00s/batch, Loss_Average=9.93, Rouge1_Average=0, Rouge2_Average=0, RougeL_Average=0, loss=25]  "
     ]
    },
    {
     "name": "stdout",
     "output_type": "stream",
     "text": [
      "['ولم تقتصر مقومات بورسعيد كمدينة عالمية منذ نشأتها على ما تمتعت به من وسائل مدنية وحضارية فحسب بل امتدت أيضا لتشمل الطابع الثقافي للمدينة حيث اتسم مجتمع بورسعيد بطابع ( متعدد الثقافات ) حيث سكنها العديد من الجنسيات والاديان خصوصا من دول البحر المتوسط وأغلبهم من اليونانيين والفرنسيين بجانب المصريين في تعايش وتسامح. وقد تفاعلت بورسعيد مع الاحداث التاريخية والوطنية التي شهدتها مصر في العصر الحديث منذ نشأتها حيث دخل الاحتلال البريطاني مصر من بورسعيد عام 1882، وطوال مدة الاحتلال البريطاني لمصر كانت بورسعيد احدى مواطن المقاومة في مصر وخصوصا بعد اشتعال مدن القناة بالمقاومة للوجود البريطاني بعد الغاء معاهدة 1936، غير ان الحدث الابرز في تاريخ المدينة يبقى صمودها في مواجهة العدوان الثلاثي والذي شنته بريطانيا وفرنسا وإسرائيل على مصر عام 1956 ردا على تأميم الرئيس الراحل جمال عبد الناصر لقناة السويس وهو ما اهلها لحمل لقب المدينة الباسلة واتخاذ يوم 23 ديسمبر من كل عام عيدا قوميا للمدينة ( عيد النصر ) وهو اليوم الذي يوافق تاريخ جلاء اخر جندي بريطاني عن المدينة عام 1956، واستمرت رحلة بورسعيد في مواجهة العدوان على مصر حيث توقف العدوان الإسرائيلي على مصر في حرب 1967 على حدود بورسعيد الشرقية بعد احتلال الشطر الاسيوي من مصر ممثلا في كامل ارض سيناء باستثناء بور فؤاد والتي عجز الجيش الإسرائيلي عن التوغل فيها. وبعد انتصار مصر في حرب أكتوبر عام 1973 بدأت الحياة تعود لبورسعيد عام 1975، وهو نفس العام الذي اعيد فيه افتتاح قناة السويس للملاحة بعد توقفها في اعقاب حرب 1967، وفي عام 1976 اصدر الرئيس محمد أنور السادات قرارا بتحويل المدينة إلى منطقة حرة وهو الأمر الذي جعل المدينة جاذبه للسكان من جميع أنحاء مصر. ان هذا التاريخ الحافل لهذه البلد الباسلة يستحق ان نقف امامه احتراما وتقديرا وان نفكر الف مرة قبل ان نولي عليها من يقود مسيرتها لا نولي عليها مسئول يتوارى خلف ستائر المكاتب فأهل بورسعيد لا يستطيعون التعامل مع هذه النوعية من البشر.. وكما كانت بورسعيد من قبل قبلة السائحين المصريين والاجانب فهي تستحق ان تعود الى سابق عهدها وان تستعيد تاريخها التجاري والسياحي والحضاري.. الحديث عن بورسعيد الآن ذو شجون كبيرة بسبب']\n",
      "['امتدت بورسعيد لكي تشمل الطابع الثقافي للمدينة، وقامت بورسعيد بالتفاعل مع الأحداث التاريخية والوطنية التي عاشتها مصر في العصر الحديث، وكانت بورسعيد في ظل الإحتلال البريطاني كانت من مواطن المقاومة في مصر، وظلت بورسعيد تواجه العدوان على مصر وتوقف العدو']\n"
     ]
    },
    {
     "name": "stderr",
     "output_type": "stream",
     "text": [
      "Testing:  10%|▉         | 3/31 [00:14<02:17,  4.93s/batch, Loss_Average=10.2, Rouge1_Average=0, Rouge2_Average=0, RougeL_Average=0, loss=22.7]"
     ]
    },
    {
     "name": "stdout",
     "output_type": "stream",
     "text": [
      "['يتميز الجنوب العربي بموقع جغرافي فريد يمتد من باب المندب غربا وجبل الشيخ سعيد من على امتداد المداخل الجنوبية للبحر الأحمر ومداخل المحيط الهندي مما جعله يكسب أهمية إستراتيجية جعلته نقطة صراع منذ الحقب التاريخية للتنافس والحماية للمصالح الإستراتيجية والتجارية في المحيط الهندي وباب المندب ليجعل منه جسر دوليا في وسط المحيط الهندي والبحر الأبيض المتوسط. وبهذه المكانة الإستراتيجية للجنوب العربي وجد نفسه هذا الشعب داخل حلقة الصراع الدولي للسياسة التي أفرزتها الحربين العالميتين من بروز سمه جديدة للعصر في الصراع السياسي في ذلك الوقت ( المعسكر الاشتراكي - المعسكر الرأسمالي ) وهذا الصراع أدى إلى بروز حركة التحرر الوطني من الاستعمار في حق تقرير المصير للشعوب والتي أقرتها الأمم المتحدة لتصفية مخلفات الاستعمار لنيل الاستقلال لهذه الشعوب. وباندلاع ثورة 23 يوليو في مصر 1952 م لعبة دورا بارزا في التأثير على مجريات الأمور في الوطن العربي والشرق الأوسط عموما سواء من حيث المفاهيم والمنطلقات الفكرية التي طرحتها كمنهاج وخطة عمل على الصعيد الداخلي أو بالنسبة لمجمل تحالفاتها وعلاقاتها مع القوى والأنظمة القائمة ونظرتها لطبيعة التحالف مع القوى الخارجية. والواقع أن تأثير الثورة على الحركة القومية العربية كان كبيرا لدرجة أنه ما من حزب قومي إلا وطلب ربط مصيره بمصير ثورة مصر التي قادها عبدالناصر وكانت حركة القوميين العرب الأكثر تأثرا بالثورة المصرية. ودخل الجنوب العربي ضمن هذا الصراع القومي لمفهوم الوحدة العربية ويمننة الجنوب على طريق قيام الدولة العربية الموحدة من خلال إنشاء الحركة الوطنية والمتمثلة في مجموعة من التنظيمات السياسية للعمل الوطني وتفعيل دورها مع كافة الشرائح في المجتمع المدني المتمثل في النقابات العمالية والمهنية وغيرها من التحالفات الشعبية لكي تلعب دورا كبيرا في توعية الشعب نحو حركة التحرر الوطني ودعوة إلى دمج إمارات الجنوب العربي مع اليمن على طريق الوحدة العربية وبانتصار ثورة يوليو ودعمها للقوميين قدر لهذا الشعب أن يسجل صفحة من صفحات الدمج ألقسري لهوية وتاريخ وثقافة شعب الجنوب العربي المتأصل في جذور التاريخ الإنساني والحضاري في مملكاته الأولى مثل مملكة حضرموت التي سادة قبل ثمانية عشر قرنا قبل الميلاد ومملكة قتبان التي تعتبر أول دولة أسست نظام برلماني في العصر القديم والذي يعتبر بمثابة']\n",
      "['الجنوب العربي يتميز بموقع متميز يمتد من باب المندب غرباً والمحيط الهندي جنوباً وهذا أكسبه أهمية إستراتيجية ونتيجة هذه الأهمية دخل هذا الشعب في الصراع الدولي وأدي هذا لظهور حركة التحرر الوطني وكان لثورة 1952 دور واضح في التأثير']\n"
     ]
    },
    {
     "name": "stderr",
     "output_type": "stream",
     "text": [
      "Testing:  13%|█▎        | 4/31 [00:20<02:16,  5.07s/batch, Loss_Average=10.4, Rouge1_Average=0.25, Rouge2_Average=0, RougeL_Average=0.25, loss=22.8]"
     ]
    },
    {
     "name": "stdout",
     "output_type": "stream",
     "text": [
      "['لقد ادرك المغول خلال توجههم نحو بغداد ان الخلافة العباسية اصبحت بمفردها تماما وان كل من يمكن ان يساعد الخلافة في صراعها المقبل مع المغول منشغلا في صراعاته الداخلية ، ومن الواضح ان المغول عندما اعدوا حملتهم العسكرية الكبيرة ضد الخلافة العباسية كانوا قد اختبروا القوى الاسلامية في المنطقة سواء بحملاتهم السابقة على الاراضي الاسلامية بين الحين والاخر ، او عن طريق جواسيسهم التي لعبت دروا كبيرا في استمالة بعض الحكام المسلمين بالترهيب والترغيب. ففي بغداد كان هناك الوزير ابن العلقمي الذي ذكر عنه المؤرخون انه كان يكاتب المغول سرا ويحثهم على غزو العراق والاستيلاء على بغداد ([7]). وفي الموصل كان هناك بدر الدين لؤلؤ الذي امد المغول ببعض الات القتال والجنود ، بل و يقال بان ابنه الصالح ركن الدين اسماعيل اشترك مع المغول في الهجوم على بغداد. اما الاوضاع في مصر فقد دخل الصراع على السلطة فيها دورا مثيرا بعد موت الصالح ايوب عام 1249 م ، فقد اندلع الصراع مجددا انتهى بمقتل ابنه توران شاه وزوجته شجر الدر وانتهى بتولي عز الدين ايبك للعرش معلنا بدء السلطنة المملوكية. اما في الشام فكان هناك الناصر يوسف الايوبي الذي كان على علاقة مشبوهة بالمغول وارسل الهدايا و السفارات الى هولاكو. والمعروف ان الناصر يوسف حاول اكثر من مرة تشكيل حلف من بقايا البيت الايوبي في بلاد الشام من اجل الاستيلاء على مصر ، ومن اجل تحقيق غرضه سعى ايضا الى التحالف مع لويس التاسع في اثناء اقامته في عكا بعد رحيله عن مصر ، ولكن لويس التاسع خيب ظنه و لم يستطع التحالف معه بسبب الضغوط التي واجهها من جانب المماليك في مصر ، اذ كان لويس لا يزال مرتبطا بمعاهدة دمياط و شروطها القاسية. فضلا عن ذلك لقد تضافرت عوامل داخلية عدة كانت المسببة لسقوط الخلافة العباسية في اخر الخلفاء العباسيين وهو المستعصم بالله ساعدت المغول على تحقيق اهدافهم وهي']\n",
      "['علم المغول أن الخلافة العباسية أصبحت بمفردها، وكان المغول عندما أعدوا حملتهم اختبروا القوى الإسلامية في المنطقة، من الممكن أنه عن طريق جواسيسهم، في بغداد كان العلقمي يكاتب المغول، وفي الموصل كان بدر الدين يساعد المغول، واندل']\n"
     ]
    },
    {
     "name": "stderr",
     "output_type": "stream",
     "text": [
      "Testing:  16%|█▌        | 5/31 [00:25<02:14,  5.16s/batch, Loss_Average=10.6, Rouge1_Average=0.2, Rouge2_Average=0, RougeL_Average=0.2, loss=23.4]  "
     ]
    },
    {
     "name": "stdout",
     "output_type": "stream",
     "text": [
      "['على سبيل المثال ، في حالة الإسكندر الأكبر في النصف الثاني من القرن الرابع قبل الميلاد ؛ كان هدفه الأول استعادة الأرض التي أخذها الفرس في الأناضول ( تركيا حاليا )، بعد ذلك عمل على توسيع الإمبراطورية اليونانية من خلال هزيمة الفرس في مصر وسوريا وبلاد الرافدين ( العراق حاليا )، وبعد ذلك كان هدفه أسر ملك الفرس المراوغ ، داريوس الثالث ، بنفسه. دخل الإسكندر بلاد فارس واستولى على برسبوليس ، العاصمة القديمة للملك خشايارشا. حرق القصر وباقي المدينة ، التي كانت الأكثر خصوبة وروعة في العالم في هذا الوقت ، وسواها بالأرض ، على ما يبدو انتقاما من الهزائم السابقة التي تعرض لها اليونانيون على يد الفرس. كان هذا عملا تدنيسيا لا يتناسب مع القيم اليونانية للسلوك المتحضر. لم يكن بحاجة لأسر داريوس ؛ فقد عزل الملك الفارسي ، ثم طعن حتى الموت على يد أحد رجاله. أصبح الإسكندر آنذاك حاكما لأكبر إمبراطورية في العالم ، الملك العظيم و سيد آسيا ، ومع ذلك واصل الغزو ، واتجه نحو وسط آسيا. من هذه المرحلة أصبح الإسكندر مستكشفا أكثر منه قائدا ؛ ففي معظم الأحيان لم يكن يعلم إلى أين يذهب ، ومع ذلك وسع الدولة اليونانية شرقا وصولا إلى البنجاب ، مسافة 2500 ميل. قضى 11 عاما في حملاته ، فعليا فترة حكمه بأكملها. كان يقود جيشا يسير معظمه على أقدامه ، لكن مثل القادة التالين له نابليون في 1812 وجنرالات هتلر في 1941 في محاولاتهم على التوالي للاستيلاء على روسيا فقد أفرط أكثر مما ينبغي في طموحاته. فالأراضي التي تؤخذ بالقوة عادة ما تعود إلى السكان الأصليين ؛ ولهذا السبب تنجو الخصائص الثقافية واللغوية لأحد الشعوب عادة من فترات هيمنة قوة أجنبية. لم يعش الإسكندر ليرى إمبراطوريته وهي تنهار ، بل لم تتسن له العودة إلى اليونان ؛ ففي طريقه إلى بلده توفي على أثر حمى ، على الأرجح التيفوس ، في بابل ، وكان في الثالثة والثلاثين فقط من عمره.']\n",
      "['عمل الإسكندر الأكبر على توسيع الإمبراطورية اليونانية من خلال هزيمة الفرس فأسر ملك الفرس المراوغ ، داريوس الثالث ، وحرق قصره وباقي المدينة وسواها بالأرض ، انتقاما من الهزائم السابقة التي تعرض لها اليونانيون']\n"
     ]
    },
    {
     "name": "stderr",
     "output_type": "stream",
     "text": [
      "Testing:  19%|█▉        | 6/31 [00:30<02:11,  5.28s/batch, Loss_Average=10.9, Rouge1_Average=0.167, Rouge2_Average=0, RougeL_Average=0.167, loss=25]"
     ]
    },
    {
     "name": "stdout",
     "output_type": "stream",
     "text": [
      "['أول ذكر للنوبا كما يرى المؤرخون - ورد عند إراتوستين eratosthene (276-196 ق م ) الذي كان أمينا لمكتبة الاسكندرية. وعنه نقل سترابو (63 ق م 24 م ). وقد تمكن إراتوستين بحكم عمله كأمين لمكتبة الاسكندرية من الاطلاع علي المؤلفات السابقه له والتي كتبت عن مروي والمناطق الواقعة جنوبي مصر مثل كتابات داليون وسيمونيد الذي يقال انه زار مروي ومكث فيها عدة سنوات. لذلك يمكن اعتبار ما كتبه إراتوستين عن الأوضاع في السودان راجعا إلى ماقبل القرن الثالث قبل الميلاد. يقول إراتوستين : \" ويسكن النوبا (nubae) الضفة اليسرى [ الغربية ] من النيل في ليبيا وهم قبيلة كبيرة تمتد من مروي وحتى انحناءة النيل ، وليسوا تحت حكم المرويين (aethiopians) بل ينقسمون إلى ممالك مستقلة متعددة.\" وقد أطلق الكتاب اليونانيون اسم ليبيا على كل المناطق الواقعة غربي نهر النيل حتى المحيط الأطلسي ، وفي الواقع فإن ليبيا في مفهومهم كانت تعني افريقيا. وبناء على ذلك فإن قبائل \" النوبا \" كانت في القرن الثالث ق. م. قد خرجت عن طاعة مملكة مروي وكونت وحدات إدارية مستقلة عنها في الصحراء غربي النيل. وحافظت قبائل النوبا على مواقعها واستقلالها من مروي في المناطق الصحراوية غربي االنيل ، فعندما دخل سترابو اسوان عام 24 ق. م. لم يغير ما كتبه إراتوستين عنهم. بل وتأكد ذلك عند الكتاب اللاحقين أيضا مثل بطليموس في القرن الثاني الميلادي الذي ذكر كما نقل عنه اركل - أن النوبا \" nubei يسكنون الساحل الغربي للنيل والأراضي الداخلية \" وفي القرن الثالث دون أجاثمرس agathemerus المعلومات التي ذكرها بطلميوس. وهكذا فقد تواترت الاشارات حتى القرن الثالث الميلادي إلى إطلاق اسم النوبا على السكان الذين استقروا غربي النيل على طول المنطقة الواقعة من كردفان ودارفور جنوبا وحتى شمالي السودان. ويمثل هؤلاء النوبا العنصر الأصلي للسكان في كل تلك المناطق قبل القرن الثالث كما يرى de villard. وتحدث المؤرخ البيزن']\n",
      "['يعتبر إراتوستين أول من تكلم عن النوبا بسبب عمله كأمين لمكتبة الاسكندرية حيث تمكن من الاطلاع علي المؤلفات السابقة له والتي دونت عن مروي والمناطق الواقعة جنوبي مصرككتابات داليون وسيمونيد الذي يقال أنه']\n"
     ]
    },
    {
     "name": "stderr",
     "output_type": "stream",
     "text": [
      "Testing:  23%|██▎       | 7/31 [00:36<02:07,  5.32s/batch, Loss_Average=11.1, Rouge1_Average=0.143, Rouge2_Average=0, RougeL_Average=0.143, loss=23.9]"
     ]
    },
    {
     "name": "stdout",
     "output_type": "stream",
     "text": [
      "['كان لشيوخ الأزهر دور كبير في تنصيب محمد علي واليا على مصر ، فعلماء الأزهر المنتشون بدورهم السياسي الكبير في زمن الحقبة الفرنسية ، شاركوا بقوة في الثورة والاحتجاج على الوالي العثماني أحمد خورشيد باشا ، وطالبوا الباب العالي بتعيين محمد علي بديلا عنه. ولكن بمجرد وصول الداهية الألباني محمد علي إلى كرسي الولاية ، أزاح هؤلاء العلماء جانبا ، حتى يخلو له حكم الأراضي المصرية ، فعمل على ضربهم بعضهم ببعض ، ونسج خيوط مؤامرة لنفي السيد عمر مكرم نقيب الأشراف الأزهري إلى دمياط ، وجرده من ألقابه ومناصبه ، ومن المؤسف أن عددا من كبار العلماء قد اشتركوا في تلك المؤامرة مثل الشيخ عبد الله الشرقاوي والشيخ محمد السادات. ثم وجه محمد علي ضربته الكبرى للأزهر ونفوذه عندما وضع يده على أملاك الأوقاف ، ووضع يده كذلك على كل الأراضي الزراعية في القطر المصري ، وأصبح بذلك مالك كل شيء في مصر. في عهد خلفاء محمد علي الأوائل ، اعتاد رجالات الأزهر على مسايرة الحكام والتوافق معهم ، خوفا من أن يتم تجريدهم من البقية الباقية من نفوذهم الروحي في البلاد ، ولكن ذلك لم يمنع من حدوث بعض الخلافات والمصادمات التي انتشرت وذاعت في كتابات المؤرخين. ففي 1881، ظهر دور الأزهر على الساحة السياسية مرة أخرى ، بعدما شارك العديد من علمائه وشيوخه في دعم وتأييد الثورة العرابية ضد الخديوي توفيق. فرغم أن شيخ الأزهر وقتها ، محمد العباسي المهدي ، كان قد جاهر بمعاداته للنظام الدستوري الذي طالب أحمد عرابي بتطبيقه من جهة ، وأعلن موالاته للسلطة الحاكمة دون النظر إلى مصالح الشعب المصري من جهة أخرى ، إلا أن معظم طلبة العلم وعددا من كبار المشايخ الأزهريين من أمثال محمد عبده ، وأحمد عبد الغني ، وعلي المليجي ، ومحمود إبراهيم وقفوا في صف الجيش وعرابي. وعندما تطور الموقف في يوليو 1882، بإصدار مرسوم من الخديوي يقضي بعزل عرابي من قيادة الجيش وعزل وكبار قادة الجيش الموالين له ، اجتمعت الجمعية الوطنية في مؤتمر حاشد ، وكان من بين الحاضرين شيخ الأزهر الجديد محمد الإنبابي ومفتي المذهب الحنفي محمد مهدي ونقيب الأشراف']\n",
      "['شارك الأزهر سياسيا فثار على الوالى، وأسهم بتولية محمد على بدلا عنه، وبعد توليته أقصاهم لينفرد بالحكم، وأوقع بينهم، وتآمر على عمر مكرم بمعونة بعض العلماء ونفاه وجرده مما هو فيه، واست']\n"
     ]
    },
    {
     "name": "stderr",
     "output_type": "stream",
     "text": [
      "Testing:  26%|██▌       | 8/31 [00:41<02:05,  5.46s/batch, Loss_Average=11.4, Rouge1_Average=0.125, Rouge2_Average=0, RougeL_Average=0.125, loss=24.5]"
     ]
    },
    {
     "name": "stdout",
     "output_type": "stream",
     "text": [
      "['لعبت الحضارة الفينيقية دورا مهما في اكتشاف الأبجدية ونقلها إلى العالم. وعندما نذكر صيدون الفينيقية لا بد أن نذكر الإنجاز الحضاري العظيم الذي قدمته هذه المدينة إلى بلاد اليونان ألا وهو نشر الأبجدية فيها. وهذا ما تؤكده روايات مؤرخي اليونان الذين يذكرون أنهم عرفوا الحروف الهجائية عن طريق الصيدونيين الذين جاءوا إلى بلاد اليونان حوالي سنة 1580 ق. م. صحبة قدموس الذي حمل معه الحروف الهجائية وبنى مدينة تيبة وتملكها. كما كان للحضارة الفينيقية دور مهم في اكتشاف مادة الصباغ الأرجواني وتصديرها إلى العالم ، ( مادة الصباغ الأرجواني موجودة في حيوانات بحرية ذات أصداف تسمى الموريكس وكان لونها أحمر بنفسجيا ، ويتم استعمال هذه المادة في صباغ الحرير والقطن والصوف الناعم ) ويذهب البعض إلى أن مدينة صيدون هي مكتشفة الصباغ الأرجواني بخلاف ما ذكر من أن صور هي مكتشفته ( وجد جبل كامل من هذه الأصداف عند مقام أبا روح على شاطئ صيدا الجنوبي ويعود تاريخها إلى أوائل الألف الثاني قبل الميلاد في حين أن آثار مصانع الأرجوان حول مدينة صور تعود إلى القرن الثاني عشر قبل الميلاد فقط ). والصيدونيون هم أول من اصطنع الزجاج ولا سيما الشفاف منه وأنشأوا لصناعته المعامل المهمة ، وكانت مصانعهم في صيدون والصرفند أشهر معامل من نوعها في العالم المعروف وقتئذ ، وفي متاحف أوروبا الآن الكثير من مصنوعات صيدون الزجاجية الملونة الجميلة. كذلك برع الصيدونيون في صنع الأواني الخزفية فكانت من أخص أصناف تجارتهم وهم أول من نقل هذه الصناعة إلى بلاد اليونان ، كما تفوقوا في صناعة الحفر والنقش وصب الذهب والفضة ومختلف المصنوعات المعدنية. وهم أول من عني بتبليط الشوارع. وأحرزوا في صناعة السفن نصيبا وافرا من المجد والشهرة وكانوا أسبق الأمم إلى ركوب البحر والتوغل فيه.']\n",
      "['إن منجزات الحضارة الفينيقية وأثرها في التمدن لمما يحار العقل فيه ،فهم أصحاب الدور المهم في اكتشاف الأبجدية ونقلها إلى العالم ،وهم أول من اكتشف مادة الصباغ الأرجواني ،وهم أول من صنعوا الزجاج وخاصة الش']\n"
     ]
    },
    {
     "name": "stderr",
     "output_type": "stream",
     "text": [
      "Testing:  26%|██▌       | 8/31 [00:47<02:16,  5.92s/batch, Loss_Average=11.4, Rouge1_Average=0.125, Rouge2_Average=0, RougeL_Average=0.125, loss=24.5]\n"
     ]
    },
    {
     "ename": "KeyboardInterrupt",
     "evalue": "",
     "output_type": "error",
     "traceback": [
      "\u001b[1;31m---------------------------------------------------------------------------\u001b[0m",
      "\u001b[1;31mKeyboardInterrupt\u001b[0m                         Traceback (most recent call last)",
      "Cell \u001b[1;32mIn[25], line 33\u001b[0m\n\u001b[0;32m     29\u001b[0m Total_Loss \u001b[39m+\u001b[39m\u001b[39m=\u001b[39m Loss\u001b[39m.\u001b[39mitem()\n\u001b[0;32m     31\u001b[0m Loss\u001b[39m.\u001b[39mbackward()\n\u001b[1;32m---> 33\u001b[0m Reference_sentences \u001b[39m=\u001b[39m Tokenizer\u001b[39m.\u001b[39;49mbatch_decode(Decoder_Input_IDs, skip_special_tokens\u001b[39m=\u001b[39;49m\u001b[39mTrue\u001b[39;49;00m)\n\u001b[0;32m     34\u001b[0m Generated_sentences \u001b[39m=\u001b[39m Tokenizer\u001b[39m.\u001b[39mbatch_decode(Outputs\u001b[39m.\u001b[39mlogits\u001b[39m.\u001b[39margmax(dim\u001b[39m=\u001b[39m\u001b[39m-\u001b[39m\u001b[39m1\u001b[39m), skip_special_tokens\u001b[39m=\u001b[39m\u001b[39mTrue\u001b[39;00m)\n\u001b[0;32m     36\u001b[0m Scores \u001b[39m=\u001b[39m Scorer\u001b[39m.\u001b[39mscore(\u001b[39m'\u001b[39m\u001b[39m'\u001b[39m\u001b[39m.\u001b[39mjoin(Reference_sentences), \u001b[39m'\u001b[39m\u001b[39m'\u001b[39m\u001b[39m.\u001b[39mjoin(Generated_sentences))\n",
      "File \u001b[1;32mc:\\Anaconda\\envs\\Cuda\\lib\\site-packages\\transformers\\tokenization_utils_base.py:3446\u001b[0m, in \u001b[0;36mPreTrainedTokenizerBase.batch_decode\u001b[1;34m(self, sequences, skip_special_tokens, clean_up_tokenization_spaces, **kwargs)\u001b[0m\n\u001b[0;32m   3422\u001b[0m \u001b[39mdef\u001b[39;00m \u001b[39mbatch_decode\u001b[39m(\n\u001b[0;32m   3423\u001b[0m     \u001b[39mself\u001b[39m,\n\u001b[0;32m   3424\u001b[0m     sequences: Union[List[\u001b[39mint\u001b[39m], List[List[\u001b[39mint\u001b[39m]], \u001b[39m\"\u001b[39m\u001b[39mnp.ndarray\u001b[39m\u001b[39m\"\u001b[39m, \u001b[39m\"\u001b[39m\u001b[39mtorch.Tensor\u001b[39m\u001b[39m\"\u001b[39m, \u001b[39m\"\u001b[39m\u001b[39mtf.Tensor\u001b[39m\u001b[39m\"\u001b[39m],\n\u001b[1;32m   (...)\u001b[0m\n\u001b[0;32m   3427\u001b[0m     \u001b[39m*\u001b[39m\u001b[39m*\u001b[39mkwargs,\n\u001b[0;32m   3428\u001b[0m ) \u001b[39m-\u001b[39m\u001b[39m>\u001b[39m List[\u001b[39mstr\u001b[39m]:\n\u001b[0;32m   3429\u001b[0m \u001b[39m    \u001b[39m\u001b[39m\"\"\"\u001b[39;00m\n\u001b[0;32m   3430\u001b[0m \u001b[39m    Convert a list of lists of token ids into a list of strings by calling decode.\u001b[39;00m\n\u001b[0;32m   3431\u001b[0m \n\u001b[1;32m   (...)\u001b[0m\n\u001b[0;32m   3444\u001b[0m \u001b[39m        `List[str]`: The list of decoded sentences.\u001b[39;00m\n\u001b[0;32m   3445\u001b[0m \u001b[39m    \"\"\"\u001b[39;00m\n\u001b[1;32m-> 3446\u001b[0m     \u001b[39mreturn\u001b[39;00m [\n\u001b[0;32m   3447\u001b[0m         \u001b[39mself\u001b[39m\u001b[39m.\u001b[39mdecode(\n\u001b[0;32m   3448\u001b[0m             seq,\n\u001b[0;32m   3449\u001b[0m             skip_special_tokens\u001b[39m=\u001b[39mskip_special_tokens,\n\u001b[0;32m   3450\u001b[0m             clean_up_tokenization_spaces\u001b[39m=\u001b[39mclean_up_tokenization_spaces,\n\u001b[0;32m   3451\u001b[0m             \u001b[39m*\u001b[39m\u001b[39m*\u001b[39mkwargs,\n\u001b[0;32m   3452\u001b[0m         )\n\u001b[0;32m   3453\u001b[0m         \u001b[39mfor\u001b[39;00m seq \u001b[39min\u001b[39;00m sequences\n\u001b[0;32m   3454\u001b[0m     ]\n",
      "File \u001b[1;32mc:\\Anaconda\\envs\\Cuda\\lib\\site-packages\\transformers\\tokenization_utils_base.py:3447\u001b[0m, in \u001b[0;36m<listcomp>\u001b[1;34m(.0)\u001b[0m\n\u001b[0;32m   3422\u001b[0m \u001b[39mdef\u001b[39;00m \u001b[39mbatch_decode\u001b[39m(\n\u001b[0;32m   3423\u001b[0m     \u001b[39mself\u001b[39m,\n\u001b[0;32m   3424\u001b[0m     sequences: Union[List[\u001b[39mint\u001b[39m], List[List[\u001b[39mint\u001b[39m]], \u001b[39m\"\u001b[39m\u001b[39mnp.ndarray\u001b[39m\u001b[39m\"\u001b[39m, \u001b[39m\"\u001b[39m\u001b[39mtorch.Tensor\u001b[39m\u001b[39m\"\u001b[39m, \u001b[39m\"\u001b[39m\u001b[39mtf.Tensor\u001b[39m\u001b[39m\"\u001b[39m],\n\u001b[1;32m   (...)\u001b[0m\n\u001b[0;32m   3427\u001b[0m     \u001b[39m*\u001b[39m\u001b[39m*\u001b[39mkwargs,\n\u001b[0;32m   3428\u001b[0m ) \u001b[39m-\u001b[39m\u001b[39m>\u001b[39m List[\u001b[39mstr\u001b[39m]:\n\u001b[0;32m   3429\u001b[0m \u001b[39m    \u001b[39m\u001b[39m\"\"\"\u001b[39;00m\n\u001b[0;32m   3430\u001b[0m \u001b[39m    Convert a list of lists of token ids into a list of strings by calling decode.\u001b[39;00m\n\u001b[0;32m   3431\u001b[0m \n\u001b[1;32m   (...)\u001b[0m\n\u001b[0;32m   3444\u001b[0m \u001b[39m        `List[str]`: The list of decoded sentences.\u001b[39;00m\n\u001b[0;32m   3445\u001b[0m \u001b[39m    \"\"\"\u001b[39;00m\n\u001b[0;32m   3446\u001b[0m     \u001b[39mreturn\u001b[39;00m [\n\u001b[1;32m-> 3447\u001b[0m         \u001b[39mself\u001b[39m\u001b[39m.\u001b[39mdecode(\n\u001b[0;32m   3448\u001b[0m             seq,\n\u001b[0;32m   3449\u001b[0m             skip_special_tokens\u001b[39m=\u001b[39mskip_special_tokens,\n\u001b[0;32m   3450\u001b[0m             clean_up_tokenization_spaces\u001b[39m=\u001b[39mclean_up_tokenization_spaces,\n\u001b[0;32m   3451\u001b[0m             \u001b[39m*\u001b[39m\u001b[39m*\u001b[39mkwargs,\n\u001b[0;32m   3452\u001b[0m         )\n\u001b[0;32m   3453\u001b[0m         \u001b[39mfor\u001b[39;00m seq \u001b[39min\u001b[39;00m sequences\n\u001b[0;32m   3454\u001b[0m     ]\n",
      "File \u001b[1;32mc:\\Anaconda\\envs\\Cuda\\lib\\site-packages\\transformers\\tokenization_utils_base.py:3484\u001b[0m, in \u001b[0;36mPreTrainedTokenizerBase.decode\u001b[1;34m(self, token_ids, skip_special_tokens, clean_up_tokenization_spaces, **kwargs)\u001b[0m\n\u001b[0;32m   3463\u001b[0m \u001b[39m\u001b[39m\u001b[39m\"\"\"\u001b[39;00m\n\u001b[0;32m   3464\u001b[0m \u001b[39mConverts a sequence of ids in a string, using the tokenizer and vocabulary with options to remove special\u001b[39;00m\n\u001b[0;32m   3465\u001b[0m \u001b[39mtokens and clean up tokenization spaces.\u001b[39;00m\n\u001b[1;32m   (...)\u001b[0m\n\u001b[0;32m   3481\u001b[0m \u001b[39m    `str`: The decoded sentence.\u001b[39;00m\n\u001b[0;32m   3482\u001b[0m \u001b[39m\"\"\"\u001b[39;00m\n\u001b[0;32m   3483\u001b[0m \u001b[39m# Convert inputs to python lists\u001b[39;00m\n\u001b[1;32m-> 3484\u001b[0m token_ids \u001b[39m=\u001b[39m to_py_obj(token_ids)\n\u001b[0;32m   3486\u001b[0m \u001b[39mreturn\u001b[39;00m \u001b[39mself\u001b[39m\u001b[39m.\u001b[39m_decode(\n\u001b[0;32m   3487\u001b[0m     token_ids\u001b[39m=\u001b[39mtoken_ids,\n\u001b[0;32m   3488\u001b[0m     skip_special_tokens\u001b[39m=\u001b[39mskip_special_tokens,\n\u001b[0;32m   3489\u001b[0m     clean_up_tokenization_spaces\u001b[39m=\u001b[39mclean_up_tokenization_spaces,\n\u001b[0;32m   3490\u001b[0m     \u001b[39m*\u001b[39m\u001b[39m*\u001b[39mkwargs,\n\u001b[0;32m   3491\u001b[0m )\n",
      "File \u001b[1;32mc:\\Anaconda\\envs\\Cuda\\lib\\site-packages\\transformers\\utils\\generic.py:193\u001b[0m, in \u001b[0;36mto_py_obj\u001b[1;34m(obj)\u001b[0m\n\u001b[0;32m    191\u001b[0m     \u001b[39mreturn\u001b[39;00m obj\u001b[39m.\u001b[39mnumpy()\u001b[39m.\u001b[39mtolist()\n\u001b[0;32m    192\u001b[0m \u001b[39melif\u001b[39;00m is_torch_tensor(obj):\n\u001b[1;32m--> 193\u001b[0m     \u001b[39mreturn\u001b[39;00m obj\u001b[39m.\u001b[39;49mdetach()\u001b[39m.\u001b[39;49mcpu()\u001b[39m.\u001b[39mtolist()\n\u001b[0;32m    194\u001b[0m \u001b[39melif\u001b[39;00m is_jax_tensor(obj):\n\u001b[0;32m    195\u001b[0m     \u001b[39mreturn\u001b[39;00m np\u001b[39m.\u001b[39masarray(obj)\u001b[39m.\u001b[39mtolist()\n",
      "\u001b[1;31mKeyboardInterrupt\u001b[0m: "
     ]
    }
   ],
   "source": [
    "Total_Rouge1 = 0.0\n",
    "Total_Rouge2 = 0.0\n",
    "Total_RougeL = 0.0\n",
    "Total_Batches = 0\n",
    "with tqdm(Test_Dataloader, desc=\"Testing: \",  unit=\"batch\") as t:\n",
    "    for Batch in t:\n",
    "        Input_IDs = Batch[\"input_ids\"].to(device)\n",
    "        Attention_Mask = Batch[\"attention_mask\"].to(device)\n",
    "        Decoder_Input_IDs = Batch[\"decoder_input_ids\"].to(device)\n",
    "        Decoder_Attention_Mask = Batch[\"decoder_attention_mask\"].to(device)\n",
    "\n",
    "        # print(\"Input IDs Shape:\", Input_IDs.shape)\n",
    "        # print(\"Attention Mask Shape:\", Attention_Mask.shape)\n",
    "        # print(\"Decoder Input IDs Shape:\", Decoder_Input_IDs.shape)\n",
    "        # print(\"Decoder Attention Mask Shape:\", Decoder_Attention_Mask.shape)\n",
    "\n",
    "        Outputs = Model(\n",
    "            input_ids=Input_IDs,\n",
    "            attention_mask=Attention_Mask,\n",
    "            labels=Decoder_Input_IDs\n",
    "        )\n",
    "\n",
    "        IDs = Tokenizer.batch_decode(Input_IDs, skip_special_tokens=True)\n",
    "        Decoded_Output = Tokenizer.batch_decode(Outputs.logits.argmax(dim=-1), skip_special_tokens=True)\n",
    "        print(IDs)\n",
    "        print(Decoded_Output)\n",
    "\n",
    "        Loss = Outputs.loss\n",
    "        Total_Loss += Loss.item()\n",
    "\n",
    "        Loss.backward()\n",
    "\n",
    "        Reference_sentences = Tokenizer.batch_decode(Decoder_Input_IDs, skip_special_tokens=True)\n",
    "        Generated_sentences = Tokenizer.batch_decode(Outputs.logits.argmax(dim=-1), skip_special_tokens=True)\n",
    "\n",
    "        Scores = Scorer.score(''.join(Reference_sentences), ''.join(Generated_sentences))\n",
    "        Total_Rouge1 += Scores['rouge1'].fmeasure\n",
    "        Total_Rouge2 += Scores['rouge2'].fmeasure\n",
    "        Total_RougeL += Scores['rougeL'].fmeasure\n",
    "        Total_Batches += 1\n",
    "\n",
    "        t.set_postfix(\n",
    "            Loss_Average=Total_Loss / len(Train_Dataloader),\n",
    "            loss=Loss.item(),\n",
    "            Rouge1_Average=Total_Rouge1 / Total_Batches,\n",
    "            Rouge2_Average=Total_Rouge2 / Total_Batches,\n",
    "            RougeL_Average=Total_RougeL / Total_Batches\n",
    "        )"
   ]
  },
  {
   "cell_type": "code",
   "execution_count": 19,
   "metadata": {},
   "outputs": [
    {
     "name": "stderr",
     "output_type": "stream",
     "text": [
      "Testing:   0%|          | 0/98 [00:00<?, ?batch/s]"
     ]
    },
    {
     "name": "stderr",
     "output_type": "stream",
     "text": [
      "Testing:   1%|          | 1/98 [00:00<01:32,  1.05batch/s, Rouge1_Average=0, Rouge2_Average=0, RougeL_Average=0]"
     ]
    },
    {
     "name": "stdout",
     "output_type": "stream",
     "text": [
      "['التاريخ يقول ان غزو \" ا آشوريا \" لمصر حصل في القرن السابع قبل الميلاد واحتلت على اثره مصر لمدة تقارب المائة سنة تخللها مقاومة وحروب وقلاقل وثورات من المصريين لمقاومة الاحتلال الآشوري وفي النهاية استطاع المصريون طرد الآشوريين الغزاة لكن ما لبثوا ان غزاهم الفرس في منتصف القرن السادس قبل الميلاد وسقطت مصر في أيدي الفرس ورزحت تحت الاحتلال الفارسي قرابة 180 سنة بعد ان احتلها الآشوريون لمدة تقارب قرنا من الزمان ثم جاء اليونانيون بقيادة الإسكندر الأكبر المقدوني واحتل مصر وانهى الحقبة الفارسية في مصر واستمر حكم البطالمة لمصر قرابة ثلاثة قرون وما كادت مصر تخرج من نفوذ الحكم اليوناني حتى وقعت تحت الحكم الروماني واسمر حتى سقط على يد عمرو بن العاص فدخلت مصر تحت حكم العرب الى اليوم وان كان تخلله فترات حكم مصر خلالها المماليك والاخشيديون وأخيرا العثمانيون الأتراك وخضعت فترة قصيرة للانتداب البريطاني حتى نالت استقلالها وتأسست جمهورية مصر الحديثة واذا استثنينا فترة الانتداب البريطاني فان كل الحكومات من بعد الفتح الاسلامي لمصر حكومات إسلامية.. ومنذ الفتح الاسلامي لمصر توافد العرب زرافات الى مصر من جزيرة العرب ونلاحظ ان تاريخ مصر السياسي والحضاري المدون بدأ منذ تول الاسرة الفرعونية الاولى قبل 3500 سنة قبل الميلاد وهي بهذا تعد اقدم حضارة في العالم تم تدوينها.. وكان الحكام والمحكومين وقتها افارقة محليين يمكن ان نقول عنهم اصحاب السلالة الجينية e وهي السلالة الجينية لافارقة جنوب الصحراء ( أمازيغ ونوبيين وحبش ).. وانتهى حكم مصر وخرج من أيدي الحكام المحليين بدخول الإسكندر الأكبر المقدوني لمصر.. وفي ظني ان السلالة الجينية j2 دخلت مصر مع قدوم الآشوريين والفرس الى مصر ودخلت السلالة الجينية j1 مع دخول الآشوريين ايضا لان بعض الساميين اختلطوا مع الاشوريين في الامبراطورية الآشورية وكانوا ضمن المكون الاجتماعي في الإمبراطوريات الاشورية والبابلية والسومرية في العراق والشام لكن ازداد ضخ السلالة الجينية j1 في مصر بعد الفتح الاسلامي لمصر ومن']\n",
      "['التاريخ يقول ان غزو \" ا آشوريا \" لمصر حصل في القرن السابع قبل الميلاد واحتلت على اثره مصر لمدة تقارب المائة سنة تخللها مقاومة وحروب وقلاقل وثورات من المصريين لمقاومة الاحتلال الآشوري وفي النهاية استطاع المصريون طرد الآشوريين الغزاة لكن ما لبثوا ان غزاهم الفرس في منتصف القرن السادس قبل الميلاد وسقطت مصر في أيدي الفرس ورزحت تحت الاحتلال الفارسي قرابة 180 سنة بعد ان احتلها الآشوريون لمدة تقارب قرنا من الزمان ثم جاء اليونانيون بقيادة الإسكندر الأكبر المقدوني واحتل مصر وانهى الحقبة الفارسية في مصر واستمر حكم البطالمة لمصر قرابة ثلاثة قرون وما كادت مصر تخرج من نفوذ الحكم اليوناني حتى وقعت تحت الحكم الروماني واسمر حتى سقط على يد عمرو بن العاص فدخلت مصر تحت حكم العرب الى اليوم وان كان تخلله فترات حكم مصر خلالها المماليك والاخشيديون وأخيرا العثمانيون الأتراك وخضعت فترة قصيرة للانتداب البريطاني حتى نالت استقلالها وتأسست جمهورية مصر الحديثة واذا استثنينا فترة الانتداب البريطاني فان كل الحكومات من بعد الفتح الاسلامي لمصر حكومات إسلامية.. ومنذ الفتح الاسلامي لمصر توافد العرب زرافات الى مصر من جزيرة العرب ونلاحظ ان تاريخ مصر السياسي والحضاري المدون بدأ منذ تول الاسرة الفرعونية الاولى قبل 3500 سنة قبل الميلاد وهي بهذا تعد اقدم حضارة في العالم تم تدوينها.. وكان الحكام والمحكومين وقتها افارقة محليين يمكن ان نقول عنهم اصحاب السلالة الجينية e وهي السلالة الجينية لافارقة جنوب الصحراء ( أمازيغ ونوبيين وحبش ).. وانتهى حكم مصر وخرج من أيدي الحكام المحليين بدخول الإسكندر الأكبر المقدوني لمصر.. وفي ظني ان السلالة الجينية j2 دخلت مصر مع قدوم الآشوريين والفرس الى مصر ودخلت السلالة الجينية j1 مع دخول الآشوريين ايضا لان بعض الساميين اختلطوا مع الاشوريين في الامبراطورية الآشورية وكانوا ضمن المكون الاجتماعي في الإمبراطوريات الاشورية والبابلية والسومرية في العراق والشام لكن ازداد ضخ السلالة الجينية j1 في مصر بعد الفتح الاسلامي لمصر ومن']\n",
      "['سعت بريطانيا ولأسباب متعلقة بأزمتها أثناء وبعد الحرب العالمية الأولى ، إلى إستصدار ذلك الوعد لمواجهة المسألتين ، \" المسألة الشرقية \" و \" المسألة اليهودية \" عبرت الأولى عن مظاهر ضعف وإنهيار الدولة العثمانية وبروز أطماع دولية من الدول الاستعمارية الاوروبية في تركة الرجل المريض ، وتفاقم الصراع الدولي في حينه وأدى إلى الحرب العالمية الأولى ، التي وجدت بريطانيا نفسها عشيتها وأثناءها مهددة بخسارة نفوذها في العديد من مستعمراتها ، ليس فقط لصالح أعدائها بل لصالح حلفائها أيضا ، كفرنسا التي كان لها أطماع واضحة متعلقة بمصر والشام وفلسطين ، خاصة منابع المياه وقناة السويس ، ما دفع بريطانيا إلى توقيع اتفاقية سرية مع فرنسا هي اتفاقية سايكس بيكو ، كشفتها الثورة البلشيفية بعد انتصاها على حكم القيصر ، وكانت روسيا طرفا في تلك الاتفاقية ، المسألة الثانية هي المسألة اليهودية وتمثلت بأفواج المهاجرين اليهود الهاربين من اضطهاد الدولة الروسية إلى أوروبا ، والذين شكلوا تهديد إجتماعي وسياسي بسبب نمط الحياة الغريب الذي اتبعوه في حصر أنفسهم في مجتمعات مغلقة سميت الغيتو ، صعبت اندماجهم في الدول التي هاجروا إليها ، وكانت بريطانيا نفسها قد أصدرت مجموعة من القوانين ضد الهجرة اليهودية من روسيا إلى أوروبا ، بمبادرة من آرثر بلفور نفسه عندما كان رئيس للوزراء ما بين سنوات 1903 1905، ولم تكن أي من الأسباب التي ادعاها بلفور بعد ذلك كتبرير لوعده لليهود بفلسطين والمتعلقة بالتعاطف الديني والنزوع لتأييد المطالبة بحقوق تاريخية لليهود في فلسطين يشغل بال بريطانيا أو بلفور ، الأمر الذي رفضه غالبية يهود بريطانيا بما فيهم وزراء في حكومة جون ويلد التي أقرت الوعد ، بل تمكن إدوين مونتاجو وزير شؤون الهند من اسقاط مصادقة البرلمان البريطاني على رسالة بلفور في المرة الأولى حين عرضت على البرلمان ، مستغلا تغيب بفلور وجون ويلد عن الجلسة ، كما ولم تكن الأسباب التي ادعاها حاييم وايزمان المتعلقة باكتشافاته العلمية عن فعالية الآسيتون في الصناعات العسكرية لها أي وزن حقيقي في استصدار الوعد المشؤوم ، فقد كان اللقاء الأول الذي جمع وايزمن ببلفور هو فاتحة التقاط بلفور لفكرة إنشاء جسم']\n",
      "['سعت بريطانيا ولأسباب متعلقة بأزمتها أثناء وبعد الحرب العالمية الأولى ، إلى إستصدار ذلك الوعد لمواجهة المسألتين ، \" المسألة الشرقية \" و \" المسألة اليهودية \" عبرت الأولى عن مظاهر ضعف وإنهيار الدولة العثمانية وبروز أطماع دولية من الدول الاستعمارية الاوروبية في تركة الرجل المريض ، وتفاقم الصراع الدولي في حينه وأدى إلى الحرب العالمية الأولى ، التي وجدت بريطانيا نفسها عشيتها وأثناءها مهددة بخسارة نفوذها في العديد من مستعمراتها ، ليس فقط لصالح أعدائها بل لصالح حلفائها أيضا ، كفرنسا التي كان لها أطماع واضحة متعلقة بمصر والشام وفلسطين ، خاصة منابع المياه وقناة السويس ، ما دفع بريطانيا إلى توقيع اتفاقية سرية مع فرنسا هي اتفاقية سايكس بيكو ، كشفتها الثورة البلشيفية بعد انتصاها على حكم القيصر ، وكانت روسيا طرفا في تلك الاتفاقية ، المسألة الثانية هي المسألة اليهودية وتمثلت بأفواج المهاجرين اليهود الهاربين من اضطهاد الدولة الروسية إلى أوروبا ، والذين شكلوا تهديد إجتماعي وسياسي بسبب نمط الحياة الغريب الذي اتبعوه في حصر أنفسهم في مجتمعات مغلقة سميت الغيتو ، صعبت اندماجهم في الدول التي هاجروا إليها ، وكانت بريطانيا نفسها قد أصدرت مجموعة من القوانين ضد الهجرة اليهودية من روسيا إلى أوروبا ، بمبادرة من آرثر بلفور نفسه عندما كان رئيس للوزراء ما بين سنوات 1903 1905، ولم تكن أي من الأسباب التي ادعاها بلفور بعد ذلك كتبرير لوعده لليهود بفلسطين والمتعلقة بالتعاطف الديني والنزوع لتأييد المطالبة بحقوق تاريخية لليهود في فلسطين يشغل بال بريطانيا أو بلفور ، الأمر الذي رفضه غالبية يهود بريطانيا بما فيهم وزراء في حكومة جون ويلد التي أقرت الوعد ، بل تمكن إدوين مونتاجو وزير شؤون الهند من اسقاط مصادقة البرلمان البريطاني على رسالة بلفور في المرة الأولى حين عرضت على البرلمان ، مستغلا تغيب بفلور وجون ويلد عن الجلسة ، كما ولم تكن الأسباب التي ادعاها حاييم وايزمان المتعلقة باكتشافاته العلمية عن فعالية الآسيتون في الصناعات العسكرية لها أي وزن حقيقي في استصدار الوعد المشؤوم ، فقد كان اللقاء الأول الذي جمع وايزمن ببلفور هو فاتحة التقاط بلفور لفكرة إنشاء جسم']\n"
     ]
    },
    {
     "name": "stderr",
     "output_type": "stream",
     "text": [
      "Testing:   3%|▎         | 3/98 [00:02<01:13,  1.30batch/s, Rouge1_Average=0, Rouge2_Average=0, RougeL_Average=0]"
     ]
    },
    {
     "name": "stdout",
     "output_type": "stream",
     "text": [
      "['تقع مدينة تدمر على بعد 160 كم شرقي حمص وسط واحة في بادية الشام ، ترويها ينابيع كبريتية ، وكان أول من سكنها الكنعانيون الذين عبدوا فيها إلههم ( بعل )، وكان ذلك في الألف الثالثة قبل الميلاد ، ثم استوطنها الآراميون بعدهم وقد أعطاها الآراميون اسمها ( تدمرتو ) أي الأعجوبة, أما اليونانيون و الرومان فسموها ( بالميرا ) نسبة إلى النخيل. وفي القرن الخامس قبل الميلاد أخضعها الفرس لحكمهم ، ثم استولى عليها الإسكندر الكبير المقدوني ، وكانت بعد موته من نصيب السلوقيين في سورية ، ولكنها بقيت بعيدة عن سيطرتهم السياسية الكاملة ، ومع ذلك تأثرت بالفن الهلنسي. وعندما فتح الرومان سورية عام 64 ق. م ، ظلت تدمر خارج سيطرتهم ، حتى عهد الإمبراطور ( تيبرسوس 14-27 م )، عندما منحها الرومان لقب \" المدينة الحرة \"، ثم حازت لقب ( مستعمرة رومانية )، وبموجب ذلك أعفيت من الضرائب ، ومنحت امتيازات كثيرة مستفيدة من وجود أباطرة عرب حكموا روما في هذه الفترة. وقد آلت تدمر إلى الهيمنة الرومانية عام 160 م ، فعمل جنود الهجانة من تدمر في الجيش الروماني لحمايتها. وعندما استولى الفرس على سوريا في حوالي عام 260 م لم يكن لدى روما جنود احتياطيين للدفاع عن سوريا ، فقاد أمير تدمر سبتيمياس أوديناثوس الفرسان ورماة السهام التدميرية لصد هجوم جيش الفرس الغازي وفي عام 262 م أصبح أوديناثوس قائدا عسكريا أعلى لروما على الحدود الشرقية. وبعد أن مات أوديناثوس عام 267 م تولت بعده أرملته زنوبيا زمام الأمور. وهكذا بدأت تدمر تتألق في التاريخ كدولة غنية لدرجة كبيرة ؛ مما مهد لها أن تلعب دورا سياسيا واقتصاديا في تاريخ بلاد الشام. حاولت زنوبيا الحاكمة القوية ، بسط نفوذها على مصر ومختلف أنحاء آسيا الصغرى وقد أفلحت قواتها في الاستيلاء على أراض من أباطرة الرومان. غير أن الإمبراطور الروماني أوريليان ألحق']\n",
      "['تقع مدينة تدمر على بعد 160 كم شرقي حمص وسط واحة في بادية الشام ، ترويها ينابيع كبريتية ، وكان أول من سكنها الكنعانيون الذين عبدوا فيها إلههم ( بعل )، وكان ذلك في الألف الثالثة قبل الميلاد ، ثم استوطنها الآراميون بعدهم وقد أعطاها الآراميون اسمها ( تدمرتو ) أي الأعجوبة, أما اليونانيون و الرومان فسموها ( بالميرا ) نسبة إلى النخيل. وفي القرن الخامس قبل الميلاد أخضعها الفرس لحكمهم ، ثم استولى عليها الإسكندر الكبير المقدوني ، وكانت بعد موته من نصيب السلوقيين في سورية ، ولكنها بقيت بعيدة عن سيطرتهم السياسية الكاملة ، ومع ذلك تأثرت بالفن الهلنسي. وعندما فتح الرومان سورية عام 64 ق. م ، ظلت تدمر خارج سيطرتهم ، حتى عهد الإمبراطور ( تيبرسوس 14-27 م )، عندما منحها الرومان لقب \" المدينة الحرة \"، ثم حازت لقب ( مستعمرة رومانية )، وبموجب ذلك أعفيت من الضرائب ، ومنحت امتيازات كثيرة مستفيدة من وجود أباطرة عرب حكموا روما في هذه الفترة. وقد آلت تدمر إلى الهيمنة الرومانية عام 160 م ، فعمل جنود الهجانة من تدمر في الجيش الروماني لحمايتها. وعندما استولى الفرس على سوريا في حوالي عام 260 م لم يكن لدى روما جنود احتياطيين للدفاع عن سوريا ، فقاد أمير تدمر سبتيمياس أوديناثوس الفرسان ورماة السهام التدميرية لصد هجوم جيش الفرس الغازي وفي عام 262 م أصبح أوديناثوس قائدا عسكريا أعلى لروما على الحدود الشرقية. وبعد أن مات أوديناثوس عام 267 م تولت بعده أرملته زنوبيا زمام الأمور. وهكذا بدأت تدمر تتألق في التاريخ كدولة غنية لدرجة كبيرة ؛ مما مهد لها أن تلعب دورا سياسيا واقتصاديا في تاريخ بلاد الشام. حاولت زنوبيا الحاكمة القوية ، بسط نفوذها على مصر ومختلف أنحاء آسيا الصغرى وقد أفلحت قواتها في الاستيلاء على أراض من أباطرة الرومان. غير أن الإمبراطور الروماني أوريليان ألحق']\n"
     ]
    },
    {
     "name": "stderr",
     "output_type": "stream",
     "text": [
      "Testing:   3%|▎         | 3/98 [00:03<01:13,  1.30batch/s, Rouge1_Average=0, Rouge2_Average=0, RougeL_Average=0]"
     ]
    },
    {
     "name": "stdout",
     "output_type": "stream",
     "text": [
      "['الإغريق هو مصطلح عربي يشير إلى ( اليونانيون القدماء ) ، ويطلق عليهم أيضا \" الهيلينيون \" ، وهي مجموعة عرقية موطنها الأصلي ( اليونان وقبرص ) ، والمناطق القريبة من البحر الأبيض المتوسط. في الألفية الثانية قبل الميلاد ، قامت عدة قبائل بالنزوح من الشمال إلى اليونان ، وعند استقرارها هناك قامت بالتأسيس لحضارة على نمط الحضارة \" الكريتية \" ، فأصبحوا قوة ضاربة في منطقة \" بحر إيجة \" ، وفي القرن الخامس عشر قبل الميلاد ، استولى الإغريق على المنطقة وانتزعوها من أيدي الكريتيين. كانت وحدات القبائل الإغريقيين قد تمكنوا في الأرض ، وقاموا بتشكيل وحدات سياسية مستقلة ، يطلق على كل وحدة اسم بولس ( الدولة أو المدينة ). بلغت الحضارة الإغريقية أوج عظمتها و ازدهارها خلال القرنين الخامس والرابع قبل الميلاد ، بالتزامن مع ظهور مدن مهمة ك ( إسبرطة وأثينا ) ، والعديد من المدن التي يشهد لها بمدى قوتها ونفوذها ، كما ازدهر مفهوم الديمقراطية والفنون والعلوم على اختلافها. في الوقت ذاته خاضت حروب طويلة ، أسفر عنها هزيمة الإغريق للقوات الفارسية القادمة من الشرق. اشتعلت الحروب بين المدن الإغريقية نفسها ، وهذا الأمر أدى إلى ضعف وتضعضع ، وبالتالي انهيار السياسة الإغريقية. وبالرغم من هذا بقيت \" أثينا \" المركز الثقافي للعالم القديم ، في هذه الأثناء تسلمت مملكة مقدونيا زمام السلطة في القرن الثالث ق. م ، وعندما ولي الإسكندر الأكبر الحكم ، أشتهر عنه عشقه اللامحدود ( للحضارة الإغريقية ) وتأثره بها إلى حد بعيد ، وبعد إقامته لإمبراطوريته ( مقدونيا ) ، عمل على نشر الثقافة الإغريقية لما فيها من تنوع في العلوم بجميع أشكالها ، في أرجاء إمبراطوريته المترامية الأطراف. اقتبس الرومان من الإغريق العديد من الأفكار ، والتي ساعدتهم على نشر الثقافة الإغريقية في أنحاء الإمبراطورية ، حتى أنه تم تسميتها ب ( الثقافة الإغريرومانية ) ، امتازت الحضارة الإغريقية بالتميز المعماري ، وكان أهم ما يميز فن العمارة في تلك الحضارة ،']\n",
      "['الإغريق هو مصطلح عربي يشير إلى ( اليونانيون القدماء ) ، ويطلق عليهم أيضا \" الهيلينيون \" ، وهي مجموعة عرقية موطنها الأصلي ( اليونان وقبرص ) ، والمناطق القريبة من البحر الأبيض المتوسط. في الألفية الثانية قبل الميلاد ، قامت عدة قبائل بالنزوح من الشمال إلى اليونان ، وعند استقرارها هناك قامت بالتأسيس لحضارة على نمط الحضارة \" الكريتية \" ، فأصبحوا قوة ضاربة في منطقة \" بحر إيجة \" ، وفي القرن الخامس عشر قبل الميلاد ، استولى الإغريق على المنطقة وانتزعوها من أيدي الكريتيين. كانت وحدات القبائل الإغريقيين قد تمكنوا في الأرض ، وقاموا بتشكيل وحدات سياسية مستقلة ، يطلق على كل وحدة اسم بولس ( الدولة أو المدينة ). بلغت الحضارة الإغريقية أوج عظمتها و ازدهارها خلال القرنين الخامس والرابع قبل الميلاد ، بالتزامن مع ظهور مدن مهمة ك ( إسبرطة وأثينا ) ، والعديد من المدن التي يشهد لها بمدى قوتها ونفوذها ، كما ازدهر مفهوم الديمقراطية والفنون والعلوم على اختلافها. في الوقت ذاته خاضت حروب طويلة ، أسفر عنها هزيمة الإغريق للقوات الفارسية القادمة من الشرق. اشتعلت الحروب بين المدن الإغريقية نفسها ، وهذا الأمر أدى إلى ضعف وتضعضع ، وبالتالي انهيار السياسة الإغريقية. وبالرغم من هذا بقيت \" أثينا \" المركز الثقافي للعالم القديم ، في هذه الأثناء تسلمت مملكة مقدونيا زمام السلطة في القرن الثالث ق. م ، وعندما ولي الإسكندر الأكبر الحكم ، أشتهر عنه عشقه اللامحدود ( للحضارة الإغريقية ) وتأثره بها إلى حد بعيد ، وبعد إقامته لإمبراطوريته ( مقدونيا ) ، عمل على نشر الثقافة الإغريقية لما فيها من تنوع في العلوم بجميع أشكالها ، في أرجاء إمبراطوريته المترامية الأطراف. اقتبس الرومان من الإغريق العديد من الأفكار ، والتي ساعدتهم على نشر الثقافة الإغريقية في أنحاء الإمبراطورية ، حتى أنه تم تسميتها ب ( الثقافة الإغريرومانية ) ، امتازت الحضارة الإغريقية بالتميز المعماري ، وكان أهم ما يميز فن العمارة في تلك الحضارة ،']\n"
     ]
    },
    {
     "name": "stderr",
     "output_type": "stream",
     "text": [
      "Testing:   5%|▌         | 5/98 [00:03<01:09,  1.34batch/s, Rouge1_Average=0, Rouge2_Average=0, RougeL_Average=0]"
     ]
    },
    {
     "name": "stdout",
     "output_type": "stream",
     "text": [
      "['دخلت بلاد فارس تاريخ الشرق الأوسط من الباب الواسع مع قورش العظيم مؤسس الدولة الأخمينية ( الفارسية ) والذي استغل ضعف دولة مابين النهرين ليفرض نفسه سيدا على كامل بلاد المشرق وينتشر خلفاءه غربا حتى البحر المتوسط وجنوبا حتى مصر وقد عرف الفرس فن السيطرة وفرض السلطة بالقوة من جهة ولكن ايضا بنقل الشعوب واسكان الموالين لهم في مفاصل مهمة من البلاد وقد ساهم ملوكهم باعادة الشتات اليهودي من ما بين النهرين إلى فلسطين. وبالرغم من أن الشعب اليهودي قد دون هذه العملية كبادرة حسن نية تجاه استير مع الشكر للفرس باعادته ، يرى بعض الباحثين بأنها كانت عملية استيطان لشعب لا بد أن يكون مواليا لهم أكثر من السكان المحليين وهو على ما يبدو شكل جزء من الفكر الاستراتيجي الفارسي الذي سنراه لاحقا. وهم بدون شك ، مع ارتشتحتا الذي دفع أهالي مدينة صيدا اللبنانية على احراق انفسهم ومدينتهم ، اسكنوا شعوبا جديدة بعد اعادة اعمار هذه المدينة التي صارت فيما بعد مركز اسطولهم البحري وقاعدة الانطلاق للتوسع صوب بلاد اليونان ، وكان قائد الأسطول البحري وهو من صيدا يعتبر الثاني بعد الملك مباشرة ايام حكم داريوس العظيم. ولم يلتفت المؤرخون كثيرا إلى تفاصيل هذه العمليات الاستيطانية. إلا أنه ومع الأسرة الساسانية ، وبالذات مع كسرى الثاني ، الذي كان استغل ضعف الحكم المركزي في القسطنطينية واحتل انطاكية والقدس ودمشق ، ذكر المؤرخون بأنه استقدم قبائل جبلية من بلاد فارس واسكنها في ممرات جبال لبنان لتحمي تقدم جيشه قبل أن يدخل إلى هذا البلد ، وذلك لأن هرقل ، وبعد أن كسر الفرس ، فرض عليهم معاهدة صلح قاسية كان من ضمن شروطها إعادة كل الذين اسكنوهم في جبال لبنان إلى بلادهم. ولكن الفرس ومع الفتح العربي فقدوا دولتهم المتميزة وهويتهم الدينية واضطروا أن يصبحوا جزءا من قوات الدولة العربية ( أو الاسلامية ) في توسعها نحو الشرق. ومع أنهم حاولوا الابقاء على لون خاص بهم ضمن الدولة الجديدة ما جعلهم فيما بعد يسهمون في الانقلاب على حكم الأمويين ليظهر نفوذهم في بدايات الدولة العباسية. وقد شكل البرامكة رمزا لدور الفرس في بد']\n",
      "['دخلت بلاد فارس تاريخ الشرق الأوسط من الباب الواسع مع قورش العظيم مؤسس الدولة الأخمينية ( الفارسية ) والذي استغل ضعف دولة مابين النهرين ليفرض نفسه سيدا على كامل بلاد المشرق وينتشر خلفاءه غربا حتى البحر المتوسط وجنوبا حتى مصر وقد عرف الفرس فن السيطرة وفرض السلطة بالقوة من جهة ولكن ايضا بنقل الشعوب واسكان الموالين لهم في مفاصل مهمة من البلاد وقد ساهم ملوكهم باعادة الشتات اليهودي من ما بين النهرين إلى فلسطين. وبالرغم من أن الشعب اليهودي قد دون هذه العملية كبادرة حسن نية تجاه استير مع الشكر للفرس باعادته ، يرى بعض الباحثين بأنها كانت عملية استيطان لشعب لا بد أن يكون مواليا لهم أكثر من السكان المحليين وهو على ما يبدو شكل جزء من الفكر الاستراتيجي الفارسي الذي سنراه لاحقا. وهم بدون شك ، مع ارتشتحتا الذي دفع أهالي مدينة صيدا اللبنانية على احراق انفسهم ومدينتهم ، اسكنوا شعوبا جديدة بعد اعادة اعمار هذه المدينة التي صارت فيما بعد مركز اسطولهم البحري وقاعدة الانطلاق للتوسع صوب بلاد اليونان ، وكان قائد الأسطول البحري وهو من صيدا يعتبر الثاني بعد الملك مباشرة ايام حكم داريوس العظيم. ولم يلتفت المؤرخون كثيرا إلى تفاصيل هذه العمليات الاستيطانية. إلا أنه ومع الأسرة الساسانية ، وبالذات مع كسرى الثاني ، الذي كان استغل ضعف الحكم المركزي في القسطنطينية واحتل انطاكية والقدس ودمشق ، ذكر المؤرخون بأنه استقدم قبائل جبلية من بلاد فارس واسكنها في ممرات جبال لبنان لتحمي تقدم جيشه قبل أن يدخل إلى هذا البلد ، وذلك لأن هرقل ، وبعد أن كسر الفرس ، فرض عليهم معاهدة صلح قاسية كان من ضمن شروطها إعادة كل الذين اسكنوهم في جبال لبنان إلى بلادهم. ولكن الفرس ومع الفتح العربي فقدوا دولتهم المتميزة وهويتهم الدينية واضطروا أن يصبحوا جزءا من قوات الدولة العربية ( أو الاسلامية ) في توسعها نحو الشرق. ومع أنهم حاولوا الابقاء على لون خاص بهم ضمن الدولة الجديدة ما جعلهم فيما بعد يسهمون في الانقلاب على حكم الأمويين ليظهر نفوذهم في بدايات الدولة العباسية. وقد شكل البرامكة رمزا لدور الفرس في بد']\n",
      "['مع بداية الدولة الفاطمية أهتم الحكام الفاطميين بإرسال كسوة الكعبة كل عام من مصر ، وكانت الكسوة بيضاء اللون.[1]. وفي الدولة المملوكية وفي عهد السلطان الظاهر بيبرس أصبحت الكسوة ترسل من مصر ، حيث كان المماليك يرون أن هذا شرف لا يجب أن ينازعهم فيه أحد حتى ولو وصل الأمر إلى القتال ، فقد أراد ملك اليمن \" المجاهد \" في عام 751 ه أن ينزع كسوة الكعبة المصرية ليكسوها كسوة من اليمن ، فلما علم بذلك أمير مكة أخبر المصريين فقبضوا عليه ، وأرسل مصفدا في الأغلال إلى القاهرة. كما كانت هناك أيضا محاولات لنيل شرف كسوة الكعبة من قبل الفرس والعراق ولكن سلاطين المماليك لم يسمحوا لأى أحد أن ينازعهم في هذا ، وللمحافظة على هذا الشرف أوقف الملك الصالح إسماعيل بن عبد الملك الناصر محمد بن قلاوون ملك مصر في عام 751 ه وقفا خاصا لكسوة الكعبة الخارجية السوداء مرة كل سنة ، وهذا الوقف كان عبارة عن قريتين من قرى القليوبية هما بيسوس وأبو الغيث ، وكان يتحصل من هذا الوقف على 8900 درهم سنويا ، وظل هذا هو النظام القائم إلى عهد السلطان العثماني سليمان القانوني. وأستمرت مصر في نيل شرف كسوة الكعبة بعد سقوط دولة المماليك وخضوعها للدولة العثمانية ، فقد أهتم السلطان سليم الأول بتصنيع كسوة الكعبة وزركشتها وكذلك كسوة الحجرة النبوية ، وكسوة مقام إبراهيم الخليل. وفي عهد السلطان سليمان القانونى أضاف إلى الوقف المخصص لكسوة الكعبة سبع قري أخرى اتصبح عدد القرى الموقوفة لكسوة الكعبة تسعة قرى وذلك للوفاء بالتزامات الكسوة ، وظلت كسوة الكعبة ترسل بانتظام من مصر بصورة سنوية يحملها أمير الحج معه في قافلة الحج المصري. وفى عهد محمد علي باشا توقفت مصر عن إرسال الكسوة بعد الصدام الذي حدث بين أتباع الشيخ محمد بن عبد الوهاب في الأراضي الحجازية وقافلة الحج المصرية في عام 122 ه الموافق عام 1807 م ، ولكن أعادت مصر إرسال الكسوة في العام 1228 ه.[2] وقد تأسست دار لصناعة كسوة الكعبة بح']\n",
      "['مع بداية الدولة الفاطمية أهتم الحكام الفاطميين بإرسال كسوة الكعبة كل عام من مصر ، وكانت الكسوة بيضاء اللون.[1]. وفي الدولة المملوكية وفي عهد السلطان الظاهر بيبرس أصبحت الكسوة ترسل من مصر ، حيث كان المماليك يرون أن هذا شرف لا يجب أن ينازعهم فيه أحد حتى ولو وصل الأمر إلى القتال ، فقد أراد ملك اليمن \" المجاهد \" في عام 751 ه أن ينزع كسوة الكعبة المصرية ليكسوها كسوة من اليمن ، فلما علم بذلك أمير مكة أخبر المصريين فقبضوا عليه ، وأرسل مصفدا في الأغلال إلى القاهرة. كما كانت هناك أيضا محاولات لنيل شرف كسوة الكعبة من قبل الفرس والعراق ولكن سلاطين المماليك لم يسمحوا لأى أحد أن ينازعهم في هذا ، وللمحافظة على هذا الشرف أوقف الملك الصالح إسماعيل بن عبد الملك الناصر محمد بن قلاوون ملك مصر في عام 751 ه وقفا خاصا لكسوة الكعبة الخارجية السوداء مرة كل سنة ، وهذا الوقف كان عبارة عن قريتين من قرى القليوبية هما بيسوس وأبو الغيث ، وكان يتحصل من هذا الوقف على 8900 درهم سنويا ، وظل هذا هو النظام القائم إلى عهد السلطان العثماني سليمان القانوني. وأستمرت مصر في نيل شرف كسوة الكعبة بعد سقوط دولة المماليك وخضوعها للدولة العثمانية ، فقد أهتم السلطان سليم الأول بتصنيع كسوة الكعبة وزركشتها وكذلك كسوة الحجرة النبوية ، وكسوة مقام إبراهيم الخليل. وفي عهد السلطان سليمان القانونى أضاف إلى الوقف المخصص لكسوة الكعبة سبع قري أخرى اتصبح عدد القرى الموقوفة لكسوة الكعبة تسعة قرى وذلك للوفاء بالتزامات الكسوة ، وظلت كسوة الكعبة ترسل بانتظام من مصر بصورة سنوية يحملها أمير الحج معه في قافلة الحج المصري. وفى عهد محمد علي باشا توقفت مصر عن إرسال الكسوة بعد الصدام الذي حدث بين أتباع الشيخ محمد بن عبد الوهاب في الأراضي الحجازية وقافلة الحج المصرية في عام 122 ه الموافق عام 1807 م ، ولكن أعادت مصر إرسال الكسوة في العام 1228 ه.[2] وقد تأسست دار لصناعة كسوة الكعبة بح']\n"
     ]
    },
    {
     "name": "stderr",
     "output_type": "stream",
     "text": [
      "Testing:   7%|▋         | 7/98 [00:05<01:11,  1.27batch/s, Rouge1_Average=0.0168, Rouge2_Average=0, RougeL_Average=0.0168]"
     ]
    },
    {
     "name": "stdout",
     "output_type": "stream",
     "text": [
      "['لا يمكن تبرئة البايات وسياساتهم الفاسدة من المسؤولية في إيصال البلاد إلى السقوط تحت الاحتلال الفرنسي وما طالها من انتهاكات لاحقا. لكننا في هذا المقال نسعى إلى إبراز دورهم في تأكيد الكيان التونسي الذي سيتحول إلى الدولة القطرية التونسية بعد الاستقلال. ومن هذه الزاوية يمكن أن نشير إلى مستويين من هذا الدور ، دور بعض البايات الذين تحلوا بالوطنية في مواقفهم أو على الأقل في بعض فترات حكمهم. وهنا نشير إلى محمد الناصر باي الذي تبنى مطلب الحركة الوطنية في إحياء دستور 1861 وصمد أمام عملية التشويه التي أقدمت عليها الإقامة العامة قبيل زيارة الرئيس الفرنسي سنة 1922 بادعاء أنه يندد بالحزب ( في مقال بصحيفة le petit journal الباريسية ). فرد على ذلك بإعلان غضبه والتهديد بالاستقالة وخلق أزمة مع فرنسا قربت بينه وبين الشعب عندما أعلن الحزب إضرابا عاما يوم 5 أفريل 1922 مساندة له ونظم مظاهرات شعبية داعمة له في تونس والمرسى. فاضطر المقيم العام إلى إيجاد مخرج للأزمة بالضغط عليه وإرغامه على التراجع عن الاستقالة. أما التلاحم بين الشعب والعرش فقد كانت أجلى ما يكون مع المنصف باي الذي تحول إلى زعيم شعبي عندما أثبت نزعة استقلالية تجاه الحماية الفرنسية ومقيمها العام المتعجرف أستفا حين طالب بإقالته بعد أن استهان به ( حادثة قصر باردو ). وسعى إلى إثبات وجود السلطة التونسية وإرادتها باتخاذ إجراءات جريئة أبرزها تشكيل حكومة وحدة وطنية تضم عناصر حزبية تحت قيادة بورجوازي تونسي هو محمد شنيق. واقترب من الشعب بفتح أبواب القصر لمشردي الحرب ( العالمية الثانية ) وألغى عادة تقبيل اليد وبهرج الاحتفالات. والأخطر من ذلك هو تبنيه لمطالب الحركة الوطنية في لائحه مطالب من 16 نقطة موجهة إلى سلطة الحماية. وهكذا تحول الباي إلى زعيم وطني يجمع بين شرعية السلطة وشرعية المقاومة (le pays lgal et le pays rel). فتحول إلى أيقونة الحركة الوطنية بعد عزله. ورغم أن الأمين باي نصب مكانه فإنه سجل بعض المواقف ولو لفترة قصيرة إلى جانب الحركة الوطنية عندما رفض التخلي عن حكومة محمد شنيق بعد اندلاع ثورة 1952 ومساندة مطالب الحركة الوطنية وهو']\n",
      "['لا يمكن تبرئة البايات وسياساتهم الفاسدة من المسؤولية في إيصال البلاد إلى السقوط تحت الاحتلال الفرنسي وما طالها من انتهاكات لاحقا. لكننا في هذا المقال نسعى إلى إبراز دورهم في تأكيد الكيان التونسي الذي سيتحول إلى الدولة القطرية التونسية بعد الاستقلال. ومن هذه الزاوية يمكن أن نشير إلى مستويين من هذا الدور ، دور بعض البايات الذين تحلوا بالوطنية في مواقفهم أو على الأقل في بعض فترات حكمهم. وهنا نشير إلى محمد الناصر باي الذي تبنى مطلب الحركة الوطنية في إحياء دستور 1861 وصمد أمام عملية التشويه التي أقدمت عليها الإقامة العامة قبيل زيارة الرئيس الفرنسي سنة 1922 بادعاء أنه يندد بالحزب ( في مقال بصحيفة le petit journal الباريسية ) فرد على ذلك بإعلان غضبه والتهديد بالاستقالة وخلق أزمة مع فرنسا قربت بينه وبين الشعب عندما أعلن الحزب إضرابا عاما يوم 5 أفريل 1922 مساندة له ونظم مظاهرات شعبية داعمة له في تونس والمرسى. فاضطر المقيم العام إلى إيجاد مخرج للأزمة بالضغط عليه وإرغامه على التراجع عن الاستقالة. أما التلاحم بين الشعب والعرش فقد كانت أجلى ما يكون مع المنصف باي الذي تحول إلى زعيم شعبي عندما أثبت نزعة استقلالية تجاه الحماية الفرنسية ومقيمها العام المتعجرف أستفا حين طالب بإقالته بعد أن استهان به ( حادثة قصر باردو  وسعى إلى إثبات وجود السلطة التونسية وإرادتها باتخاذ إجراءات جريئة أبرزها تشكيل حكومة وحدة وطنية تضم عناصر حزبية تحت قيادة بورجوازي تونسي هو محمد شنيق. واقترب من الشعب بفتح أبواب القصر لمشردي الحرب ( العالمية الثانية ) وألغى عادة تقبيل اليد وبهرج الاحتفالات. والأخطر من ذلك هو تبنيه لمطالب الحركة الوطنية في لائحه مطالب من 16 نقطة موجهة إلى سلطة الحماية. وهكذا تحول الباي إلى زعيم وطني يجمع بين شرعية السلطة وشرعية المقاومة (le pays lgal et le pays rel فتحول إلى أيقونة الحركة الوطنية بعد عزله. ورغم أن الأمين باي نصب مكانه فإنه سجل بعض المواقف ولو لفترة قصيرة إلى جانب الحركة الوطنية عندما رفض التخلي عن حكومة محمد شنيق بعد اندلاع ثورة 1952 ومساندة مطالب الحركة الوطنية وهو']\n",
      "['عن مصر المصرية التي مازالت تعيش في القرى.. عن مصر المصرية التي مازالت تعيش في الوجدان الشعبي.. عن مصر المصرية التي تشابكت فيها الأديان وجعلت منها دينا مصريا واحدا.. عن الفولكلور المصري كان.. \" مقدمة في الفولكلور القبطي \" الكتاب أو الرحلة تلك بدأ بشرح الموالد والاحتفاليات القبطية مثل \" ماري جرجس \" ومولد \" العدرا \" وموالد القديسين.. ربط الكاتب ما بين ما يحدث في الموالد القبطية والإسلامية ليكتشف القارئ أن ( الموالد ) هناك وهناك طقوسها واحدة.. والطقس مأخوذ من الطقوس المصرية القديمة في احتفالات المصريين القدماء بالأم إيزيس وغيرها من الآلهة. ثم يدور بنا في \" الاحتفالية الشعبية بالأعياد الدينية \" والتي تكتشف بعدما تنتهي من قراءته أن كثيرا من عادات وتقاليد أقباط مصر في أعيادهم أصلها \" مصري قديم \" وأذكر منها الكعك في عيد لميلاد المجيد الذي اشترك فيه ( المسلمين والأقباط ) في أعيادهم وكان في الأصل يصنع مع موسم بذر البذور ( برث ) وكان يصنع من الدقيق والسمن كما يصنع الآن والكلمة في حد ذاتها هيروغليفية وكانت تنطق ( كحك )..!! ويذكر لنا الكاتب أصل أحد \" الشعانين \" أو أحد السعف والذي هو احتفال المصريين باستقبال السيد المسيح بالزيتون والسعف.. ويربط الكاتب كعادته بالعصر الفرعوني ويذكر لنا الأصل في \" سعف النخيل \" وتاريخه مع المصريين.. فقال..( كان سعف النخيل من أهم النبتات المميزة لعيد رأس السنة ، حيث كان سعف النخيل الأخضر يرمز إلى بداية العام ، لأنه يعبر عن الحياة المتجددة كما أنه يخرج من قلب الشجرة فكانوا يتبركون به ويصنعون منه ضفائر الزينة التي يعلقونها على أبواب المنازل كما كانوا يحملون باقات السعف ويوجد تصوير لكاهن يحمل سعف النخيل لمقابر وكذلك جموع الناس ليضعوه على المقابر في العيد ويوزعون ثماره الجافة على موتاهم )..!! يدور بعدها الكتاب في ثلاثة فصول أخرى عن الطقوس القبطية في المناسبات العامة والخاصة.. ثم الأدب الشعبي القبطي.. ثم الفصل الأهم']\n",
      "['عن مصر المصرية التي مازالت تعيش في القرى.. عن مصر المصرية التي مازالت تعيش في الوجدان الشعبي.. عن مصر المصرية التي تشابكت فيها الأديان وجعلت منها دينا مصريا واحدا.. عن الفولكلور المصري كان.. \" مقدمة في الفولكلور القبطي \" الكتاب أو الرحلة تلك بدأ بشرح الموالد والاحتفاليات القبطية مثل \" ماري جرجس \" ومولد \" العدرا \" وموالد القديسين.. ربط الكاتب ما بين ما يحدث في الموالد القبطية والإسلامية ليكتشف القارئ أن ( الموالد ) هناك وهناك طقوسها واحدة.. والطقس مأخوذ من الطقوس المصرية القديمة في احتفالات المصريين القدماء بالأم إيزيس وغيرها من الآلهة. ثم يدور بنا في \" الاحتفالية الشعبية بالأعياد الدينية \" والتي تكتشف بعدما تنتهي من قراءته أن كثيرا من عادات وتقاليد أقباط مصر في أعيادهم أصلها \" مصري قديم \" وأذكر منها الكعك في عيد لميلاد المجيد الذي اشترك فيه ( المسلمين والأقباط ) في أعيادهم وكان في الأصل يصنع مع موسم بذر البذور ( برث ) وكان يصنع من الدقيق والسمن كما يصنع الآن والكلمة في حد ذاتها هيروغليفية وكانت تنطق ( كحك )..!! ويذكر لنا الكاتب أصل أحد \" الشعانين \" أو أحد السعف والذي هو احتفال المصريين باستقبال السيد المسيح بالزيتون والسعف.. ويربط الكاتب كعادته بالعصر الفرعوني ويذكر لنا الأصل في \" سعف النخيل \" وتاريخه مع المصريين.. فقال..( كان سعف النخيل من أهم النبتات المميزة لعيد رأس السنة ، حيث كان سعف النخيل الأخضر يرمز إلى بداية العام ، لأنه يعبر عن الحياة المتجددة كما أنه يخرج من قلب الشجرة فكانوا يتبركون به ويصنعون منه ضفائر الزينة التي يعلقونها على أبواب المنازل كما كانوا يحملون باقات السعف ويوجد تصوير لكاهن يحمل سعف النخيل لمقابر وكذلك جموع الناس ليضعوه على المقابر في العيد ويوزعون ثماره الجافة على موتاهم )..!! يدور بعدها الكتاب في ثلاثة فصول أخرى عن الطقوس القبطية في المناسبات العامة والخاصة.. ثم الأدب الشعبي القبطي.. ثم الفصل الأهم']\n"
     ]
    },
    {
     "name": "stderr",
     "output_type": "stream",
     "text": [
      "Testing:   9%|▉         | 9/98 [00:07<01:10,  1.26batch/s, Rouge1_Average=0.0353, Rouge2_Average=0, RougeL_Average=0.0353]"
     ]
    },
    {
     "name": "stdout",
     "output_type": "stream",
     "text": [
      "['لا يمكن فهم الثورة العرابية من دون فهم الأوضاع السابقة والمسببة لها في نفس الوقت وهذا يقودنا إلى فهم تكوين الطبقة الحاكمة التي لم تكن كلا متجانسا ، 1- فالأمراء المصريون من أصل عثمانى كان يتواجد في داخلهم تياران رئيسيان أحدهما يناصر النفوذ الأوروبي والتكامل الاقتصادي مع أوروبا والآخر يؤيد تبعية الطرف للمركز العثماني ، وبحلول سبعينات القرن السابع عشر كانت هذه الطبقة تتملك حوالى ربع الأراضي الزراعية ، 2- الشراكسة الذين نالوا حريتهم بعد سلبهم أرقاء من القوقاز ، وتولوا مناصب هامة في الجيش و الإدارة كان بعضهم مؤيدا للطبقة العثمانية الحاكمة ، والآخرون مندمجون في الطبقة المتوسطة المصرية ، 3- والأعيان المصريون من كبار ملاك الأراضى الزراعية ومن الإداريين وكبار العلماء ،4- لايمكن تجاهل الجاليات الأوروبية التي شكلت حصان طروادة الممهد للاحتلال البريطاني ، كان عدد الأوربيين العاملين لدى الحكومة المصرية في أوائل ثمانينات القرن التاسع عشر حوالى 1300 موظف ، 5- الشوام المهاجرون الذين لعبوا أدوارا اقتصادية وثقافية هامة في مصر منذ القرن 18 و كان كثير منهم بمثابة الكومبرادور للاقتصاد الأوروبي العالمي فكان من الطبيعي أن يعارضوا الحكم المطلق للخديوي ، إذا ما يجمع العناصر السابقة ( مع الخديوي بالطبع ) هو الموقف المناهض لكل ثورة تهدد مصالحهم باستثناء شرائح فرعية مثل التيار الثاني من الشراكسة والبورجوازية الريفية المتصارعة مع الأمراء ، كذلك كان الفاعلون الثوريون من مشارب مختلفة وبالتالى كانت أسبابهم بالضرورة مختلفة وإن كان يجمعها : 1- العامل الاقتصادي الاجتماعي كالفلاحين الذين عانوا من مراباة اليهود واليونانيين ، وطوائف الحرف و الصناع الذين شعروا بالظلم من منافسة العمال الأوربيين لهم والاختراعات التكنولوجية ، كما أن ازدهار ثم ركود مبيعات القطن المصري منذ أواخر خمسينات القرن التاسع عشر حتى قيام الثورة العرابية أعاد إلى الأذهان نظرية المنحني التى تقول أن الثورات تقوم بعد فترة من الإزدهار ( حيث تتعاظم الآمال ) يعقبها هبوط اقتصادي ( حيث يتفجر الغضب )، أو 2- العامل الوطني الثقافي ممتزجا بالمصالح الاقتصادية كال']\n",
      "['لا يمكن فهم الثورة العرابية من دون فهم الأوضاع السابقة والمسببة لها في نفس الوقت وهذا يقودنا إلى فهم تكوين الطبقة الحاكمة التي لم تكن كلا متجانسا ، 1- فالأمراء المصريون من أصل عثمانى كان يتواجد في داخلهم تياران رئيسيان أحدهما يناصر النفوذ الأوروبي والتكامل الاقتصادي مع أوروبا والآخر يؤيد تبعية الطرف للمركز العثماني ، وبحلول سبعينات القرن السابع عشر كانت هذه الطبقة تتملك حوالى ربع الأراضي الزراعية ، 2- الشراكسة الذين نالوا حريتهم بعد سلبهم أرقاء من القوقاز ، وتولوا مناصب هامة في الجيش و الإدارة كان بعضهم مؤيدا للطبقة العثمانية الحاكمة ، والآخرون مندمجون في الطبقة المتوسطة المصرية ، 3- والأعيان المصريون من كبار ملاك الأراضى الزراعية ومن الإداريين وكبار العلماء ،4- لايمكن تجاهل الجاليات الأوروبية التي شكلت حصان طروادة الممهد للاحتلال البريطاني ، كان عدد الأوربيين العاملين لدى الحكومة المصرية في أوائل ثمانينات القرن التاسع عشر حوالى 1300 موظف ، 5- الشوام المهاجرون الذين لعبوا أدوارا اقتصادية وثقافية هامة في مصر منذ القرن 18 و كان كثير منهم بمثابة الكومبرادور للاقتصاد الأوروبي العالمي فكان من الطبيعي أن يعارضوا الحكم المطلق للخديوي ، إذا ما يجمع العناصر السابقة ( مع الخديوي بالطبع ) هو الموقف المناهض لكل ثورة تهدد مصالحهم باستثناء شرائح فرعية مثل التيار الثاني من الشراكسة والبورجوازية الريفية المتصارعة مع الأمراء ، كذلك كان الفاعلون الثوريون من مشارب مختلفة وبالتالى كانت أسبابهم بالضرورة مختلفة وإن كان يجمعها : 1- العامل الاقتصادي الاجتماعي كالفلاحين الذين عانوا من مراباة اليهود واليونانيين ، وطوائف الحرف و الصناع الذين شعروا بالظلم من منافسة العمال الأوربيين لهم والاختراعات التكنولوجية ، كما أن ازدهار ثم ركود مبيعات القطن المصري منذ أواخر خمسينات القرن التاسع عشر حتى قيام الثورة العرابية أعاد إلى الأذهان نظرية المنحني التى تقول أن الثورات تقوم بعد فترة من الإزدهار ( حيث تتعاظم الآمال ) يعقبها هبوط اقتصادي ( حيث يتفجر الغضب  أو 2- العامل الوطني الثقافي ممتزجا بالمصالح الاقتصادية كال']\n",
      "['ونجحت مساعي نوبار حينما اصدر السلطان عبد الحميد الثاني في عام 1879 فرمانا بعزل الخديوي اسماعيل من منصبة وتوليه ابنه توفيق ، مع نفي الأول الى اسطنبول حيث بقى الى قبيل وفاته. بعدها عاد نوبار الى مصر لتكوين اول نظارة مختلطة احتفظ فيها بأماكن لوزراء انجليز ( ناظر المالية ) لمراقبة الأيرادات وفرنسيين ( ناظر الأشغال ) لمراقبة المصروفات ، وهو مقتنع تماما ان ذلك هو السبيل الوحيد لأستقلال مصر!.. وكان من الطبيعي ان يستفز ذلك التبرير المشاعر الوطنية عند كثير من نواب الشعب في مجلس شورى النواب او غيرهم ، ولكن نوبار كان لا يعترف بحق المصريين في تقرير مصيرهم ويراهم غير مؤهلين لذلك!.. فكان لابد من استخدام العصا الأنجليزية لتأديب اسماعيل ، وبذلك خضع الخديوي اسماعيل لشروط الأنجليز ورغبتهم فأصدر أول دكريتو لتشكيل الوزارة في مصر عام 1878 م برئاسة نوبار باشا ، وبعدها بأقل من ستة اشهر رحل اسماعيل مطرودا ، فخضع من بعده توفيق دون نقاش هو ايضا للانجليز. ولولا احداث الثورة العرابية وبعد الخلاص منها ومن زعمائها ، تولى نوبار من جديد رئاسة الوزراء عام 1884 م وكانت وزارة احتلال تشكلت حسب توجيهات المعتمد البريطاني ، وكانت تهدف الى اخلاء السودان واعالي النيل ( اوغندا والصومال ) من الأدارة المصرية واحلال انجليزية محلها وبذلك ضاعت املاك الدولة التي انشأها اسماعيل باشا ، وثالثة في 1894 م في عهد الخديوي عباس حلمي الثاني ، وقد استخدمها المعتمد البريطاني ايضا في اتمام سيطرته على الأمور داخل مصر. وقد اختلف الخديوي الشاب مع نوبار اكثر من مرة ، اهمها حينما منح عفوا عاما لكل رموز الثورة العرابية واعطاهم حق العودة من منفاهم او الكف عن مطاردتهم حيث رفض نوبار ذلك ، وايضا حينما طلب الخديوي الاسبق اسماعيل العودة لمصر ليموت فيها حيث رفض نوبار ايضا ، فعزله الخديوي عام 1895 م وعنها سافر الى باريس وظل هناك حتى وفاته عام 1899 م.']\n",
      "['ونجحت مساعي نوبار حينما اصدر السلطان عبد الحميد الثاني في عام 1879 فرمانا بعزل الخديوي اسماعيل من منصبة وتوليه ابنه توفيق ، مع نفي الأول الى اسطنبول حيث بقى الى قبيل وفاته. بعدها عاد نوبار الى مصر لتكوين اول نظارة مختلطة احتفظ فيها بأماكن لوزراء انجليز ( ناظر المالية ) لمراقبة الأيرادات وفرنسيين ( ناظر الأشغال ) لمراقبة المصروفات ، وهو مقتنع تماما ان ذلك هو السبيل الوحيد لأستقلال مصر!.. وكان من الطبيعي ان يستفز ذلك التبرير المشاعر الوطنية عند كثير من نواب الشعب في مجلس شورى النواب او غيرهم ، ولكن نوبار كان لا يعترف بحق المصريين في تقرير مصيرهم ويراهم غير مؤهلين لذلك!.. فكان لابد من استخدام العصا الأنجليزية لتأديب اسماعيل ، وبذلك خضع الخديوي اسماعيل لشروط الأنجليز ورغبتهم فأصدر أول دكريتو لتشكيل الوزارة في مصر عام 1878 م برئاسة نوبار باشا ، وبعدها بأقل من ستة اشهر رحل اسماعيل مطرودا ، فخضع من بعده توفيق دون نقاش هو ايضا للانجليز. ولولا احداث الثورة العرابية وبعد الخلاص منها ومن زعمائها ، تولى نوبار من جديد رئاسة الوزراء عام 1884 م وكانت وزارة احتلال تشكلت حسب توجيهات المعتمد البريطاني ، وكانت تهدف الى اخلاء السودان واعالي النيل ( اوغندا والصومال ) من الأدارة المصرية واحلال انجليزية محلها وبذلك ضاعت املاك الدولة التي انشأها اسماعيل باشا ، وثالثة في 1894 م في عهد الخديوي عباس حلمي الثاني ، وقد استخدمها المعتمد البريطاني ايضا في اتمام سيطرته على الأمور داخل مصر. وقد اختلف الخديوي الشاب مع نوبار اكثر من مرة ، اهمها حينما منح عفوا عاما لكل رموز الثورة العرابية واعطاهم حق العودة من منفاهم او الكف عن مطاردتهم حيث رفض نوبار ذلك ، وايضا حينما طلب الخديوي الاسبق اسماعيل العودة لمصر ليموت فيها حيث رفض نوبار ايضا ، فعزله الخديوي عام 1895 م وعنها سافر الى باريس وظل هناك حتى وفاته عام 1899 م.']\n"
     ]
    },
    {
     "name": "stderr",
     "output_type": "stream",
     "text": [
      "Testing:  11%|█         | 11/98 [00:09<01:09,  1.25batch/s, Rouge1_Average=0.0895, Rouge2_Average=0, RougeL_Average=0.0895]"
     ]
    },
    {
     "name": "stdout",
     "output_type": "stream",
     "text": [
      "['وفي صيف عام 1968, شكلت قيادة الدفاع الجوي المصري, لتتحمل المسئولية الكبيرة في مواجهة القوات الجوية الإسرائيلية, في الوقت الذي كان فيه سلاح الجو الإسرائيلي متفوقا كما ونوعا علي نظيرة المصري. وبالغت إسرائيل في استخدام مئات الطائرات, لقصف جبهة قناة السويس, وإسقاط آلاف القنابل والصواريخ, من أجل إيقاف حرب الاستنزاف, التي أثرت علي معنويات جنودها. وجاء دور الدفاع الجوي المصري للقيام بدوره, ولم تكن المهمة سهلة فقد كان كل ما لدي الدفاع الجوي المصري في جبهة القناة كتائب صواريخ ( سام 2 وعدد من وحدات المدفعية المضادة للطائرات. واستطاع الدفاع الجوي عن الجبهة أن يوفر, بإمكاناته المحدودة, أدني حد من التكامل, بين وحدات المدفعية المضادة للطائرات, ووحدات الصواريخ وبالفعل, نجحت وحدات الدفاع الجوي, في حرمان القوات الجوية الإسرائيلية من تحقيق أهدافها, حتي منتصف عام.1968 ومع تصاعد حرب الاستنزاف علي الجبهة, تصاعد القصف الجوي المعادي, خلال الفترة من يوليو حتي ديسمبر 69, ضد وحدات الدفاع الجوي بالجبهة. فأسقطت عليها مئات الأطنان من القنابل. ومع هذا الموقف المتصاعد, وزيادة حجم خسائر وحدات الدفاع الجوي, لذلك كان سعي القيادة المصرية الي وصول شبكة الصواريخ إلي شرق القناة, لحماية القوات المصرية, التي ستهاجم القناة وحشد أكبر عدد من وحدات الصواريخ والمدفعية المضادة للطائرات, من أجل الدفاع عن الجبهة وتأمين التشكيلات المقاتلةوضع خطة كاملة تحقق الإنذار المبكر, وبناء مواقع محصنة تمكنها من الصمود, أمام القصف الجوي المعادي, وبالكثافة التي تمكن وحدات الدفاع الجوي, من مواجهة القوات الجوية الإسرائيلية. في حين واجهت قوات الدفاع الجوي المصرية مشكلات تتعلق بالإمكانات, وكيف توفر قيادة الدفاع الجوي العدد اللازم من وحدات الصواريخ, والمدفعية المضادة للطائرات, والإنذار, لبناء تجميع دفاع جوي متماسك وفعال وكذلك تحديد الأهداف الحيوية في مصر, ووضع أسبقية لكل منها, واستطاعت قوات الدفاع الجوي في النهاية, أن توفر ثلاث عشرة كتيبة ( سام']\n",
      "['وفي صيف عام 1968, شكلت قيادة الدفاع الجوي المصري, لتتحمل المسئولية الكبيرة في مواجهة القوات الجوية الإسرائيلية, في الوقت الذي كان فيه سلاح الجو الإسرائيلي متفوقا كما ونوعا علي نظيرة المصري. وبالغت إسرائيل في استخدام مئات الطائرات, لقصف جبهة قناة السويس, وإسقاط آلاف القنابل والصواريخ, من أجل إيقاف حرب الاستنزاف, التي أثرت علي معنويات جنودها. وجاء دور الدفاع الجوي المصري للقيام بدوره, ولم تكن المهمة سهلة فقد كان كل ما لدي الدفاع الجوي المصري في جبهة القناة كتائب صواريخ ( سام 2 وعدد من وحدات المدفعية المضادة للطائرات. واستطاع الدفاع الجوي عن الجبهة أن يوفر, بإمكاناته المحدودة, أدني حد من التكامل, بين وحدات المدفعية المضادة للطائرات, ووحدات الصواريخ وبالفعل, نجحت وحدات الدفاع الجوي, في حرمان القوات الجوية الإسرائيلية من تحقيق أهدافها, حتي منتصف عام.1968 ومع تصاعد حرب الاستنزاف علي الجبهة, تصاعد القصف الجوي المعادي, خلال الفترة من يوليو حتي ديسمبر 69, ضد وحدات الدفاع الجوي بالجبهة. فأسقطت عليها مئات الأطنان من القنابل. ومع هذا الموقف المتصاعد, وزيادة حجم خسائر وحدات الدفاع الجوي, لذلك كان سعي القيادة المصرية الي وصول شبكة الصواريخ إلي شرق القناة, لحماية القوات المصرية, التي ستهاجم القناة وحشد أكبر عدد من وحدات الصواريخ والمدفعية المضادة للطائرات, من أجل الدفاع عن الجبهة وتأمين التشكيلات المقاتلةوضع خطة كاملة تحقق الإنذار المبكر, وبناء مواقع محصنة تمكنها من الصمود, أمام القصف الجوي المعادي, وبالكثافة التي تمكن وحدات الدفاع الجوي, من مواجهة القوات الجوية الإسرائيلية. في حين واجهت قوات الدفاع الجوي المصرية مشكلات تتعلق بالإمكانات, وكيف توفر قيادة الدفاع الجوي العدد اللازم من وحدات الصواريخ, والمدفعية المضادة للطائرات, والإنذار, لبناء تجميع دفاع جوي متماسك وفعال وكذلك تحديد الأهداف الحيوية في مصر, ووضع أسبقية لكل منها, واستطاعت قوات الدفاع الجوي في النهاية, أن توفر ثلاث عشرة كتيبة ( سام']\n"
     ]
    },
    {
     "name": "stderr",
     "output_type": "stream",
     "text": [
      "Testing:  12%|█▏        | 12/98 [00:10<01:13,  1.16batch/s, Rouge1_Average=0.082, Rouge2_Average=0, RougeL_Average=0.082]  "
     ]
    },
    {
     "name": "stdout",
     "output_type": "stream",
     "text": [
      "['لقد أنتهت الحرب العالمية الأولى كما نعلم بأنتصار فرنسا وهزيمة ألمانيا. ولكنه كان فوزا محظوظا. فقد كانت احتمالات الهزيمة مقاربة لفرص الفوز. فكانت كطالب نجح فى امتحان صعب بتقدير مقبول فظن نفسه عبقرى العباقرة. وللمفارقة كما تحدثنا المرة الماضية فقد يكون الأنتصار احيانا أحد أسباب الهزيمة عندما يظن المنتصرأنه قد فعل كل شئ بشكل صحيح فيتوقف عن نقد ذاته والبحث عن أخطائه. بينما الخاسر يتشكك فى كل شئ ويسأل جميع الأسئلة ولا يدع حجرا ألا ويقلبه. ففى الحرب العالمية الثانية أتت الى ألمانيا قيادة شابة جديدة تحت قيادة هتلر غيرت كل شئ فى مقابل قيادة عسكرية فرنسية عجوزة أبطالها هم أبطال الحرب العالمية الأولى السابقون. فكان قائد القوات الفرنسية هو الجنرال جاملان ذو ال 68 ربيعا. واللذي للعجب الشديد اتخذ مقر قيادته فى قلعة عتيدة فى باريس لاتحتوى على جهاز ارسال لاسلكى واحد!. وكانت الرسائل السريعة تبعث عن طريق راكب دراجة نارية! وعندما تم استبدال جاملان بعد الخسائر الفرنسية المرعبة كان خليفته ذا اربعة وسبعين عاما وكانت فترة خدمته الأخيرة قد قضاها فى سوريا بعيدا عن التطورات الأخيرة. بل فى النهاية رأت فرنسا ان حل مشاكلها ربما يقدر عليه المارشال بيتان ذو الأربعة والثمانين عاما كما سنرى بعد قليل. كان الاستراتيجيون الفرنسيون عاكفين على دراسة الحرب العالمية الأولى بأدق تفاصيلها مع أن هتلر قد قال أن الحرب القادمة ستختلف عن الحرب السابقة أختلافا عظيما. وبينما كانت فرنسا رائدة فى الحرب العالمية الأولى في ميدان الطيران وأستخدام الدبابات فأن اعتمادها على وسائل الأنتقال في وقت الحرب العالمية الثانية قد تراجع الى خطوط السكك الحديدية والخيول!. وبينما كانت ألمانيا لا تمتلك اى دبابة فى الحرب العالمية الأولى وذاقت مرارة ذلك السلاح العجيب - فهى تمتلك القوة النارية للمدافع ومع ذلك فهى دينامكية سريعة الحركة - فأقبلت على أمتلاك ذلك السلاح الجديد بشراهة محدثى النعمة كانت ترى فرنسا فى الدبابة سلاح ثقيل الوزن ثقيل الظل. على العكس من ذلك طورت المان']\n",
      "['لقد أنتهت الحرب العالمية الأولى كما نعلم بأنتصار فرنسا وهزيمة ألمانيا. ولكنه كان فوزا محظوظا. فقد كانت احتمالات الهزيمة مقاربة لفرص الفوز. فكانت كطالب نجح فى امتحان صعب بتقدير مقبول فظن نفسه عبقرى العباقرة. وللمفارقة كما تحدثنا المرة الماضية فقد يكون الأنتصار احيانا أحد أسباب الهزيمة عندما يظن المنتصرأنه قد فعل كل شئ بشكل صحيح فيتوقف عن نقد ذاته والبحث عن أخطائه. بينما الخاسر يتشكك فى كل شئ ويسأل جميع الأسئلة ولا يدع حجرا ألا ويقلبه. ففى الحرب العالمية الثانية أتت الى ألمانيا قيادة شابة جديدة تحت قيادة هتلر غيرت كل شئ فى مقابل قيادة عسكرية فرنسية عجوزة أبطالها هم أبطال الحرب العالمية الأولى السابقون. فكان قائد القوات الفرنسية هو الجنرال جاملان ذو ال 68 ربيعا. واللذي للعجب الشديد اتخذ مقر قيادته فى قلعة عتيدة فى باريس لاتحتوى على جهاز ارسال لاسلكى واحد!. وكانت الرسائل السريعة تبعث عن طريق راكب دراجة نارية! وعندما تم استبدال جاملان بعد الخسائر الفرنسية المرعبة كان خليفته ذا اربعة وسبعين عاما وكانت فترة خدمته الأخيرة قد قضاها فى سوريا بعيدا عن التطورات الأخيرة. بل فى النهاية رأت فرنسا ان حل مشاكلها ربما يقدر عليه المارشال بيتان ذو الأربعة والثمانين عاما كما سنرى بعد قليل. كان الاستراتيجيون الفرنسيون عاكفين على دراسة الحرب العالمية الأولى بأدق تفاصيلها مع أن هتلر قد قال أن الحرب القادمة ستختلف عن الحرب السابقة أختلافا عظيما. وبينما كانت فرنسا رائدة فى الحرب العالمية الأولى في ميدان الطيران وأستخدام الدبابات فأن اعتمادها على وسائل الأنتقال في وقت الحرب العالمية الثانية قد تراجع الى خطوط السكك الحديدية والخيول!. وبينما كانت ألمانيا لا تمتلك اى دبابة فى الحرب العالمية الأولى وذاقت مرارة ذلك السلاح العجيب - فهى تمتلك القوة النارية للمدافع ومع ذلك فهى دينامكية سريعة الحركة - فأقبلت على أمتلاك ذلك السلاح الجديد بشراهة محدثى النعمة كانت ترى فرنسا فى الدبابة سلاح ثقيل الوزن ثقيل الظل. على العكس من ذلك طورت المان']\n"
     ]
    },
    {
     "name": "stderr",
     "output_type": "stream",
     "text": [
      "Testing:  13%|█▎        | 13/98 [00:10<01:05,  1.30batch/s, Rouge1_Average=0.0757, Rouge2_Average=0, RougeL_Average=0.0757]"
     ]
    },
    {
     "name": "stdout",
     "output_type": "stream",
     "text": [
      "['حيث أعلن مجلس قيادة الثورة في 18 يونيه 1953 قيام الجمهورية المصرية ، وفي 16 يناير 1956 أعلن الرئيس جمال عبد الناصر الدستور الجديد متضمنا مبادئ المجتمع الجديد ، وموضحا حدود كل سلطة من السلطات الثلاثة ( التشريعية ، والتنفيذية ، والقضائية ) ولما قامت الوحدة بين مصر وسوريا أعلن في 5 فبراير 1958 الدستور المؤقت للجمهورية العربية المتحدة ، لكن بعد الانفصال صدر في 27 سبتمبر إعلان دستور جديد. وتعرض ذاكرة مصر المعاصرة تفاصيل اتفاقية الجلاء بين مصر وبريطانيا في 19 أكتوبر 1954، والتي تقرر بموجبها إلغاء معاهدة 1936، وتحديد فترة لا تزيد عن عشرين شهرا يتم خلالها خروج جميع القوات البريطانية من مصر ، والاعتراف بقناة السويس كجزء لا يتجزأ عن مصر ، على أن تكون الملاحة فيها مكفولة لجميع الدول على السواء طبقا لاتفاقية القسطنطينية عام 188، والاحتفاظ بالقواعد والمنشآت العسكرية بمنطقة القناة في حالة صالحة مع إبقاء بعض الخبراء المدنيين الإنجليز لإدارتها وصيانتها. حددت الاتفاقية أيضا أنه في حالة حدوث هجوم مسلح على مصر أو على إحدى الدول العربية المشتركة في ميثاق الضمان الجماعي ، أو على تركيا تقوم مصر بتقديم التسهيلات اللازمة لبريطانيا لعودة جنودها إلى القاعدة للدفاع عنها ، على أن تسحب إنجلترا قواتها فورا من مصر بعد انتهاء الحرب. وفي 26 يوليه 1956 أعلن عبد الناصر في مدينة الإسكندرية بقرار جمهوري تأميم شركة قناة السويس شركة مساهمة مصرية لتمويل مشروع السد العالي بعد سحب الولايات المتحدة والبنك الدولي مشروع تمويل بناء السد وازداد التوتر مع فرنسا بسبب دعم مصر لثورة الجزائر ، وذلك قبل انتهاء عقد امتلاك بريطانيا للشركة بعدة سنين مما أدى إلى توتر وتصاعد وجلب العداء لمصر. تحتفي ذاكرة مصر المعاصرة بمكتبة الإسكندرية ، في ذكرى مرور 59 عام على قيام ثورة 23 يوليو ، بتوثيق حي لتاريخ الثورة ويومياتها من خلال مجموعة نادرة من الفيديوهات والصوتيات وأهم الخطب والوثائق الخاصة بها يوم بيوم.']\n",
      "['حيث أعلن مجلس قيادة الثورة في 18 يونيه 1953 قيام الجمهورية المصرية ، وفي 16 يناير 1956 أعلن الرئيس جمال عبد الناصر الدستور الجديد متضمنا مبادئ المجتمع الجديد ، وموضحا حدود كل سلطة من السلطات الثلاثة ( التشريعية ، والتنفيذية ، والقضائية ) ولما قامت الوحدة بين مصر وسوريا أعلن في 5 فبراير 1958 الدستور المؤقت للجمهورية العربية المتحدة ، لكن بعد الانفصال صدر في 27 سبتمبر إعلان دستور جديد. وتعرض ذاكرة مصر المعاصرة تفاصيل اتفاقية الجلاء بين مصر وبريطانيا في 19 أكتوبر 1954، والتي تقرر بموجبها إلغاء معاهدة 1936، وتحديد فترة لا تزيد عن عشرين شهرا يتم خلالها خروج جميع القوات البريطانية من مصر ، والاعتراف بقناة السويس كجزء لا يتجزأ عن مصر ، على أن تكون الملاحة فيها مكفولة لجميع الدول على السواء طبقا لاتفاقية القسطنطينية عام 188، والاحتفاظ بالقواعد والمنشآت العسكرية بمنطقة القناة في حالة صالحة مع إبقاء بعض الخبراء المدنيين الإنجليز لإدارتها وصيانتها. حددت الاتفاقية أيضا أنه في حالة حدوث هجوم مسلح على مصر أو على إحدى الدول العربية المشتركة في ميثاق الضمان الجماعي ، أو على تركيا تقوم مصر بتقديم التسهيلات اللازمة لبريطانيا لعودة جنودها إلى القاعدة للدفاع عنها ، على أن تسحب إنجلترا قواتها فورا من مصر بعد انتهاء الحرب. وفي 26 يوليه 1956 أعلن عبد الناصر في مدينة الإسكندرية بقرار جمهوري تأميم شركة قناة السويس شركة مساهمة مصرية لتمويل مشروع السد العالي بعد سحب الولايات المتحدة والبنك الدولي مشروع تمويل بناء السد وازداد التوتر مع فرنسا بسبب دعم مصر لثورة الجزائر ، وذلك قبل انتهاء عقد امتلاك بريطانيا للشركة بعدة سنين مما أدى إلى توتر وتصاعد وجلب العداء لمصر. تحتفي ذاكرة مصر المعاصرة بمكتبة الإسكندرية ، في ذكرى مرور 59 عام على قيام ثورة 23 يوليو ، بتوثيق حي لتاريخ الثورة ويومياتها من خلال مجموعة نادرة من الفيديوهات والصوتيات وأهم الخطب والوثائق الخاصة بها يوم بيوم.']\n",
      "['ينتمي حسين الشافعي إلى أسرة متماسكة إلى حد بعيد ، وكان يربطها قيم واحترام متبادل لدرجة عميقةالتحق حسين الشافعي بالكلية الحربية عام 1936، وكانت هذه الحادثة باكورة سخطه على الوجود البريطاني في مصر ، حيث كان ( تيت بيه ) و ( سوربرن بيه ) الإنكليزيين من ضمن لجنة كشف الهيئة ، وقد كان عبد المنعم رياض من ضمن دفعة الشافعي ، أما جمال عبد الناصر فقد التحق بالكلية الحربية في الدفعة التي تليها. وهناك تعرف الرجلان عام 1937 خلال دراستهما في الكلية الحربية. كما تعرف أيضا على زكريا محيي الدين وأنور السادات. سافر إلى إنجلترا لمدة ثلاثة أشهر قبيل تخرجه من الكلية الحربية عام 1939 م ، وهو ذات العام الذي اندلعت فيه الحرب العالمية الثانية ، حيث التحق بسلاح الفرسان ( السواري آنذاك ) وبقي فيه حتى قيام الثورة. عندما قامت حرب فلسطين عام 1948 م ، كان حسين الشافعي منتدبا في الإدارة العامة للجيش. أثناء هذه الحرب حوصرت قوات مصرية في الفالوجة ، وكان جمال عبد الناصر ومعروف الحضري ( الذي قام بنقل المؤن الي القوات المصرية خلال الحصار ) وضباط آخرون ضمن هذا الحصار. وتوسعت علاقة الشافعي مع العديد من الضباط من خلال وجوده في إدارة الجيش مسؤولا عن الضباط وتنقلاتهم. وهناك ، وعلى إثر نتائج الحرب فقد بدأ الشعور بالغليان بين ضباط الجيش. بدأت علاقة الشافعي بتنظيم الضباط الأحرار باللقاء العرضي الذي حدث في الأسبوع الأول من شهر سبتمبر عام 1951 م في إدارة الجيش مع جمال عبد الناصر الذي كان يمر على إدارة الجيش ، التقى الرجلان على السلم الخارجي ، ولم يكن الشافعي على يقين أن عبد الناصر على رأس التنظيم ، ولكنه تكلم إليه على أنه أحد الضباط الأحرار ، ودار الحديث عن الوضع الذي لا يحسدون عليه والتي آلت إليه الأمور. أخذ عبد الناصر يسمع كلام الشافعي دون أي تعليق ، ولكن في نفس اليوم زار الشافعي كل من ثروت عكاشة وعثمان فوزي وأبلغوه بمسؤوليته عن قيادة سلاح الفرسان لحساب الثورة بمدرعاته ، ودباباته ، وعرباته المدرعة. أنهي انتداب الشافعي في إدارة الجيش يوم 20 أكتوبر 1951، عاد بعدها لسلاح الفرسان وبدأ']\n",
      "['ينتمي حسين الشافعي إلى أسرة متماسكة إلى حد بعيد ، وكان يربطها قيم واحترام متبادل لدرجة عميقةالتحق حسين الشافعي بالكلية الحربية عام 1936، وكانت هذه الحادثة باكورة سخطه على الوجود البريطاني في مصر ، حيث كان ( تيت بيه ) و ( سوربرن بيه ) الإنكليزيين من ضمن لجنة كشف الهيئة ، وقد كان عبد المنعم رياض من ضمن دفعة الشافعي ، أما جمال عبد الناصر فقد التحق بالكلية الحربية في الدفعة التي تليها. وهناك تعرف الرجلان عام 1937 خلال دراستهما في الكلية الحربية. كما تعرف أيضا على زكريا محيي الدين وأنور السادات. سافر إلى إنجلترا لمدة ثلاثة أشهر قبيل تخرجه من الكلية الحربية عام 1939 م ، وهو ذات العام الذي اندلعت فيه الحرب العالمية الثانية ، حيث التحق بسلاح الفرسان ( السواري آنذاك ) وبقي فيه حتى قيام الثورة. عندما قامت حرب فلسطين عام 1948 م ، كان حسين الشافعي منتدبا في الإدارة العامة للجيش. أثناء هذه الحرب حوصرت قوات مصرية في الفالوجة ، وكان جمال عبد الناصر ومعروف الحضري ( الذي قام بنقل المؤن الي القوات المصرية خلال الحصار ) وضباط آخرون ضمن هذا الحصار. وتوسعت علاقة الشافعي مع العديد من الضباط من خلال وجوده في إدارة الجيش مسؤولا عن الضباط وتنقلاتهم. وهناك ، وعلى إثر نتائج الحرب فقد بدأ الشعور بالغليان بين ضباط الجيش. بدأت علاقة الشافعي بتنظيم الضباط الأحرار باللقاء العرضي الذي حدث في الأسبوع الأول من شهر سبتمبر عام 1951 م في إدارة الجيش مع جمال عبد الناصر الذي كان يمر على إدارة الجيش ، التقى الرجلان على السلم الخارجي ، ولم يكن الشافعي على يقين أن عبد الناصر على رأس التنظيم ، ولكنه تكلم إليه على أنه أحد الضباط الأحرار ، ودار الحديث عن الوضع الذي لا يحسدون عليه والتي آلت إليه الأمور. أخذ عبد الناصر يسمع كلام الشافعي دون أي تعليق ، ولكن في نفس اليوم زار الشافعي كل من ثروت عكاشة وعثمان فوزي وأبلغوه بمسؤوليته عن قيادة سلاح الفرسان لحساب الثورة بمدرعاته ، ودباباته ، وعرباته المدرعة. أنهي انتداب الشافعي في إدارة الجيش يوم 20 أكتوبر 1951، عاد بعدها لسلاح الفرسان وبدأ']\n"
     ]
    },
    {
     "name": "stderr",
     "output_type": "stream",
     "text": [
      "Testing:  15%|█▌        | 15/98 [00:12<01:05,  1.26batch/s, Rouge1_Average=0.0767, Rouge2_Average=0, RougeL_Average=0.0767]"
     ]
    },
    {
     "name": "stdout",
     "output_type": "stream",
     "text": [
      "['وفي يوم 21 مايو عام 1920 م تم قبول إستقالة وزارة يوسف وهبة باشا وكلف السلطان فؤاد وزير داخليته محمد توفيق نسيم باشا بتشكيل الوزارة الجديدة وقوبلت تلك الوزارة أيضا كسابقتها بسخط وغضب شديدين من جانب جميع أفراد وطوائف الشعب المصرى وألقى أحد الطلبة بقنبلة علي سيارة محمد توفيق نسيم باشا ولكنها لم تصبه بسوء وبعد تشكيل تلك الوزارة بأيام قليلة دعا اللورد الفريد ملنر وزير المستعمرات البريطانية أعضاء الوفد المصرى للحضور إلي لندن للتفاوض مع اللجنة التي يترأسها والتي كانت قد عادت إلى لندن في شهر مارس عام 1920 م بعد أن مكثت مدة 3 شهور في مصر تدرس أسباب ودوافع ثورة عام 1919 م وإقتراح حلول للقضية المصرية وأرسل الوفد المصرى 3 من أعضائه هم محمد محمود باشا وعلى ماهر باشا وعبد العزيز باشا فهمي لجس نبض مدى إستعداد الحكومة البريطانية لحل القضية المصرية وبعدها قرر الوفد المضي قدما في المفاوضات مع لجنة ملنر ووصل الوفد المصرى إلى لندن يوم 5 يونيو عام 1920 م وإستقبله المصريون المقيمون هناك في محطة فيكتوريا وإلتقى الوفد مع اللورد ملنر يوم 7 يونيو عام 1920 م والذى قدم للوفد مشروع معاهدة بين مصر وبريطانيا رفضه الوفد لأنه لا يتمشي مع مطالب مصر وقدم الوفد مشروعا أيضا حول نفس الموضوع رفضته اللجنة وتوقفت المفاوضات بين الجانبين ثم تم إستئنافها مرة أخرى بوساطة من عدلي يكن باشا وتم عمل تعديلات بمشروع المعاهدة المقترح من لجنة ملنر في بعض البنود الثانوية ولم تتطرق التعديلات إلي البنود الأساسية وتم عرضه علي الوفد المصرى الذى تشاور أعضاؤه بشأن القرار الذى سيتخذه الوفد المصرى بقبول أو رفض هذا المشروع وفي النهاية إستقر الرأى علي عرض المشروع علي الرأى العام المصرى وأصدر الحزب الوطني بيانا يناشد فيه المصريين عدم الموافقة على تلك المعاهدة وقابل الوفد اللورد ملنر مرة أخرى لكي يعرض عليه تحفظات المصريين علي مشروع المعاهدة فرفض اللورد ملنر مناقشة الأمر وتوقفت المفاوضات عند هذا الحد وغادر الوفد لندن وتوجه إلى باريس في شهر نوفمبر عام 1920 م ومن هناك ناشد سعد زغلول باشا جميع المصريين بضرورة التوحد والتضحية حتي تنال مصر إستقلالها وقدم اللورد ملنر إستقالته من منصبه في شهر يناير عام']\n",
      "['وفي يوم 21 مايو عام 1920 م تم قبول إستقالة وزارة يوسف وهبة باشا وكلف السلطان فؤاد وزير داخليته محمد توفيق نسيم باشا بتشكيل الوزارة الجديدة وقوبلت تلك الوزارة أيضا كسابقتها بسخط وغضب شديدين من جانب جميع أفراد وطوائف الشعب المصرى وألقى أحد الطلبة بقنبلة علي سيارة محمد توفيق نسيم باشا ولكنها لم تصبه بسوء وبعد تشكيل تلك الوزارة بأيام قليلة دعا اللورد الفريد ملنر وزير المستعمرات البريطانية أعضاء الوفد المصرى للحضور إلي لندن للتفاوض مع اللجنة التي يترأسها والتي كانت قد عادت إلى لندن في شهر مارس عام 1920 م بعد أن مكثت مدة 3 شهور في مصر تدرس أسباب ودوافع ثورة عام 1919 م وإقتراح حلول للقضية المصرية وأرسل الوفد المصرى 3 من أعضائه هم محمد محمود باشا وعلى ماهر باشا وعبد العزيز باشا فهمي لجس نبض مدى إستعداد الحكومة البريطانية لحل القضية المصرية وبعدها قرر الوفد المضي قدما في المفاوضات مع لجنة ملنر ووصل الوفد المصرى إلى لندن يوم 5 يونيو عام 1920 م وإستقبله المصريون المقيمون هناك في محطة فيكتوريا وإلتقى الوفد مع اللورد ملنر يوم 7 يونيو عام 1920 م والذى قدم للوفد مشروع معاهدة بين مصر وبريطانيا رفضه الوفد لأنه لا يتمشي مع مطالب مصر وقدم الوفد مشروعا أيضا حول نفس الموضوع رفضته اللجنة وتوقفت المفاوضات بين الجانبين ثم تم إستئنافها مرة أخرى بوساطة من عدلي يكن باشا وتم عمل تعديلات بمشروع المعاهدة المقترح من لجنة ملنر في بعض البنود الثانوية ولم تتطرق التعديلات إلي البنود الأساسية وتم عرضه علي الوفد المصرى الذى تشاور أعضاؤه بشأن القرار الذى سيتخذه الوفد المصرى بقبول أو رفض هذا المشروع وفي النهاية إستقر الرأى علي عرض المشروع علي الرأى العام المصرى وأصدر الحزب الوطني بيانا يناشد فيه المصريين عدم الموافقة على تلك المعاهدة وقابل الوفد اللورد ملنر مرة أخرى لكي يعرض عليه تحفظات المصريين علي مشروع المعاهدة فرفض اللورد ملنر مناقشة الأمر وتوقفت المفاوضات عند هذا الحد وغادر الوفد لندن وتوجه إلى باريس في شهر نوفمبر عام 1920 م ومن هناك ناشد سعد زغلول باشا جميع المصريين بضرورة التوحد والتضحية حتي تنال مصر إستقلالها وقدم اللورد ملنر إستقالته من منصبه في شهر يناير عام']\n",
      "['وفي الفترة التي سبقت حرب أكتوبر عام 1973 م كان الدكتور حاتم نائبا لرئيس مجلس الوزراء ووزيرا للإعلام وكان رئيس الوزراء هو الرئيس الراحل أنور السادات والذى كلفه برئاسة مجلس الوزراء بالنيابة عنه نظرا لإنشغاله بالإعداد للحرب وكانت كل موضوعات الإعلام المصري تعتبر حملة خداع من جانب الرئيس أنور السادات ومعه الدكتور حاتم وكان ذلك أكبر نجاح لمصر في حرب يوم الغفران السادس من أكتوبر عام 1973 م كما قالت وسائل الإعلام الإسرائيلية علي لسان الجنرال إيلي زعيرا رئيس الإستخبارات العسكرية الإسرائيلية حينذاك وهي العبارة التي ذكرها أيضا في كتابه حرب يوم الغفران معبراعن مدى نجاح الإعلام المصري في إخفاء القدرة على الحرب وتحقيق المفاجأة الإستراتيجية في حرب أكتوبر وكان صاحب الخطة هو الدكتور محمد عبدالقادر حاتم ولذا فقد أطلق عليه صاحب خطة الخداع الإستراتيجي في الإعلام أثناء حرب أكتوبر عام 1973 م حيث أسند إليه الرئيس الراحل أنور السادات مسئولية إعداد الدولة للحرب وقد سرد الدكتور حاتم ملخص تجربته التي كلفه بها الرئيس السادات في كتابه دور الإعلام في تحقيق المفاجأة الإستراتيجية قائلا كان أمامي فجوة عدم الثقة بين الشعب وأجهزة الإعلام وكان سببها فقدان مصداقية الحكومة وجهازها الإعلامي منذ عام 1967 م لذلك كان دستور الإذاعة والإعلام في عام 1973 م هو الصدق والسرعة في نقل الخبر بحيث يسمع المواطن المصري أول خبر عن أحداث الحرب بسرعة من مصادر الإعلام المصرية قبل أن يسمعها عن طريق وسائل الإعلام الأجنبية وأضاف أيضا في سرد تجربته إنه عندما كلفه الرئيس الراحل أنور السادات قبل حرب أكتوبر عام 1973 م بأن يكون مسؤولا عن الحكومة وأن أنوب عنه في رئاسة مجلس الوزراء وإنعكس ذلك على قراري الأول في مجلس الوزراء وهو عدم الإدلاء بأي تصريح مباشر أو تلميح عن الأداء أو الإستعداد للحرب وإنطبق ذلك على العسكريين والسياسيين أيضا وكان بذلك يستفيد من الدروس السابقة نتيجة التصريحات غير المسئولة التي طالما ترددت وإستغلتها إسرائيل لمصلحتها حتى حدثت هزيمة يونيو عام 1967 م وبالتالي كانت بداية خطة العمل هي الإستفادة من الدروس المؤلمة للنكسة وكانت إحدى أولوياته حينذاك هي إستعادة ثقة الشعب في الحكومة وفي وسائل الإعلام الوطنية وعلى هذا الأساس جري الإعداد والتخطيط الذي حقق النصر وكان إعلام أكتوبر سندا وعونا في نجاح الجهد الدبلوماسي والأداء العسكري في تحقيق النصر النهائي.']\n",
      "['وفي الفترة التي سبقت حرب أكتوبر عام 1973 م كان الدكتور حاتم نائبا لرئيس مجلس الوزراء ووزيرا للإعلام وكان رئيس الوزراء هو الرئيس الراحل أنور السادات والذى كلفه برئاسة مجلس الوزراء بالنيابة عنه نظرا لإنشغاله بالإعداد للحرب وكانت كل موضوعات الإعلام المصري تعتبر حملة خداع من جانب الرئيس أنور السادات ومعه الدكتور حاتم وكان ذلك أكبر نجاح لمصر في حرب يوم الغفران السادس من أكتوبر عام 1973 م كما قالت وسائل الإعلام الإسرائيلية علي لسان الجنرال إيلي زعيرا رئيس الإستخبارات العسكرية الإسرائيلية حينذاك وهي العبارة التي ذكرها أيضا في كتابه حرب يوم الغفران معبراعن مدى نجاح الإعلام المصري في إخفاء القدرة على الحرب وتحقيق المفاجأة الإستراتيجية في حرب أكتوبر وكان صاحب الخطة هو الدكتور محمد عبدالقادر حاتم ولذا فقد أطلق عليه صاحب خطة الخداع الإستراتيجي في الإعلام أثناء حرب أكتوبر عام 1973 م حيث أسند إليه الرئيس الراحل أنور السادات مسئولية إعداد الدولة للحرب وقد سرد الدكتور حاتم ملخص تجربته التي كلفه بها الرئيس السادات في كتابه دور الإعلام في تحقيق المفاجأة الإستراتيجية قائلا كان أمامي فجوة عدم الثقة بين الشعب وأجهزة الإعلام وكان سببها فقدان مصداقية الحكومة وجهازها الإعلامي منذ عام 1967 م لذلك كان دستور الإذاعة والإعلام في عام 1973 م هو الصدق والسرعة في نقل الخبر بحيث يسمع المواطن المصري أول خبر عن أحداث الحرب بسرعة من مصادر الإعلام المصرية قبل أن يسمعها عن طريق وسائل الإعلام الأجنبية وأضاف أيضا في سرد تجربته إنه عندما كلفه الرئيس الراحل أنور السادات قبل حرب أكتوبر عام 1973 م بأن يكون مسؤولا عن الحكومة وأن أنوب عنه في رئاسة مجلس الوزراء وإنعكس ذلك على قراري الأول في مجلس الوزراء وهو عدم الإدلاء بأي تصريح مباشر أو تلميح عن الأداء أو الإستعداد للحرب وإنطبق ذلك على العسكريين والسياسيين أيضا وكان بذلك يستفيد من الدروس السابقة نتيجة التصريحات غير المسئولة التي طالما ترددت وإستغلتها إسرائيل لمصلحتها حتى حدثت هزيمة يونيو عام 1967 م وبالتالي كانت بداية خطة العمل هي الإستفادة من الدروس المؤلمة للنكسة وكانت إحدى أولوياته حينذاك هي إستعادة ثقة الشعب في الحكومة وفي وسائل الإعلام الوطنية وعلى هذا الأساس جري الإعداد والتخطيط الذي حقق النصر وكان إعلام أكتوبر سندا وعونا في نجاح الجهد الدبلوماسي والأداء العسكري في تحقيق النصر النهائي.']\n"
     ]
    },
    {
     "name": "stderr",
     "output_type": "stream",
     "text": [
      "Testing:  17%|█▋        | 17/98 [00:13<01:03,  1.28batch/s, Rouge1_Average=0.0677, Rouge2_Average=0, RougeL_Average=0.0677]"
     ]
    },
    {
     "name": "stdout",
     "output_type": "stream",
     "text": [
      "['أثناء معركة أوبيس كانت الإمبراطورية الفارسية قد بسطت سيطرتها على غرب آسيا حيث تمكنت خلال سنوات قليلة من إسقاط إمبراطوريتي ميديا و ليديا وذلك أثناء حكم كورش الكبير ، وتمكنت من السيطرة على أراضي إيران و تركيا و أذربيجان و أفغانستان و تركمانستان وكانت القوة الوحيدة الموجودة في غرب فارس هي بابل التي كانت تحكم بلاد النهرين و الهلال الخصيب وشمال شبه الجزيرة العربية بالإضافة إلى السواحل الغربية الملطلة على الخليج العربي والذي كان يسمى أنذاك ببحر الكلدان نسبا للكلدان الذين كانوا يحكمون بابل أنذاك.[7] زيادة النفوذ الفارسي في المنطقة قابله ضعف في السلطة في بابل ، فملك بابل أنذاك فضل زيادة سلطة بابل بإحتلال أراضي شمال شبه الجزيرة العربية حيث أنه كان يكره البقاء في بابل على حد قول العديد من المصادر لأنه فضل عبادة الإله سين والذي كانت والدته أداغوبي الحارانية كاهنة عنده لذلك فقد فضل الإستقرار في مدينة تيماء التي تقع حاليا في السعودية بينما ترك إبنه بلشاصر ليقود السلطة في بابل والذي كان عديم الخبرة في الحكم وحسب ما ذكر في سفر دانيال في الكتاب المقدس أن بلشاصر كان دائما يفضل إقامة الحفلات والإستمتاع بالخمر والنساء بدل الحكم كما كان جده نبوخذ نصر الثاني. ترك نبونيد الحكم في بابل لإبنه بلشاصر وتفضيله لعبادة سين بدلا من إله بابل الرئيسي مردوخ سبب ضغينة الطبقة الحاكمة بالإضافة إلى الكهنة لقيامه بذلك لدرجة أن بعضهم كان يتآمر ضده. هناك مصادر تاريخية أخرى ذكرت أن قائد لجيش بابلي من أصل ميدي فارسي يدعى جوبارو خان السلطة البابلية وقرر الوقوف مع الفرس ضد بابل ، جوبارو كان يعتمد عليه الملك نبونيد في وقف زحف القوات الفارسية والميدية ضد بابل بينما كان هو يستقر في تيماء وبعد أن سمع نبونيد بخيانة قائد جيشه قرر ترك موقعه على الفور والعودة إلى بابل لكن يبدو أن عودته كانت متأخرة حيث كان الفرس عندها يتمركزون قرب مدينة أوبيس ليتمكنوا من إجتيازها ، النصوص البابلية ذكرت أشارت إلى إنفتاح نبونيد بعد عودته لبابل بطلب معونة آلهة']\n",
      "['أثناء معركة أوبيس كانت الإمبراطورية الفارسية قد بسطت سيطرتها على غرب آسيا حيث تمكنت خلال سنوات قليلة من إسقاط إمبراطوريتي ميديا و ليديا وذلك أثناء حكم كورش الكبير ، وتمكنت من السيطرة على أراضي إيران و تركيا و أذربيجان و أفغانستان و تركمانستان وكانت القوة الوحيدة الموجودة في غرب فارس هي بابل التي كانت تحكم بلاد النهرين و الهلال الخصيب وشمال شبه الجزيرة العربية بالإضافة إلى السواحل الغربية الملطلة على الخليج العربي والذي كان يسمى أنذاك ببحر الكلدان نسبا للكلدان الذين كانوا يحكمون بابل أنذاك.[7] زيادة النفوذ الفارسي في المنطقة قابله ضعف في السلطة في بابل ، فملك بابل أنذاك فضل زيادة سلطة بابل بإحتلال أراضي شمال شبه الجزيرة العربية حيث أنه كان يكره البقاء في بابل على حد قول العديد من المصادر لأنه فضل عبادة الإله سين والذي كانت والدته أداغوبي الحارانية كاهنة عنده لذلك فقد فضل الإستقرار في مدينة تيماء التي تقع حاليا في السعودية بينما ترك إبنه بلشاصر ليقود السلطة في بابل والذي كان عديم الخبرة في الحكم وحسب ما ذكر في سفر دانيال في الكتاب المقدس أن بلشاصر كان دائما يفضل إقامة الحفلات والإستمتاع بالخمر والنساء بدل الحكم كما كان جده نبوخذ نصر الثاني. ترك نبونيد الحكم في بابل لإبنه بلشاصر وتفضيله لعبادة سين بدلا من إله بابل الرئيسي مردوخ سبب ضغينة الطبقة الحاكمة بالإضافة إلى الكهنة لقيامه بذلك لدرجة أن بعضهم كان يتآمر ضده. هناك مصادر تاريخية أخرى ذكرت أن قائد لجيش بابلي من أصل ميدي فارسي يدعى جوبارو خان السلطة البابلية وقرر الوقوف مع الفرس ضد بابل ، جوبارو كان يعتمد عليه الملك نبونيد في وقف زحف القوات الفارسية والميدية ضد بابل بينما كان هو يستقر في تيماء وبعد أن سمع نبونيد بخيانة قائد جيشه قرر ترك موقعه على الفور والعودة إلى بابل لكن يبدو أن عودته كانت متأخرة حيث كان الفرس عندها يتمركزون قرب مدينة أوبيس ليتمكنوا من إجتيازها ، النصوص البابلية ذكرت أشارت إلى إنفتاح نبونيد بعد عودته لبابل بطلب معونة آلهة']\n",
      "['والحقيقة التي ينبغي أن ينتبه إليها القراء إن نبوخذنصر الثاني سواء ذكر مجردا من الترتيب أو مع صفة الثاني الحديثة ، فإنه بعيدا عن الهالة الكتابية حول شخصه ، وبرغم جميع منجزاته العسكرية التي ضاهت منجزات أقدر ملوك أكد وآشور ، إلا أن عظمته وشهرته لم تأت من كونه فاتح كبير أو قائد عسكري لا يشق له غبار وإنما بسبب منجزاته المدنية والفكرية ، فقد تمكن نبوخذنصر الثاني خلال سنوات حكمه الثلاثة والأربعين من تحويل بابل حمورابي المدينة الأهم في وادي الرافدين إلى أعظم مدينة عرفها العالم القديم كما يقول نيكولاس بوستيغيت ، حيث يصف أسوارها المزدوجة المؤرخ هيرودتس قائلا أنها المدينة الوحيدة في العالم التي تتمكن عربة تجرها أربعة خيول من السير على أسوارها / طرق سريعة - high-way - ناهيك عن عظمة معابدها التي وصفها روبرت كولدفاي - robert koldewey - في كتابيه الشهيرين معابد بابل وبورسيبا وبوابة عشتار وكتابه الآخر القلاع الملكية في بابل مثلما وصفها فريتز كريشن - fritz krischen - في كتابه الشهير عجائب الدنيا في عمارة بابل ، لكن القليلين يعرفون بأن آخر شريعة رافدية قبل عصر الغزاة كانت واحدة من إنجازات نبوخذ نصر الثاني ، كما أن اقدم متحف للآثار كان قد وضعه نبوخذنصر الثاني في قصره الشمالي المعروف بأسم القصر الرئيس والذي يقع خارج أسوار بابل الداخلية ، أكتشف هذا المتحف العالم الآثاري أونكر ويسبق هذا المتحف البابلي متحف الإسكندرية الذي يعتقد البعض خطأ بأنه أقدم متحف في التاريخ ، كما يعد المسرح البابلي الأصلي الذي كانت تجرى عليه تمثيليات تحاكي قصة الخليقة البابلية إينوما إيليش من قبل ممثلين / موميلو وممثلات / موميلتو ترافقهم جوقة من المرتلين والممثلين المساعدين والذي يقع تحت المسرح السلوقي الموجود حاليا في بابل أقدم مسرح معروف ، ناهيكم عن الجنائن المعلقة والتي هي في حقيقتها ثلاجة بابل الملكية ، وتقع في الموضع المسمى بيت الأقبية ، وهنالك العديد من المصادر الذي تناولت هذه المنجزات تفصيليا ، لكنني سأ']\n",
      "['والحقيقة التي ينبغي أن ينتبه إليها القراء إن نبوخذنصر الثاني سواء ذكر مجردا من الترتيب أو مع صفة الثاني الحديثة ، فإنه بعيدا عن الهالة الكتابية حول شخصه ، وبرغم جميع منجزاته العسكرية التي ضاهت منجزات أقدر ملوك أكد وآشور ، إلا أن عظمته وشهرته لم تأت من كونه فاتح كبير أو قائد عسكري لا يشق له غبار وإنما بسبب منجزاته المدنية والفكرية ، فقد تمكن نبوخذنصر الثاني خلال سنوات حكمه الثلاثة والأربعين من تحويل بابل حمورابي المدينة الأهم في وادي الرافدين إلى أعظم مدينة عرفها العالم القديم كما يقول نيكولاس بوستيغيت ، حيث يصف أسوارها المزدوجة المؤرخ هيرودتس قائلا أنها المدينة الوحيدة في العالم التي تتمكن عربة تجرها أربعة خيول من السير على أسوارها / طرق سريعة - high-way - ناهيك عن عظمة معابدها التي وصفها روبرت كولدفاي - robert koldewey - في كتابيه الشهيرين معابد بابل وبورسيبا وبوابة عشتار وكتابه الآخر القلاع الملكية في بابل مثلما وصفها فريتز كريشن - fritz krischen - في كتابه الشهير عجائب الدنيا في عمارة بابل ، لكن القليلين يعرفون بأن آخر شريعة رافدية قبل عصر الغزاة كانت واحدة من إنجازات نبوخذ نصر الثاني ، كما أن اقدم متحف للآثار كان قد وضعه نبوخذنصر الثاني في قصره الشمالي المعروف بأسم القصر الرئيس والذي يقع خارج أسوار بابل الداخلية ، أكتشف هذا المتحف العالم الآثاري أونكر ويسبق هذا المتحف البابلي متحف الإسكندرية الذي يعتقد البعض خطأ بأنه أقدم متحف في التاريخ ، كما يعد المسرح البابلي الأصلي الذي كانت تجرى عليه تمثيليات تحاكي قصة الخليقة البابلية إينوما إيليش من قبل ممثلين / موميلو وممثلات / موميلتو ترافقهم جوقة من المرتلين والممثلين المساعدين والذي يقع تحت المسرح السلوقي الموجود حاليا في بابل أقدم مسرح معروف ، ناهيكم عن الجنائن المعلقة والتي هي في حقيقتها ثلاجة بابل الملكية ، وتقع في الموضع المسمى بيت الأقبية ، وهنالك العديد من المصادر الذي تناولت هذه المنجزات تفصيليا ، لكنني سأ']\n"
     ]
    },
    {
     "name": "stderr",
     "output_type": "stream",
     "text": [
      "Testing:  19%|█▉        | 19/98 [00:15<00:59,  1.32batch/s, Rouge1_Average=0.0606, Rouge2_Average=0, RougeL_Average=0.0606]"
     ]
    },
    {
     "name": "stdout",
     "output_type": "stream",
     "text": [
      "['لقد ادرك المغول خلال توجههم نحو بغداد ان الخلافة العباسية اصبحت بمفردها تماما وان كل من يمكن ان يساعد الخلافة في صراعها المقبل مع المغول منشغلا في صراعاته الداخلية ، ومن الواضح ان المغول عندما اعدوا حملتهم العسكرية الكبيرة ضد الخلافة العباسية كانوا قد اختبروا القوى الاسلامية في المنطقة سواء بحملاتهم السابقة على الاراضي الاسلامية بين الحين والاخر ، او عن طريق جواسيسهم التي لعبت دروا كبيرا في استمالة بعض الحكام المسلمين بالترهيب والترغيب. ففي بغداد كان هناك الوزير ابن العلقمي الذي ذكر عنه المؤرخون انه كان يكاتب المغول سرا ويحثهم على غزو العراق والاستيلاء على بغداد ([7]). وفي الموصل كان هناك بدر الدين لؤلؤ الذي امد المغول ببعض الات القتال والجنود ، بل و يقال بان ابنه الصالح ركن الدين اسماعيل اشترك مع المغول في الهجوم على بغداد. اما الاوضاع في مصر فقد دخل الصراع على السلطة فيها دورا مثيرا بعد موت الصالح ايوب عام 1249 م ، فقد اندلع الصراع مجددا انتهى بمقتل ابنه توران شاه وزوجته شجر الدر وانتهى بتولي عز الدين ايبك للعرش معلنا بدء السلطنة المملوكية. اما في الشام فكان هناك الناصر يوسف الايوبي الذي كان على علاقة مشبوهة بالمغول وارسل الهدايا و السفارات الى هولاكو. والمعروف ان الناصر يوسف حاول اكثر من مرة تشكيل حلف من بقايا البيت الايوبي في بلاد الشام من اجل الاستيلاء على مصر ، ومن اجل تحقيق غرضه سعى ايضا الى التحالف مع لويس التاسع في اثناء اقامته في عكا بعد رحيله عن مصر ، ولكن لويس التاسع خيب ظنه و لم يستطع التحالف معه بسبب الضغوط التي واجهها من جانب المماليك في مصر ، اذ كان لويس لا يزال مرتبطا بمعاهدة دمياط و شروطها القاسية. فضلا عن ذلك لقد تضافرت عوامل داخلية عدة كانت المسببة لسقوط الخلافة العباسية في اخر الخلفاء العباسيين وهو المستعصم بالله ساعدت المغول على تحقيق اهدافهم وهي :']\n",
      "['لقد ادرك المغول خلال توجههم نحو بغداد ان الخلافة العباسية اصبحت بمفردها تماما وان كل من يمكن ان يساعد الخلافة في صراعها المقبل مع المغول منشغلا في صراعاته الداخلية ، ومن الواضح ان المغول عندما اعدوا حملتهم العسكرية الكبيرة ضد الخلافة العباسية كانوا قد اختبروا القوى الاسلامية في المنطقة سواء بحملاتهم السابقة على الاراضي الاسلامية بين الحين والاخر ، او عن طريق جواسيسهم التي لعبت دروا كبيرا في استمالة بعض الحكام المسلمين بالترهيب والترغيب. ففي بغداد كان هناك الوزير ابن العلقمي الذي ذكر عنه المؤرخون انه كان يكاتب المغول سرا ويحثهم على غزو العراق والاستيلاء على بغداد ([7] وفي الموصل كان هناك بدر الدين لؤلؤ الذي امد المغول ببعض الات القتال والجنود ، بل و يقال بان ابنه الصالح ركن الدين اسماعيل اشترك مع المغول في الهجوم على بغداد. اما الاوضاع في مصر فقد دخل الصراع على السلطة فيها دورا مثيرا بعد موت الصالح ايوب عام 1249 م ، فقد اندلع الصراع مجددا انتهى بمقتل ابنه توران شاه وزوجته شجر الدر وانتهى بتولي عز الدين ايبك للعرش معلنا بدء السلطنة المملوكية. اما في الشام فكان هناك الناصر يوسف الايوبي الذي كان على علاقة مشبوهة بالمغول وارسل الهدايا و السفارات الى هولاكو. والمعروف ان الناصر يوسف حاول اكثر من مرة تشكيل حلف من بقايا البيت الايوبي في بلاد الشام من اجل الاستيلاء على مصر ، ومن اجل تحقيق غرضه سعى ايضا الى التحالف مع لويس التاسع في اثناء اقامته في عكا بعد رحيله عن مصر ، ولكن لويس التاسع خيب ظنه و لم يستطع التحالف معه بسبب الضغوط التي واجهها من جانب المماليك في مصر ، اذ كان لويس لا يزال مرتبطا بمعاهدة دمياط و شروطها القاسية. فضلا عن ذلك لقد تضافرت عوامل داخلية عدة كانت المسببة لسقوط الخلافة العباسية في اخر الخلفاء العباسيين وهو المستعصم بالله ساعدت المغول على تحقيق اهدافهم وهي :،']\n",
      "['وتحت عنوان من الكارثة إلى التحدى يبدأ الكاتب عرض الكتاب الرابع ، حيث يوضح كيف كانت إسرائيل فرحة بنصرها عام 67 وأنها ارتاحت لاعتقادها بأن هناك وقتا طويلا وطويلا جدا قبل أن يفيق العرب من صدمة 67، وكيف أن القوات الجوية للجمهورية العربية المتحدة قد فاجأتها بعد شهر واحد من نهاية حرب 67 بهجوم جوى عنيف على مواقعها فى سيناء وكان هذا إعلانا عن بداية حرب من نوع جديد هى حرب الاستنزاف التى استمرت حتى تم وقف إطلاق النار بين الطرفين فى 8 أغسطس 1970، ثم وفاة عبدالناصر وتولى أنور السادات حكم مصر واستعداده للحرب. ويتعرض الكاتب أيضا وبصورة سريعة لفلسطين والأردن وسوريا قبل أن ينتقل إلى الكتاب الخامس عن حرب أكتوبر ، حيث يعرض الخطط والاستعدادات المصرية ثم الاستعدادات الإسرائيلية ثم يبدأ بعرض وقائع الحرب بداية من الضربة الجوية وانهيار خط بارليف واختراقه ، ويتوقف الكاتب عند يوم 8 أكتوبر ، ويقول : إن هذا اليوم كان اسوأ هزيمة فى تاريخ الجيش الإسرائيلى ثم ينتقل بنا المؤلف إلى الجبهة السورية ثم يعود ثانية إلى يوميات الحرب حتى 7 9 أكتوبر إلى 9 13 أكتوبر ثم 14 أكتوبر ، ثم يعرض للثغرة أو ما عرف بعملية المزرعة الصينية يوم 16 و 15 أكتوبر والمساعدات الأمريكية الضخمة لإسرائيل ، ثم بداية الضغوط السياسية على الرئيس أنور السادات من 17 19 أكتوبر ثم ينتقل الكاتب للأحداث التى جرت من 17 20 أكتوبر وإعفاء الفريق الشاذلى من منصبه كرئيس لأركان القوات المسلحة المصرية ، وتولى الفريق الجمسى بدلا منه ثم الاتجاه إلى الموافقة على طلب وقف إطلاق النار والخلاف مع سوريا بشأن هذا الأمر ، ثم بداية الهجوم الإسرائيلى من 19 إلى 22 أكتوبر على الضفة الغربية لقناة السويس والعمليات النهائية فى سوريا 14 23 أكتوبر ، وكيف أن الملك حسين قرر دخول الحرب ضد إسرائيل يوم 9 أكتوبر ، ثم يعرض الكاتب المعركة الخاصة بالاستيلاء على مدينة السويس من 23 أكتوبر إلى 25 أكتوبر ثم تطورات هذه المعركة ، وكيف أنه مع حلول يوم السابع والعشرين من أكتوبر كان الإسرائيليون قد أسروا نحو ثمانية آلاف فرد من القوات المصرية ، أغلبهم من وحدات الإمداد والتموين.']\n",
      "['وتحت عنوان من الكارثة إلى التحدى يبدأ الكاتب عرض الكتاب الرابع ، حيث يوضح كيف كانت إسرائيل فرحة بنصرها عام 67 وأنها ارتاحت لاعتقادها بأن هناك وقتا طويلا وطويلا جدا قبل أن يفيق العرب من صدمة 67، وكيف أن القوات الجوية للجمهورية العربية المتحدة قد فاجأتها بعد شهر واحد من نهاية حرب 67 بهجوم جوى عنيف على مواقعها فى سيناء وكان هذا إعلانا عن بداية حرب من نوع جديد هى حرب الاستنزاف التى استمرت حتى تم وقف إطلاق النار بين الطرفين فى 8 أغسطس 1970، ثم وفاة عبدالناصر وتولى أنور السادات حكم مصر واستعداده للحرب. ويتعرض الكاتب أيضا وبصورة سريعة لفلسطين والأردن وسوريا قبل أن ينتقل إلى الكتاب الخامس عن حرب أكتوبر ، حيث يعرض الخطط والاستعدادات المصرية ثم الاستعدادات الإسرائيلية ثم يبدأ بعرض وقائع الحرب بداية من الضربة الجوية وانهيار خط بارليف واختراقه ، ويتوقف الكاتب عند يوم 8 أكتوبر ، ويقول : إن هذا اليوم كان اسوأ هزيمة فى تاريخ الجيش الإسرائيلى ثم ينتقل بنا المؤلف إلى الجبهة السورية ثم يعود ثانية إلى يوميات الحرب حتى 7 9 أكتوبر إلى 9 13 أكتوبر ثم 14 أكتوبر ، ثم يعرض للثغرة أو ما عرف بعملية المزرعة الصينية يوم 16 و 15 أكتوبر والمساعدات الأمريكية الضخمة لإسرائيل ، ثم بداية الضغوط السياسية على الرئيس أنور السادات من 17 19 أكتوبر ثم ينتقل الكاتب للأحداث التى جرت من 17 20 أكتوبر وإعفاء الفريق الشاذلى من منصبه كرئيس لأركان القوات المسلحة المصرية ، وتولى الفريق الجمسى بدلا منه ثم الاتجاه إلى الموافقة على طلب وقف إطلاق النار والخلاف مع سوريا بشأن هذا الأمر ، ثم بداية الهجوم الإسرائيلى من 19 إلى 22 أكتوبر على الضفة الغربية لقناة السويس والعمليات النهائية فى سوريا 14 23 أكتوبر ، وكيف أن الملك حسين قرر دخول الحرب ضد إسرائيل يوم 9 أكتوبر ، ثم يعرض الكاتب المعركة الخاصة بالاستيلاء على مدينة السويس من 23 أكتوبر إلى 25 أكتوبر ثم تطورات هذه المعركة ، وكيف أنه مع حلول يوم السابع والعشرين من أكتوبر كان الإسرائيليون قد أسروا نحو ثمانية آلاف فرد من القوات المصرية ، أغلبهم من وحدات الإمداد والتموين.']\n"
     ]
    },
    {
     "name": "stderr",
     "output_type": "stream",
     "text": [
      "Testing:  21%|██▏       | 21/98 [00:17<00:58,  1.31batch/s, Rouge1_Average=0.0586, Rouge2_Average=0, RougeL_Average=0.0586]"
     ]
    },
    {
     "name": "stdout",
     "output_type": "stream",
     "text": [
      "['توفي صلاح الدين في دمشق عام 589 ه ، 1193 م وخلفه أخوه العادل الذي سقطت الدلتا في عهده في أيدي الصليبيين. وقام ابنه الكامل بتجهيز جيش لحربهم حيث التقى بهم عند المنة في معركة حسمت لصالح الأيوبيين ، وعقد بعدها صلح عام 618 ه ، 1221 م خرج على أثره الصليبيون من الدلتا. غير أنهم عاودوا الكرة مرة أخرى على فلسطين تحت قيادة الإمبراطور فريدريك الثاني ، انتهت أيضا بعقد صلح. وبعد وفاة الكامل عام 635 ه ، 1238 م تنازع الملك بعده اثنان من أبنائه وانتهى الأمر بتولي ابنه الصالح أيوب السلطة بمساعدة جنده وجند أبيه من المماليك. وفي عهده قدم لويس التاسع ملك فرنسا بجيش صليبي احتل به دمياط عام 647 ه ، 1249 م وتقدم في الدلتا. عندئذ توفي الصالح أيوب ، إلا أن ابنه توران شاه قدم من العراق وألحق بالصليبيين هزيمة كبيرة بجيش كان جله من المماليك. غير أن توران شاه انقلب على المماليك بعد أن حقق النصر. فما كان منهم سوى تدبير قتله وتولية زوجة أبيه شجرة الدر مكانه. وعلى الرغم من أن شجرة الدر أثبتت مقدرة إدارية في بداية حكمها ، إلا أن الخليفة المستعصم في بغداد رفض الاعتراف بولايتها ، فتنازلت باختيارها عن الحكم لأمير مملوكي يدعى عز الدين التركماني بعد أن تزوجته. ونشأ صراع بين أمراء المماليك في مصر على الولاية ، فانتهز الملك الناصر والي الشام تلك الفرصة وزحف على مصر. إلا أن عز الدين التركماني ( الذي لقب بالمعز ) استطاع هزيمته وضم الشام إلى دولته. ولم تدم ولاية المعز بعد ذلك طويلا فقد قتل عام 655 ه ، 1257 م بتدبير شجرة الدر غيرة عليه بعد أن عزم على الزواج من أميرة من الموصل. فتولى الأمر بعده ابنه نور الدين. وفي هذه الأثناء أغار المغول على بغداد وقتلوا الخليفة المستعصم. عندها قرر القادة السياسيون والعسكريون في مصر خلع نور الدين وتولية الملك المظفر قطز لصد الغزو المغولي']\n",
      "['توفي صلاح الدين في دمشق عام 589 ه ، 1193 م وخلفه أخوه العادل الذي سقطت الدلتا في عهده في أيدي الصليبيين. وقام ابنه الكامل بتجهيز جيش لحربهم حيث التقى بهم عند المنة في معركة حسمت لصالح الأيوبيين ، وعقد بعدها صلح عام 618 ه ، 1221 م خرج على أثره الصليبيون من الدلتا. غير أنهم عاودوا الكرة مرة أخرى على فلسطين تحت قيادة الإمبراطور فريدريك الثاني ، انتهت أيضا بعقد صلح. وبعد وفاة الكامل عام 635 ه ، 1238 م تنازع الملك بعده اثنان من أبنائه وانتهى الأمر بتولي ابنه الصالح أيوب السلطة بمساعدة جنده وجند أبيه من المماليك. وفي عهده قدم لويس التاسع ملك فرنسا بجيش صليبي احتل به دمياط عام 647 ه ، 1249 م وتقدم في الدلتا. عندئذ توفي الصالح أيوب ، إلا أن ابنه توران شاه قدم من العراق وألحق بالصليبيين هزيمة كبيرة بجيش كان جله من المماليك. غير أن توران شاه انقلب على المماليك بعد أن حقق النصر. فما كان منهم سوى تدبير قتله وتولية زوجة أبيه شجرة الدر مكانه. وعلى الرغم من أن شجرة الدر أثبتت مقدرة إدارية في بداية حكمها ، إلا أن الخليفة المستعصم في بغداد رفض الاعتراف بولايتها ، فتنازلت باختيارها عن الحكم لأمير مملوكي يدعى عز الدين التركماني بعد أن تزوجته. ونشأ صراع بين أمراء المماليك في مصر على الولاية ، فانتهز الملك الناصر والي الشام تلك الفرصة وزحف على مصر. إلا أن عز الدين التركماني ( الذي لقب بالمعز ) استطاع هزيمته وضم الشام إلى دولته. ولم تدم ولاية المعز بعد ذلك طويلا فقد قتل عام 655 ه ، 1257 م بتدبير شجرة الدر غيرة عليه بعد أن عزم على الزواج من أميرة من الموصل. فتولى الأمر بعده ابنه نور الدين. وفي هذه الأثناء أغار المغول على بغداد وقتلوا الخليفة المستعصم. عندها قرر القادة السياسيون والعسكريون في مصر خلع نور الدين وتولية الملك المظفر قطز لصد الغزو المغولي']\n",
      "['ما الحضارة التي كنت تتمنين أن تعيشي في زمانها ؟ ما الحضارة التي كنت تتمنين أن تعيشي في زمانها ؟- الحضارة الرومانية نظرا لأهميتها ، فهي تعتبر من أهم الحضارات عبر التاريخ ، ويعرف عنها أنها كانت حضارة متجددة غنية ، وقدمت أشياء كثيرة في الفن المعماري والنحت والرسم ، في الأزياء وفرضت فنها على العالم. ومن هي الملكة التي كنت تتمنين أن تكوني مكانها ؟- زنوبيا ملكة تدمر. ما الملابس التي تفضلين ارتداءها في تلك الحضارة ؟- تميزت الحضارة الرومانية بأسلوبها في الأزياء التي كانت تطغى عليها الزخرفة والقلادات والإكسوارات المعدنية كالذهب والنحاس والفضة ، كما أنها كانت تجمع بين الأنوثة والرقي ، وفي الوقت نفسه كانت بعيدة عن المبالغة في استخدام الألوان والأحجار الكريمة. من تأخذين معك إلى تلك الحضارة ؟- آخذ معي زوجي الإعلامي زاهي وهبي وأولادي وكل من أحبهم. ومن تفضلين ألا يكون معك ؟- رجال دين المرحلة الحالية والسياسيون هم الوحيدون الذين أتمنى ألا يكونوا معي. ماذا يعجبك في شخصية زنوبيا ؟- أكثر ما يعجبني فيها أنها تصدت للرومان وواجهتهم ، وطردتهم ، ولكنها ما لبثت أن تعرضت للاعتقال على أيديهم. يعرف عنها أنها صاحبة قرارات جريئة ، وكانت تجمع بين الجمال والحنكة والذكاء ، واستخدمتها جميعا خلال فترة حكمها. كما يعرف عن زنوبيا أنها كانت متمسكة وفخورة بعروبتها بوجه الرومان ، وأنا مثلها. ماذا كان يوجد في هذه الحضارة من فنون ؟- ورثت العمارة الرومانية عن الحضارة الإغريقية كافة فنونها في العمارة والنحت والزخرفة ، وأضافوا إليها طابعهم الخاص. وكل ما كان ما ينفذ في روما كان ينفذ في جميع ولايات الإمبراطورية ، ولكن كان هناك بعض الاختلافات في تصميم المعابد إما بسبب تغير الزمن واما المكان ، كما هي الحال بالنسبة إلى بعض المعابد الرومانية في سورية. وأهم ما يميز الحضارة الرومانية عدم اهتمامهم بالمعابد الدينية والاكتفاء']\n",
      "['ما الحضارة التي كنت تتمنين أن تعيشي في زمانها ؟ ما الحضارة التي كنت تتمنين أن تعيشي في زمانها ؟- الحضارة الرومانية نظرا لأهميتها ، فهي تعتبر من أهم الحضارات عبر التاريخ ، ويعرف عنها أنها كانت حضارة متجددة غنية ، وقدمت أشياء كثيرة في الفن المعماري والنحت والرسم ، في الأزياء وفرضت فنها على العالم. ومن هي الملكة التي كنت تتمنين أن تكوني مكانها ؟- زنوبيا ملكة تدمر. ما الملابس التي تفضلين ارتداءها في تلك الحضارة ؟- تميزت الحضارة الرومانية بأسلوبها في الأزياء التي كانت تطغى عليها الزخرفة والقلادات والإكسوارات المعدنية كالذهب والنحاس والفضة ، كما أنها كانت تجمع بين الأنوثة والرقي ، وفي الوقت نفسه كانت بعيدة عن المبالغة في استخدام الألوان والأحجار الكريمة. من تأخذين معك إلى تلك الحضارة ؟- آخذ معي زوجي الإعلامي زاهي وهبي وأولادي وكل من أحبهم. ومن تفضلين ألا يكون معك ؟- رجال دين المرحلة الحالية والسياسيون هم الوحيدون الذين أتمنى ألا يكونوا معي. ماذا يعجبك في شخصية زنوبيا ؟- أكثر ما يعجبني فيها أنها تصدت للرومان وواجهتهم ، وطردتهم ، ولكنها ما لبثت أن تعرضت للاعتقال على أيديهم. يعرف عنها أنها صاحبة قرارات جريئة ، وكانت تجمع بين الجمال والحنكة والذكاء ، واستخدمتها جميعا خلال فترة حكمها. كما يعرف عن زنوبيا أنها كانت متمسكة وفخورة بعروبتها بوجه الرومان ، وأنا مثلها. ماذا كان يوجد في هذه الحضارة من فنون ؟- ورثت العمارة الرومانية عن الحضارة الإغريقية كافة فنونها في العمارة والنحت والزخرفة ، وأضافوا إليها طابعهم الخاص. وكل ما كان ما ينفذ في روما كان ينفذ في جميع ولايات الإمبراطورية ، ولكن كان هناك بعض الاختلافات في تصميم المعابد إما بسبب تغير الزمن واما المكان ، كما هي الحال بالنسبة إلى بعض المعابد الرومانية في سورية. وأهم ما يميز الحضارة الرومانية عدم اهتمامهم بالمعابد الدينية والاكتفاء']\n"
     ]
    },
    {
     "name": "stderr",
     "output_type": "stream",
     "text": [
      "Testing:  23%|██▎       | 23/98 [00:18<00:54,  1.37batch/s, Rouge1_Average=0.0535, Rouge2_Average=0, RougeL_Average=0.0535]"
     ]
    },
    {
     "name": "stdout",
     "output_type": "stream",
     "text": [
      "['لم تخلو معاهدة سيفر نفسها من التناقض فبينما نصت المادة 94 من تلك المعاهدة على الاعتراف سوريا كلها والعراق دول مستقلة بشرط أن تمد بالمساعدة مندولة منتدبة ، نصت المادة 92 من نفس المعاهدة على أن يعهد بفلسطين إلى دولة منتدبة وأن تكون الدولة المنتدبة مسؤولة عن تنفيذ وعد بلفور طبقا للمادة 22 لميثاق عصبة الأمم ، ومع ذلك لم يتسنى لمعاهدة سيفر أن تحظى بقيمة الاستمرار القانوني ، حيث تم تعديلها بمعاهدة لوزان عندما تمكن القوميين الاتراك من الثورة على إجحاف اتفاقية سيفر بحق بلادهم ، وشكلوا المجلس الوطني عام 1920، الذي قرر المجلس بطلان المعاهدات التي ارتبطت بها الحكومة العثمانية بعد احتلال الحلفاء للإستانة وتمكن القوميون الاتراك من تشكيل حكومة وشنوا معركة أزمير وتمكنوا من دخول الاستانة مع المجلس الوطني في 19 اكتوبر من نفس العام ، بينما هرب السلطان محمد السادس في 17 نوفمبر ، وأصبح المجلس الوطني الحكومة الشرعية الوحيدة في تركيا ، وبذلك أبطل الأتراك معاهدة سيفر واستعادوا الأقاليم التي أنتزعت منهم في الأناضول وتراقيا والجزر التركية الواقعة في بحر إيجه وشمال سوريا ، وعززوا ذلك في إصرارهم على عدم التوقيع على معاهدة لوزان حتى موافقة الحلفاء على إبطال البنود المجحفة بحق بلادهم في اتفاقية سيفر ومن ضمنها البنود 94 و 95 بما يشمل البند 92 المتعلق بتنفيذ وعد بلفور ، واستبدلت تلك البنود بالمادة 16 في معاهدة لوزان ، التي نصت على ما يلي : \" تتخلى تركيا بموجب هذا عن جميع الحقوق ، أي حق من أي نوع في مكان يتعلق بالأراضي الواقعة خارج الحدود المرسومة في هذه المعاهدة ، وسوف تتم تسوية مستقبل هذه الأراضي والجزر بمعرفة جميع الأطراف \"، وعلى الرغم من تخلي تركيا عن جميع حقوقها في الأرضي التي تحددت في الخارطة المرفقة باتفاق لوزان خاصة الاقاليم العربية ، إلا أنها حققت حذف البند الخاص بوعد بلفور كما اختفظت لنفسها بدور في تحديد مستقبل تلك المناطق. ومع المصادقة على معاهدة لوزان عادت رسالة بلفور ووعده باقامة وطن قومي لليهود في فلسطين لتفتقد الأساس الذي اكتسبته من معاهد']\n",
      "['لم تخلو معاهدة سيفر نفسها من التناقض فبينما نصت المادة 94 من تلك المعاهدة على الاعتراف سوريا كلها والعراق دول مستقلة بشرط أن تمد بالمساعدة مندولة منتدبة ، نصت المادة 92 من نفس المعاهدة على أن يعهد بفلسطين إلى دولة منتدبة وأن تكون الدولة المنتدبة مسؤولة عن تنفيذ وعد بلفور طبقا للمادة 22 لميثاق عصبة الأمم ، ومع ذلك لم يتسنى لمعاهدة سيفر أن تحظى بقيمة الاستمرار القانوني ، حيث تم تعديلها بمعاهدة لوزان عندما تمكن القوميين الاتراك من الثورة على إجحاف اتفاقية سيفر بحق بلادهم ، وشكلوا المجلس الوطني عام 1920، الذي قرر المجلس بطلان المعاهدات التي ارتبطت بها الحكومة العثمانية بعد احتلال الحلفاء للإستانة وتمكن القوميون الاتراك من تشكيل حكومة وشنوا معركة أزمير وتمكنوا من دخول الاستانة مع المجلس الوطني في 19 اكتوبر من نفس العام ، بينما هرب السلطان محمد السادس في 17 نوفمبر ، وأصبح المجلس الوطني الحكومة الشرعية الوحيدة في تركيا ، وبذلك أبطل الأتراك معاهدة سيفر واستعادوا الأقاليم التي أنتزعت منهم في الأناضول وتراقيا والجزر التركية الواقعة في بحر إيجه وشمال سوريا ، وعززوا ذلك في إصرارهم على عدم التوقيع على معاهدة لوزان حتى موافقة الحلفاء على إبطال البنود المجحفة بحق بلادهم في اتفاقية سيفر ومن ضمنها البنود 94 و 95 بما يشمل البند 92 المتعلق بتنفيذ وعد بلفور ، واستبدلت تلك البنود بالمادة 16 في معاهدة لوزان ، التي نصت على ما يلي : \" تتخلى تركيا بموجب هذا عن جميع الحقوق ، أي حق من أي نوع في مكان يتعلق بالأراضي الواقعة خارج الحدود المرسومة في هذه المعاهدة ، وسوف تتم تسوية مستقبل هذه الأراضي والجزر بمعرفة جميع الأطراف \"، وعلى الرغم من تخلي تركيا عن جميع حقوقها في الأرضي التي تحددت في الخارطة المرفقة باتفاق لوزان خاصة الاقاليم العربية ، إلا أنها حققت حذف البند الخاص بوعد بلفور كما اختفظت لنفسها بدور في تحديد مستقبل تلك المناطق. ومع المصادقة على معاهدة لوزان عادت رسالة بلفور ووعده باقامة وطن قومي لليهود في فلسطين لتفتقد الأساس الذي اكتسبته من معاهد']\n",
      "['لكن دعونا اذن نفند أكاذيبه بإختصار ومن الآخر. إنه عندما ينتقد الحضارة الإنسانية بأنها سارت في الإتجاه الخاطئ نقول له ان هذا صحيح والجميع يعرف ذلك لأن الأحداث الراهنة على الأرض تثبت هذا ولكن من الذي قام بحرف البوصلة وجعلنا نسير في هذا الإتجاه المخالف ؟؟ أليست هي الجماعة التي تنتمي اليها ؟ من قام مثلا بتدمير الحضارة الرومانية التي ذكرتها. ؟ وهل تعلم بأن الشخصية التاريخية سينكا - من 4 قبل الميلاد الى 65 - بعد الميلاد الذي قام بتربية الإمبراطور نيرون في صغره ، لاحظ منذ متى ، كان الصراع على أوجه بوجه الجماعة التي تنتمي إليها حيث قام بتعرية فسادها ، بالضبط كما حاول في نفس تلك الحقبة نبينا عيسى إبن مريم عليه السلام تعرية المرابين وأضرارهم على المجتمع ووصف الأمكان التي يجتمعوا بها بأنها معابد إبليس فقاموا بالوشاية به زورا وبهتانا فجرى صلبه من قبل الرومان ؟؟! هذا هو السبب الحقيقي وراء صلب عيسى عليه السلام ؟؟ هي الممارسات الإقتصادية الربوية اللعينة التي اتبعتها جماعتك في تلك الحقبة وحتى هذه اللحظة ؟؟ هم أنفسهم من قاموا بإختراق الإمبراطورية الرومانية وسيطروا على نيرون عن طريق زوجته وعندما قام المعلم سينكا بالتصدي لهم وكشف ممارساتهم هيأوا له عملية إنتحار وكان هذا هو الإنتحار الأول او الإغتيال الأول في التاريخ الذي قامت به الجماعة ضد أعدائها السياسيين ومازالت ترتكب مثل هذه العمليات حتى يومنا هذا ، ترتكب جريمة الإغتيال ثم تصوره على انه إغتيال. هكذا سقطت الإمبراطوريات والحضارات الواحدة تلو الأخرى حيث كان آخرها الدولة العثمانية بعد القضاء على السلطان عبدالحميد الثاني الذي حاول عبثا التصدي لهم. لا تنسى أيضا الحضارة الأمريكية التي كانت سائدة قبل كولومبوس والتي راح ضحيتها بعده اكثر من مأة مليون من الهنود الحمر. هل تعرف لماذا أسموهم بالهنود الحمر لأن وجهة الماسوني كولومبوس الأصلية كانت الى الهند لكنه وجد نفسه في أمريكا بدلا عن الهند فقام بتسمية السكان الأمريكيين الأصليين الذين رائهم بالهنود الحمر']\n",
      "['لكن دعونا اذن نفند أكاذيبه بإختصار ومن الآخر. إنه عندما ينتقد الحضارة الإنسانية بأنها سارت في الإتجاه الخاطئ نقول له ان هذا صحيح والجميع يعرف ذلك لأن الأحداث الراهنة على الأرض تثبت هذا ولكن من الذي قام بحرف البوصلة وجعلنا نسير في هذا الإتجاه المخالف ؟؟ أليست هي الجماعة التي تنتمي اليها ؟ من قام مثلا بتدمير الحضارة الرومانية التي ذكرتها. ؟ وهل تعلم بأن الشخصية التاريخية سينكا - من 4 قبل الميلاد الى 65 - بعد الميلاد الذي قام بتربية الإمبراطور نيرون في صغره ، لاحظ منذ متى ، كان الصراع على أوجه بوجه الجماعة التي تنتمي إليها حيث قام بتعرية فسادها ، بالضبط كما حاول في نفس تلك الحقبة نبينا عيسى إبن مريم عليه السلام تعرية المرابين وأضرارهم على المجتمع ووصف الأمكان التي يجتمعوا بها بأنها معابد إبليس فقاموا بالوشاية به زورا وبهتانا فجرى صلبه من قبل الرومان ؟؟! هذا هو السبب الحقيقي وراء صلب عيسى عليه السلام ؟؟ هي الممارسات الإقتصادية الربوية اللعينة التي اتبعتها جماعتك في تلك الحقبة وحتى هذه اللحظة ؟؟ هم أنفسهم من قاموا بإختراق الإمبراطورية الرومانية وسيطروا على نيرون عن طريق زوجته وعندما قام المعلم سينكا بالتصدي لهم وكشف ممارساتهم هيأوا له عملية إنتحار وكان هذا هو الإنتحار الأول او الإغتيال الأول في التاريخ الذي قامت به الجماعة ضد أعدائها السياسيين ومازالت ترتكب مثل هذه العمليات حتى يومنا هذا ، ترتكب جريمة الإغتيال ثم تصوره على انه إغتيال. هكذا سقطت الإمبراطوريات والحضارات الواحدة تلو الأخرى حيث كان آخرها الدولة العثمانية بعد القضاء على السلطان عبدالحميد الثاني الذي حاول عبثا التصدي لهم. لا تنسى أيضا الحضارة الأمريكية التي كانت سائدة قبل كولومبوس والتي راح ضحيتها بعده اكثر من مأة مليون من الهنود الحمر. هل تعرف لماذا أسموهم بالهنود الحمر لأن وجهة الماسوني كولومبوس الأصلية كانت الى الهند لكنه وجد نفسه في أمريكا بدلا عن الهند فقام بتسمية السكان الأمريكيين الأصليين الذين رائهم بالهنود الحمر']\n"
     ]
    },
    {
     "name": "stderr",
     "output_type": "stream",
     "text": [
      "Testing:  26%|██▌       | 25/98 [00:20<00:53,  1.36batch/s, Rouge1_Average=0.0692, Rouge2_Average=0.0133, RougeL_Average=0.0692]"
     ]
    },
    {
     "name": "stdout",
     "output_type": "stream",
     "text": [
      "['وقد شهد قصر عابدين العديد من الأحداث السياسية الساخنة نذكر منها الحادث الأول مظاهرة عابدين صباح يوم الجمعة 9 سبتمبر عام 1881 م التي قام بها بعض رجال الجيش المصرى بقيادة الزعيم أحمد عرابى باشا حيث قاموا بالتوجه إلى قصر عابدين لعرض مطالب الجيش والشعب على الخديوى توفيق حاكم مصر آنذاك والذى قابل هذه المطالب بإستنكار تام مؤكدا أنه ورث هذا الشعب وهذه البلاد ولايحق لأحد المطالبة بأى حقوق وهنا ثار عرابى وقال قولته المشهورة لقد خلقنا الله أحرارا ولم يخلقنا تراثا أو عقارا فوالله الذى لا إله إلا هو إننا لن نستعبد بعد اليوم وكان الحدث الثاني عندما شهد الميدان المواجه للقصر بدايات ثورة عام 1919 م عندما ملأت الجماهير ميدان عابدين مطالبة الملك فؤاد الأول ملك مصر آنذاك بالإفراج عن سعد زغلول باشا ورفاقه وعودتهم من المنفى وكان الحادث الثالث فى يوم 4 فبراير عام 1942 م اثناء الحرب العالمية الثانية وكان موقف القوات الإنجليزية حرجا بعدما تلقت العديد من الهزائم المتتالية في جبهة شمال أفريقيا علي يد الفيلق الأفريقي الألماني الذى كان يقوده القائد الألماني الفذ الفيلد مارشال ثعلب الصحراء إرفين روميل وسارت المظاهرات في مصر منددة بالإنجليز وتهتف إلي الأمام ياروميل مما تسبب في إزعاج شديد للإنجليز وبعد التشاور مع وزير الخارجية البريطاني في لندن أخذ السفير البريطاني في مصر السير مايلز لامبسون الضوء الأخضر بإستخدام القوة إن لزم الأمر من أجل تهدئة الجبهة الداخلية وضرورة وجود حكومة شعبية قوية تستطيع أن السيطرة علي الجبهة الداخلية حتي يتفرغ الإنجليز لجبهة القتال مع الألمان غرب مصر وهنا تحرك السفير وحاصر الإنجليز القصر بالدبابات ودخل السفير البريطاني يصاحبه قائد قوات الإحتلال الإنجليزى في مصر القصر وهددا الملك فاروق ملك مصر آنذاك بخلعه عن عرش مصر إذا لم يكلف مصطفى النحاس باشا بتولى رئاسة الوزراء وتشكيل الحكومة وكانت النتيجة رضوخ الملك فاروق إلى طلبات الإحتلال الإنجليزى وتكليفه للنحاس باشا بتشكيل الوزارة وكان الحادث الرابع الأزمة التي نشبت بين محمد نجيب وجمال عبد الناصر والتي عرفت بأزمة مارس عام 1954 م بعد قيام الثورة حيث شهد هذا العام تقديم محمد ن']\n",
      "['وقد شهد قصر عابدين العديد من الأحداث السياسية الساخنة نذكر منها الحادث الأول مظاهرة عابدين صباح يوم الجمعة 9 سبتمبر عام 1881 م التي قام بها بعض رجال الجيش المصرى بقيادة الزعيم أحمد عرابى باشا حيث قاموا بالتوجه إلى قصر عابدين لعرض مطالب الجيش والشعب على الخديوى توفيق حاكم مصر آنذاك والذى قابل هذه المطالب بإستنكار تام مؤكدا أنه ورث هذا الشعب وهذه البلاد ولايحق لأحد المطالبة بأى حقوق وهنا ثار عرابى وقال قولته المشهورة لقد خلقنا الله أحرارا ولم يخلقنا تراثا أو عقارا فوالله الذى لا إله إلا هو إننا لن نستعبد بعد اليوم وكان الحدث الثاني عندما شهد الميدان المواجه للقصر بدايات ثورة عام 1919 م عندما ملأت الجماهير ميدان عابدين مطالبة الملك فؤاد الأول ملك مصر آنذاك بالإفراج عن سعد زغلول باشا ورفاقه وعودتهم من المنفى وكان الحادث الثالث فى يوم 4 فبراير عام 1942 م اثناء الحرب العالمية الثانية وكان موقف القوات الإنجليزية حرجا بعدما تلقت العديد من الهزائم المتتالية في جبهة شمال أفريقيا علي يد الفيلق الأفريقي الألماني الذى كان يقوده القائد الألماني الفذ الفيلد مارشال ثعلب الصحراء إرفين روميل وسارت المظاهرات في مصر منددة بالإنجليز وتهتف إلي الأمام ياروميل مما تسبب في إزعاج شديد للإنجليز وبعد التشاور مع وزير الخارجية البريطاني في لندن أخذ السفير البريطاني في مصر السير مايلز لامبسون الضوء الأخضر بإستخدام القوة إن لزم الأمر من أجل تهدئة الجبهة الداخلية وضرورة وجود حكومة شعبية قوية تستطيع أن السيطرة علي الجبهة الداخلية حتي يتفرغ الإنجليز لجبهة القتال مع الألمان غرب مصر وهنا تحرك السفير وحاصر الإنجليز القصر بالدبابات ودخل السفير البريطاني يصاحبه قائد قوات الإحتلال الإنجليزى في مصر القصر وهددا الملك فاروق ملك مصر آنذاك بخلعه عن عرش مصر إذا لم يكلف مصطفى النحاس باشا بتولى رئاسة الوزراء وتشكيل الحكومة وكانت النتيجة رضوخ الملك فاروق إلى طلبات الإحتلال الإنجليزى وتكليفه للنحاس باشا بتشكيل الوزارة وكان الحادث الرابع الأزمة التي نشبت بين محمد نجيب وجمال عبد الناصر والتي عرفت بأزمة مارس عام 1954 م بعد قيام الثورة حيث شهد هذا العام تقديم محمد ن']\n",
      "['محمد علي باشا المسعود بن إبراهيم آغا القوللي الملقب بالعزيز أو عزيز مصر ، هو مؤسس الأسرة العلوية وحاكم مصر ما بين عامي 1805 إلى 1848، ويشيع وصفه بأنه \" مؤسس مصر الحديثة \" وهي مقولة كان هو نفسه أول من روج لها واستمرت بعده بشكل منظم وملفت. استطاع أن يعتلي عرش مصر عام 1805 بعد أن بايعه أعيان البلاد ليكون واليا عليها ، بعد أن ثار الشعب على سلفه خورشيد باشا ، ومكنه ذكاؤه واستغلاله للظروف المحيطة به من أن يستمر في حكم مصر لكل تلك الفترة ، ليكسر بذلك العادة العثمانية التي كانت لا تترك واليا على مصر لأكثر من عامين. خاض محمد علي في بداية فترة حكمه حربا داخلية ضد المماليك والإنجليز إلى أن خضعت له مصر بالكلية ، ثم خاض حروبا بالوكالة عن الدولة العثمانية في جزيرة العرب ضد الوهابيين وضد الثوار اليونانيين الثائرين على الحكم العثماني في المورة ، كما وسع دولته جنوبا بضمه للسودان. وبعد ذلك تحول لمهاجمة الدولة العثمانية حيث حارب جيوشها في الشام والأناضول ، وكاد يسقط الدولة العثمانية ، لولا تعارض ذلك مع مصالح الدول الغربية التي أوقفت محمد علي وأرغمته على التنازل عن معظم الأراضي التي ضمها. خلال فترة حكم محمد علي ، استطاع أن ينهض بمصر عسكريا وتعليميا وصناعيا وزراعيا وتجاريا ، مما جعل من مصر دولة ذات ثقل في تلك الفترة ، إلا أن حالتها تلك لم تستمر بسبب ضعف خلفائه وتفريطهم في ما حققه من مكاسب بالتدريج إلى أن سقطت دولته في 18 يونيو سنة 1953 م ، بإلغاء الملكية وإعلان الجمهورية في مصر.']\n",
      "['محمد علي باشا المسعود بن إبراهيم آغا القوللي الملقب بالعزيز أو عزيز مصر ، هو مؤسس الأسرة العلوية وحاكم مصر ما بين عامي 1805 إلى 1848، ويشيع وصفه بأنه \" مؤسس مصر الحديثة \" وهي مقولة كان هو نفسه أول من روج لها واستمرت بعده بشكل منظم وملفت. استطاع أن يعتلي عرش مصر عام 1805 بعد أن بايعه أعيان البلاد ليكون واليا عليها ، بعد أن ثار الشعب على سلفه خورشيد باشا ، ومكنه ذكاؤه واستغلاله للظروف المحيطة به من أن يستمر في حكم مصر لكل تلك الفترة ، ليكسر بذلك العادة العثمانية التي كانت لا تترك واليا على مصر لأكثر من عامين. خاض محمد علي في بداية فترة حكمه حربا داخلية ضد المماليك والإنجليز إلى أن خضعت له مصر بالكلية ، ثم خاض حروبا بالوكالة عن الدولة العثمانية في جزيرة العرب ضد الوهابيين وضد الثوار اليونانيين الثائرين على الحكم العثماني في المورة ، كما وسع دولته جنوبا بضمه للسودان. وبعد ذلك تحول لمهاجمة الدولة العثمانية حيث حارب جيوشها في الشام والأناضول ، وكاد يسقط الدولة العثمانية ، لولا تعارض ذلك مع مصالح الدول الغربية التي أوقفت محمد علي وأرغمته على التنازل عن معظم الأراضي التي ضمها. خلال فترة حكم محمد علي ، استطاع أن ينهض بمصر عسكريا وتعليميا وصناعيا وزراعيا وتجاريا ، مما جعل من مصر دولة ذات ثقل في تلك الفترة ، إلا أن حالتها تلك لم تستمر بسبب ضعف خلفائه وتفريطهم في ما حققه من مكاسب بالتدريج إلى أن سقطت دولته في 18 يونيو سنة 1953 م ، بإلغاء الملكية وإعلان الجمهورية في مصر.']\n"
     ]
    },
    {
     "name": "stderr",
     "output_type": "stream",
     "text": [
      "Testing:  28%|██▊       | 27/98 [00:21<00:54,  1.30batch/s, Rouge1_Average=0.0641, Rouge2_Average=0.0123, RougeL_Average=0.0641]"
     ]
    },
    {
     "name": "stdout",
     "output_type": "stream",
     "text": [
      "['فتن أهالي بعض البلاد التي دخلها العثمانيون بالتقدم الذي تم في أوربا فأرادوا السير على منهجهم فبدؤوا يرسلون أولادهم إلى أوربا للتعلم فيها ، فأسس اليونانيون جمعيات سرية لهم في النمسا وروسيا وبدؤوا يعملون للانفصال عن العثمانيين لاختلاف الروابط العقدية وكانت مراكز جمعية الأخوة أهم هذه الجمعيات في فيينا عاصمة النمسا وفي أوديسا في روسيا على البحر الأسود ثم انتقل إلى كييف ثم كثر أتباعها وما إن قضى خورشيد باشا على علي باشا والي يانية حتى أعلنوا العصيان بتحريض من الروس بالدرجة الأولى وفي مدة قليلة - حوالي ثلاثة أسابيع - استطاع المتمردون خلالها السيطرة على المورة كلها ، باستثناء المقاومة الشديدة التي أبداها العثمانيون في قلعة ( تريبوليجة ) - وهي مركز ولاية المورة -، وحيث استمرت هذه المقاومة شهورا عديدة. وقد قتل الروم - بوحشية منقطعة النظير - العثمانيين الذين وقعوا في الأسر - اثناء هذا التمرد - وسلبوا أموالهم. لعب بطريرك جريجوريوس دورا كبيرا في تمرد الروم ضد الحكم العثماني وقد أعد خطة إقامة دولة اليونان الأرثوذكسية الكبرى ، وأصدر السلطان محمود الثاني فرمانا بعزل البطريرك جريجوريوس من منصبه ، ثم إعدامه فكلف خورشيد باشا بإخضاعهم فسار إليهم فانتصروا عليه وشتتوا جنده وانتحر هو بالسم ، ثم كلف محمد علي باشا والي مصر بإخضاع اليونان وكان قد انتهى من فتح السودان ، فسارت جيوش محمد علي باشا بحرا من الإسكندرية بقيادة ابنه إبراهيم ومستشاره الفرنسي فاحتل جزيرة كريت ثم انطلق إلى المورة التي كانت مركز الثورة فأنزل إبراهيم جنوده بصعوبة بالغة حيث إن أوربا كلها كانت وراء هذه الثورة ، فدعمتها بالمال والسلاح ، بل وبالمتطوعين من الرجال المقاتلين ، واستطاع إبراهيم باشا أن يحرز النصر ويفتح مدينة نافارين عام 1240 ه وأن يدخل العثمانيون إلى أثينا عام 1241 ه رغم دفاع الإنكليز البحري ، ثم إن الدول الأوربية تدخلت باسم حماية اليونان ظاهرا وبحقد صليبي واضح إذ كانت روسيا تدعم اليونان علنا ورأت أن الفرصة مناسبة جدا لدخول استنبول وإ']\n",
      "['فتن أهالي بعض البلاد التي دخلها العثمانيون بالتقدم الذي تم في أوربا فأرادوا السير على منهجهم فبدؤوا يرسلون أولادهم إلى أوربا للتعلم فيها ، فأسس اليونانيون جمعيات سرية لهم في النمسا وروسيا وبدؤوا يعملون للانفصال عن العثمانيين لاختلاف الروابط العقدية وكانت مراكز جمعية الأخوة أهم هذه الجمعيات في فيينا عاصمة النمسا وفي أوديسا في روسيا على البحر الأسود ثم انتقل إلى كييف ثم كثر أتباعها وما إن قضى خورشيد باشا على علي باشا والي يانية حتى أعلنوا العصيان بتحريض من الروس بالدرجة الأولى وفي مدة قليلة - حوالي ثلاثة أسابيع - استطاع المتمردون خلالها السيطرة على المورة كلها ، باستثناء المقاومة الشديدة التي أبداها العثمانيون في قلعة ( تريبوليجة ) - وهي مركز ولاية المورة -، وحيث استمرت هذه المقاومة شهورا عديدة. وقد قتل الروم - بوحشية منقطعة النظير - العثمانيين الذين وقعوا في الأسر - اثناء هذا التمرد - وسلبوا أموالهم. لعب بطريرك جريجوريوس دورا كبيرا في تمرد الروم ضد الحكم العثماني وقد أعد خطة إقامة دولة اليونان الأرثوذكسية الكبرى ، وأصدر السلطان محمود الثاني فرمانا بعزل البطريرك جريجوريوس من منصبه ، ثم إعدامه فكلف خورشيد باشا بإخضاعهم فسار إليهم فانتصروا عليه وشتتوا جنده وانتحر هو بالسم ، ثم كلف محمد علي باشا والي مصر بإخضاع اليونان وكان قد انتهى من فتح السودان ، فسارت جيوش محمد علي باشا بحرا من الإسكندرية بقيادة ابنه إبراهيم ومستشاره الفرنسي فاحتل جزيرة كريت ثم انطلق إلى المورة التي كانت مركز الثورة فأنزل إبراهيم جنوده بصعوبة بالغة حيث إن أوربا كلها كانت وراء هذه الثورة ، فدعمتها بالمال والسلاح ، بل وبالمتطوعين من الرجال المقاتلين ، واستطاع إبراهيم باشا أن يحرز النصر ويفتح مدينة نافارين عام 1240 ه وأن يدخل العثمانيون إلى أثينا عام 1241 ه رغم دفاع الإنكليز البحري ، ثم إن الدول الأوربية تدخلت باسم حماية اليونان ظاهرا وبحقد صليبي واضح إذ كانت روسيا تدعم اليونان علنا ورأت أن الفرصة مناسبة جدا لدخول استنبول وإ']\n",
      "['وبينما كانت الثورة العربية ضد الحكم العثماني في اوج نهوضها من اجل فجر جديد يعيد للعرب استقلالهم وحريتهم ووحدة بلادهم السياسية. وكانت مؤامرة المستعمرين الانجليز والفرنسيين تأخذ طريقها نحو تغيير الخريطة الجغرافية والتاريخية والسياسية لبلاد الشام والعراق بموجب اتفاقية \" سايكس بيكو \" السرية التي تم كشفها علانية بعد عدة سنوات كما ذكر سابقا ونزلت على الساحل السوري الممتد حينذاك من الاسكندرونة شمالا الى رفح جنوبا قوات فرنسية احتلت بيروت في السابع من تشرين الاول عام 1918 وتابعت تقدمها شمالا واحتلت طرابلس واللاذقية والاسكندرونة ، وقسم آخر منها توجه جنوبا وسيطر على الساحل ما بين بيروت ورأس الناقورة جنوب مدينة صور. ولاقت هذه القوات الغازية مقاومة شعبية باسلة من المقاومين اللبنانيين العروبيين في عدة انحاء من لبنان ، وارسل رئيس وزراء فرنسا آنذاك رسالة الى الامير فيصل ابن الشريف حسين وكان ملك في دمشق اكد فيها رفضه لمقررات حكومة دمشق الرافضة تقسيم سوريا. واثار في رسالته مسألة الاقليات الدينية والطائفية في لبنان وبان فرنسا تعتبر نفسها راعية لهم ووكيلة عنهم ، جرى ذلك بينما كانت غالبية الشعب في لبنان تواجه الاحتلال الفرنسي وتعتبره عدوانا واستعمارا اجنبيا. وفي 31 آب عام 1921 اصدر الجنرال غورو قرار تشكيل دولة لبنان الكبير وعاصمته بيروت ، واعتبار اللغة الفرنسية لغة رسمية موازية للغة العربية في لبنان ، وعلل ذلك انه جاء بناء على مطلب الاقليات الدينية في لبنان. وتم بذلك فصل لبنان عن سوريا فيما عدا النقد والجمارك ، ولم يلاق ما اقدمت عليه فرنسا التأييد من غالبية الشعب في لبنان. وعندما قامت الثورة الوطنية الكبرى في سوريا عام 1925 بقيادة سلطان باشا الاطرش انطلاقا من جبل العرب ، شملت تلك الثورة انحاء واسعة من سوريا وامتدت ايضا الى لبنان ، ولم يقتصر نضالها على مقاتلة الفرنسيين داخل حدود سوريا الحالية ، بل التف اللبنانيون حول الثورة وعضدوها ، مما اجبر الفرنسيين على الانسحاب من عدة مواقع عسكرية كانوا يتمركزون فيها. وقدم الثوار اللبنانيين نماذج رائعة في الحرب الشعبية التي طالت غالبية انحاء لبنان. وشكلت معركة راشيا الوادي اروع المعارك التي']\n",
      "['وبينما كانت الثورة العربية ضد الحكم العثماني في اوج نهوضها من اجل فجر جديد يعيد للعرب استقلالهم وحريتهم ووحدة بلادهم السياسية. وكانت مؤامرة المستعمرين الانجليز والفرنسيين تأخذ طريقها نحو تغيير الخريطة الجغرافية والتاريخية والسياسية لبلاد الشام والعراق بموجب اتفاقية \" سايكس بيكو \" السرية التي تم كشفها علانية بعد عدة سنوات كما ذكر سابقا ونزلت على الساحل السوري الممتد حينذاك من الاسكندرونة شمالا الى رفح جنوبا قوات فرنسية احتلت بيروت في السابع من تشرين الاول عام 1918 وتابعت تقدمها شمالا واحتلت طرابلس واللاذقية والاسكندرونة ، وقسم آخر منها توجه جنوبا وسيطر على الساحل ما بين بيروت ورأس الناقورة جنوب مدينة صور. ولاقت هذه القوات الغازية مقاومة شعبية باسلة من المقاومين اللبنانيين العروبيين في عدة انحاء من لبنان ، وارسل رئيس وزراء فرنسا آنذاك رسالة الى الامير فيصل ابن الشريف حسين وكان ملك في دمشق اكد فيها رفضه لمقررات حكومة دمشق الرافضة تقسيم سوريا. واثار في رسالته مسألة الاقليات الدينية والطائفية في لبنان وبان فرنسا تعتبر نفسها راعية لهم ووكيلة عنهم ، جرى ذلك بينما كانت غالبية الشعب في لبنان تواجه الاحتلال الفرنسي وتعتبره عدوانا واستعمارا اجنبيا. وفي 31 آب عام 1921 اصدر الجنرال غورو قرار تشكيل دولة لبنان الكبير وعاصمته بيروت ، واعتبار اللغة الفرنسية لغة رسمية موازية للغة العربية في لبنان ، وعلل ذلك انه جاء بناء على مطلب الاقليات الدينية في لبنان. وتم بذلك فصل لبنان عن سوريا فيما عدا النقد والجمارك ، ولم يلاق ما اقدمت عليه فرنسا التأييد من غالبية الشعب في لبنان. وعندما قامت الثورة الوطنية الكبرى في سوريا عام 1925 بقيادة سلطان باشا الاطرش انطلاقا من جبل العرب ، شملت تلك الثورة انحاء واسعة من سوريا وامتدت ايضا الى لبنان ، ولم يقتصر نضالها على مقاتلة الفرنسيين داخل حدود سوريا الحالية ، بل التف اللبنانيون حول الثورة وعضدوها ، مما اجبر الفرنسيين على الانسحاب من عدة مواقع عسكرية كانوا يتمركزون فيها. وقدم الثوار اللبنانيين نماذج رائعة في الحرب الشعبية التي طالت غالبية انحاء لبنان. وشكلت معركة راشيا الوادي اروع المعارك التي']\n"
     ]
    },
    {
     "name": "stderr",
     "output_type": "stream",
     "text": [
      "Testing:  30%|██▉       | 29/98 [00:23<00:52,  1.31batch/s, Rouge1_Average=0.0597, Rouge2_Average=0.0115, RougeL_Average=0.0597]"
     ]
    },
    {
     "name": "stdout",
     "output_type": "stream",
     "text": [
      "['أما بخصوص التنظيم والممارسات الإدارية المحلية والمركزية فإنها هي التي أكسبت مصر منذ بداية حكم أغسطس طابع الولاية الرومانية. وكان على مصر في ظل التنظيم الإمبراطوري الكبير أن تزود روما بثلث احتياجاتها السنوية من الحبوب اللازمة لإطعام الشعب الروماني. ولكي يضمن أغسطس عدم تمزق مصر أو انحرافها عن الهدف السابق ( تزويد روما بثلث ما تحتاج إليه سنويا من الحبوب ) فقد جعل منها ولاية أشبه ما تكون بضيعة خاصة بالإمبراطور. فعلى النقيض من الولايات الأخرى التي كان يتولى الحكم فيها رومان تبوأوا مكانا عليا وارتقوا في سلم الإدارة الرومانية حتى وظيفة قناصل ثم تركوا القنصلية وأصبحوا قناصل سابقين proconsul فإن حكم مصر أسند إلى موظفين أقل يطلق عليهم لقب الوالي praefectus وكان يعتبر قائما بالأعمال يعينه الإمبراطور كممثل شخصي له. وجرى العرف منذ عهد أغسطس على أنه يكون والي مصر من طبقة الفرسان وهي الطبقة التي شكلت منذ بداية حكم الإمبراطور أغسطس العمود الفقري والمتين والحصن الصلب في تأييده. وقد اشترط أغسطس ألا يسمح للرومان من طبقة السناتو أو حتى من الشخصيات البارزة العامة من طبقة الفرسان بدخول مصر إلا بعد الحصول على إذن صريح بذلك من الإمبراطور في روما. وربما يكون من بين التفسيرات لهذا الإجراء أن أغسطس لم يشأ أن يحط من قدر ولاته في مصر في نظر رعاياهم من خلال الزيارات المتكررة من جانب شخصيات رومانية تفوقهم وتعلوهم قدرا فأراد من خلال هذا ألإجراء أن يجنبهم ذلك الحرج. ولكن الدافع الأكبر لوضع هذه القيود أمام علية الرومان من زيارة مصر هو استبعاد الزعماء والقادة المناوئين من ذوى النفوذ وأن يتحاشى إمكانية أن تصبح مصر مرة أخرى قاعدة للمعارضة السياسية تتمتع بمساندة ودعم عسكري كما حدث مع ماركوس أنطونيوس من قبل. وكان الوالي الروماني في مصر في نظر رعاياه من المصريين يتمتع بأبهة وسلطان لا نظير له ، وكان يعد نائب الملك ويمثل فرعونهم المقيم على البعد في روما.']\n",
      "['أما بخصوص التنظيم والممارسات الإدارية المحلية والمركزية فإنها هي التي أكسبت مصر منذ بداية حكم أغسطس طابع الولاية الرومانية. وكان على مصر في ظل التنظيم الإمبراطوري الكبير أن تزود روما بثلث احتياجاتها السنوية من الحبوب اللازمة لإطعام الشعب الروماني. ولكي يضمن أغسطس عدم تمزق مصر أو انحرافها عن الهدف السابق ( تزويد روما بثلث ما تحتاج إليه سنويا من الحبوب ) فقد جعل منها ولاية أشبه ما تكون بضيعة خاصة بالإمبراطور. فعلى النقيض من الولايات الأخرى التي كان يتولى الحكم فيها رومان تبوأوا مكانا عليا وارتقوا في سلم الإدارة الرومانية حتى وظيفة قناصل ثم تركوا القنصلية وأصبحوا قناصل سابقين proconsul فإن حكم مصر أسند إلى موظفين أقل يطلق عليهم لقب الوالي praefectus وكان يعتبر قائما بالأعمال يعينه الإمبراطور كممثل شخصي له. وجرى العرف منذ عهد أغسطس على أنه يكون والي مصر من طبقة الفرسان وهي الطبقة التي شكلت منذ بداية حكم الإمبراطور أغسطس العمود الفقري والمتين والحصن الصلب في تأييده. وقد اشترط أغسطس ألا يسمح للرومان من طبقة السناتو أو حتى من الشخصيات البارزة العامة من طبقة الفرسان بدخول مصر إلا بعد الحصول على إذن صريح بذلك من الإمبراطور في روما. وربما يكون من بين التفسيرات لهذا الإجراء أن أغسطس لم يشأ أن يحط من قدر ولاته في مصر في نظر رعاياهم من خلال الزيارات المتكررة من جانب شخصيات رومانية تفوقهم وتعلوهم قدرا فأراد من خلال هذا ألإجراء أن يجنبهم ذلك الحرج. ولكن الدافع الأكبر لوضع هذه القيود أمام علية الرومان من زيارة مصر هو استبعاد الزعماء والقادة المناوئين من ذوى النفوذ وأن يتحاشى إمكانية أن تصبح مصر مرة أخرى قاعدة للمعارضة السياسية تتمتع بمساندة ودعم عسكري كما حدث مع ماركوس أنطونيوس من قبل. وكان الوالي الروماني في مصر في نظر رعاياه من المصريين يتمتع بأبهة وسلطان لا نظير له ، وكان يعد نائب الملك ويمثل فرعونهم المقيم على البعد في روما.']\n",
      "['مدينة أثينا هي عاصمة بلاد اليونان التي تقع في جنوب شرق القارة الأوروبية في الطرف الجنوبي من شبه جزيرة البلقان في موقع إستراتيجي يعد ملتقي الطرق بين قارات آسيا وأوروبا وأفريقيا وهي تشترك في الحدود البرية مع ألبانيا إلى الشمال الغربي وجمهورية مقدونيا وبلغاريا إلى الشمال وتركيا إلى الشمال الشرقي ومدينة أثينا هي أكبر مدنها تليها مدينة سالونيك ويعود إسم المدينة إلى أثينا آلهة الحكمة الإغريقية ويبلغ عدد سكانها حاليا حوالي 750 ألف نسمة ومع ضواحيها والمناطق المجاورة لها يبلغ حوالي 4 مليون نسمة وهي تقع في جنوب اليونان على سهل أتيكا بين نهري إليسوس وكيفيسوس وتحيط بها من ثلاثة جهات قمم 3 جبال هي هيميتو التي ترتفع 1026 مترا عن سطح البحر وبينديلي التي ترتفع 1109 مترا عن سطح البحر وبارنيثاس التي ترتفع 1413 مترا عن سطح البحر كما تطل من الجهة الرابعة على خليج سارونيكوس الواصل إلى البحر الأبيض المتوسط ويعود تاريخ المدينة إلى حوالي 500 سنة خلت لتعد بذلك إحدى أقدم مستوطنات أوروبا كما تعد المدينة مهد الحضارة الغربية ومهد الديموقراطية حيث أقام اليونانيون القدماء والمعروفين بإسم الإغريق حضارة عريقة منذ أكثر من 2500 سنة مضت وما تزال الإنجازات الرائعة لهم في ميادين الحكم والعلم والفلسفة والفنون تؤثر في الحياة حتى اليوم لاسيما في الحضارة الأوروبية الحديثة التي إستمدت منهم الكثير من ثقافتها وقد تطورت حضارة الإغريق بشكل رئيسي في المدن الرئيسية بالإضافة إلى القرى والأراضي الزراعية المحيطة بها حيث أنه في هذه الفترة وصلت مجموعات من الناس من الشمال وأسسوا قرى زراعية صغيرة وكانت المجموعتان الرئيسيتان للشعب الإغريقي هما الدوريون والأيونيون بداية من القرن الثامن قبل الميلاد ولتصل الحضارة الإغريقية إلي قمة مجدها وذروتها في أثينا بعد 3 قرون أى في منتصف القرن الخامس قبل الميلاد وعرفت هذه الفترة بالعصر الذهبي للإغريق والتي برز فيها مجموعة من الفلاسفة والأدباء وعلماء الرياضيات والفيزيائيين والمعماريين والأطباء وعلماء الفلك نذكر منهم الفلاسفة أرسطو وسقراط وطاليس وأفلاطون وهوميروس وعلماء الرياضة إقليدس وفيث']\n",
      "['مدينة أثينا هي عاصمة بلاد اليونان التي تقع في جنوب شرق القارة الأوروبية في الطرف الجنوبي من شبه جزيرة البلقان في موقع إستراتيجي يعد ملتقي الطرق بين قارات آسيا وأوروبا وأفريقيا وهي تشترك في الحدود البرية مع ألبانيا إلى الشمال الغربي وجمهورية مقدونيا وبلغاريا إلى الشمال وتركيا إلى الشمال الشرقي ومدينة أثينا هي أكبر مدنها تليها مدينة سالونيك ويعود إسم المدينة إلى أثينا آلهة الحكمة الإغريقية ويبلغ عدد سكانها حاليا حوالي 750 ألف نسمة ومع ضواحيها وال المناطق المجاورة لها يبلغ حوالي 4 مليون نسمة وهي تقع في جنوب اليونان على سهل أتيكا بين نهري إليسوس وكيفيسوس وتحيط بها من ثلاثة جهات قمم 3 جبال هي هيميتو التي ترتفع 1026 مترا عن سطح البحر وبينديلي التي ترتفع 1109 مترا عن سطح البحر وبارنيثاس التي ترتفع 1413 مترا عن سطح البحر كما تطل من الجهة الرابعة على خليج سارونيكوس الواصل إلى البحر الأبيض المتوسط ويعود تاريخ المدينة إلى حوالي 500 سنة خلت لتعد بذلك إحدى أقدم مستوطنات أوروبا كما تعد المدينة مهد الحضارة الغربية ومهد الديموقراطية حيث أقام اليونانيون القدماء والمعروفين بإسم الإغريق حضارة عريقة منذ أكثر من 2500 سنة مضت وما تزال الإنجازات الرائعة لهم في ميادين الحكم والعلم والفلسفة والفنون تؤثر في الحياة حتى اليوم لاسيما في الحضارة الأوروبية الحديثة التي إستمدت منهم الكثير من ثقافتها وقد تطورت حضارة الإغريق بشكل رئيسي في المدن الرئيسية بالإضافة إلى القرى والأراضي الزراعية المحيطة بها حيث أنه في هذه الفترة وصلت مجموعات من الناس من الشمال وأسسوا قرى زراعية صغيرة وكانت المجموعتان الرئيسيتان للشعب الإغريقي هما الدوريون والأيونيون بداية من القرن الثامن قبل الميلاد ولتصل الحضارة الإغريقية إلي قمة مجدها وذروتها في أثينا بعد 3 قرون أى في منتصف القرن الخامس قبل الميلاد وعرفت هذه الفترة بالعصر الذهبي للإغريق والتي برز فيها مجموعة من الفلاسفة والأدباء وعلماء الرياضيات والفيزيائيين والمعماريين والأطباء وعلماء الفلك نذكر منهم الفلاسفة أرسطو وسقراط وطاليس وأفلاطون وهوميروس وعلماء الرياضة إقليدس وفيث']\n"
     ]
    },
    {
     "name": "stderr",
     "output_type": "stream",
     "text": [
      "Testing:  32%|███▏      | 31/98 [00:25<00:50,  1.33batch/s, Rouge1_Average=0.0558, Rouge2_Average=0.0108, RougeL_Average=0.0558]"
     ]
    },
    {
     "name": "stdout",
     "output_type": "stream",
     "text": [
      "['أخيرا في 28 سبتمبر 1918 خرج العثمانيون من بلاد الشام ، ورفع العلم العربي فوق سراي بيروت وبعبدا ثم أنزل في 6 أكتوبر واستبدل بعلم فرنسا بعد احتلال جيوشها لساحل بلاد الشام. حاولت فرنسا عن طريق مراسلات بين بكركي وجورج بيكو إقناع البطريرك بمحاسن الإبقاء على الوحدة مع سوريا ، لكن جواب البطريرك كان حازما بطلب الاستقلال الكامل ؛ وقد أفضى مؤتمر فرساي في باريس إلى تشكيل لجنة كينغ كراين لاستقصاء رغبات سكان بلاد الشام ، وقد قابلت اللجنة الحويك في يونيو 1918 وقدمت توصياتها باستقلال لبنان ، وذلك حافظا على رغبة أبنائه من صور إلى طرابلس. في أغسطس سافر الحويك على رأس وفد لبناني لحضور الجلسة الثانية لمؤتمر الصلح ، ولقب حينها بطريرك لبنان للإشارة إلى التفاف اللبنانيين مسلمين ومسيحيين حوله ، وخلال زيارته طالب البطريرك مجددا استقلال لبنان. مكث الوفد في باريس أربع أشهر ، وعندما عاد إلى بيروت كشف البطريرك عن رسالة من رئيس وزراء فرنسا جورج كليمنصو مؤرخة في 5 يناير 1920 تفيد بدعم فرنسا استقلال لبنان ثم قبل فيصل الأول ملك المملكة السورية العربية استقلال لبنان بموجب اتفاق فيصل كلمنصو المؤرخ في 6 يناير 1920، وخلال الفترة نفسها احتلت الجيوش الفرنسية كلا من بعلبك وراشيا وحاصبيا والبقاع الغربي التابعة لولاية دمشق تمهيدا لضمها إلى لبنان ؛ وعموما فإن المؤتمر السوري العام رفض فصل لبنان ( كما رفض أي تقسيم لبلاد الشام أو سوريا الكبرى بما فيها فلسطين وكيليكيا ) واعترف في جلسة إعلان الاستقلال بالحكم الذاتي وفق قواعد المتصرفية في 7 مارس 1920، يذكر أن عددا من الموارنة ومنهم سعد الله الحويك شقيق البطريرك قد شارك في مبايعة فيصل ، غير أن البطريرك كان حاسما في طلب استقلال لبنان وهو ما أقره مؤتمر سان ريمو في أبريل 192']\n",
      "['أخيرا في 28 سبتمبر 1918 خرج العثمانيون من بلاد الشام ، ورفع العلم العربي فوق سراي بيروت وبعبدا ثم أنزل في 6 أكتوبر واستبدل بعلم فرنسا بعد احتلال جيوشها لساحل بلاد الشام. حاولت فرنسا عن طريق مراسلات بين بكركي وجورج بيكو إقناع البطريرك بمحاسن الإبقاء على الوحدة مع سوريا ، لكن جواب البطريرك كان حازما بطلب الاستقلال الكامل ؛ وقد أفضى مؤتمر فرساي في باريس إلى تشكيل لجنة كينغ كراين لاستقصاء رغبات سكان بلاد الشام ، وقد قابلت اللجنة الحويك في يونيو 1918 وقدمت توصياتها باستقلال لبنان ، وذلك حافظا على رغبة أبنائه من صور إلى طرابلس. في أغسطس سافر الحويك على رأس وفد لبناني لحضور الجلسة الثانية لمؤتمر الصلح ، ولقب حينها بطريرك لبنان للإشارة إلى التفاف اللبنانيين مسلمين ومسيحيين حوله ، وخلال زيارته طالب البطريرك مجددا استقلال لبنان. مكث الوفد في باريس أربع أشهر ، وعندما عاد إلى بيروت كشف البطريرك عن رسالة من رئيس وزراء فرنسا جورج كليمنصو مؤرخة في 5 يناير 1920 تفيد بدعم فرنسا استقلال لبنان ثم قبل فيصل الأول ملك المملكة السورية العربية استقلال لبنان بموجب اتفاق فيصل كلمنصو المؤرخ في 6 يناير 1920، وخلال الفترة نفسها احتلت الجيوش الفرنسية كلا من بعلبك وراشيا وحاصبيا والبقاع الغربي التابعة لولاية دمشق تمهيدا لضمها إلى لبنان ؛ وعموما فإن المؤتمر السوري العام رفض فصل لبنان ( كما رفض أي تقسيم لبلاد الشام أو سوريا الكبرى بما فيها فلسطين وكيليكيا ) واعترف في جلسة إعلان الاستقلال بالحكم الذاتي وفق قواعد المتصرفية في 7 مارس 1920، يذكر أن عددا من الموارنة ومنهم سعد الله الحويك شقيق البطريرك قد شارك في مبايعة فيصل ، غير أن البطريرك كان حاسما في طلب استقلال لبنان وهو ما أقره مؤتمر سان ريمو في أبريل 192']\n",
      "['لم تكن تلك هي المرة الأولى التي تتعرض فيها صقلية للغزو ، ولا الأخيرة. فباعتبارها الجزيرة الأكبر والأهم استراتيجيا في البحر الأبيض المتوسط ، كانت على رأس قائمة البلدان المستهدف غزوها من كل إمبراطورية منذ فجر التاريخ. عندما وصلت عائلة دي هوتفيل ، وجدوا تركيبة سكانية تتكون من جاليات من اليهود واليونانيين والمسلمين وحتى من المسيحيين اللاتينيين الغرباء. كانت المنطقة المحيطة بميسينا ، حيث حطوا في البداية ، تستوطنها أغلبية يونانية. بدأت صلات صقلية باليونان في عام 750 ق. م ، عندما جاء المستوطنون اليونانيون إلى الجزيرة وبدءوا في إقامة مستعمرات هناك ، واندمجوا مع السكان الأصليين. فأقاموا مستوطنات مهمة ، وازدهرت الحضارة والديانة اليونانية ، وأصبحت الجزيرة جزءا مما كان يدعى اليونان العظمى. وبعد ذلك ، مع بداية توسع الإمبراطورية الرومانية فيما وراء حدود إيطاليا ، كانت صقلية هدفا واضحا ، وفي عام 242 ق. م أصبحت أول مقاطعة رومانية خارج أراضي البلاد. ولم يكن هذا مفاجئا نظرا لجمال الجزيرة وخصوبتها ، حيث كانت تزدهر أشجار الكروم والعنب ، التي أدخل اليونانيون زراعتها. استخدم الرومان التربة الصقلية البركانية الخصبة في زراعة القمح بكميات كبيرة حتى إن شيشرون ، مقتبسا من كاتو الأكبر ، وصف الجزيرة بأنها مستودع غلال الجمهورية ، مرضعة الشعب الروماني.3 بنى الرومان الأثرياء فيلات فاخرة ، كانوا يسترخون فيها ويقضون أوقات فراغهم في صيد وحوش غريبة مستوردة خصوصا لأجلهم ، وشرب النبيذ المحلي والعربدة مع الفتيات الجميلات. وهذه الاحتفاليات محتفى بها في أعمال فسيفساء رائعة ، تعد من أفضل أعمال الفسيفساء التي حفظت في العالم ، في فيلا ديل كاسال ، ببلدة بياتسا أرميرينا ، في وسط صقلية. في القرون التي تلت سقوط الإمبراطورية الرومانية ، تعرضت صقلية للغزو مرات كثيرة ، وهو ما يؤكد الأهمية الاستراتيجية للجزيرة في مركز البحر المتوسط ؛ نظرا لقربها من جنوب إيطاليا مع سهولة']\n",
      "['لم تكن تلك هي المرة الأولى التي تتعرض فيها صقلية للغزو ، ولا الأخيرة. فباعتبارها الجزيرة الأكبر والأهم استراتيجيا في البحر الأبيض المتوسط ، كانت على رأس قائمة البلدان المستهدف غزوها من كل إمبراطورية منذ فجر التاريخ. عندما وصلت عائلة دي هوتفيل ، وجدوا تركيبة سكانية تتكون من جاليات من اليهود واليونانيين والمسلمين وحتى من المسيحيين اللاتينيين الغرباء. كانت المنطقة المحيطة بميسينا ، حيث حطوا في البداية ، تستوطنها أغلبية يونانية. بدأت صلات صقلية باليونان في عام 750 ق. م ، عندما جاء المستوطنون اليونانيون إلى الجزيرة وبدءوا في إقامة مستعمرات هناك ، واندمجوا مع السكان الأصليين. فأقاموا مستوطنات مهمة ، وازدهرت الحضارة والديانة اليونانية ، وأصبحت الجزيرة جزءا مما كان يدعى اليونان العظمى. وبعد ذلك ، مع بداية توسع الإمبراطورية الرومانية فيما وراء حدود إيطاليا ، كانت صقلية هدفا واضحا ، وفي عام 242 ق. م أصبحت أول مقاطعة رومانية خارج أراضي البلاد. ولم يكن هذا مفاجئا نظرا لجمال الجزيرة وخصوبتها ، حيث كانت تزدهر أشجار الكروم والعنب ، التي أدخل اليونانيون زراعتها. استخدم الرومان التربة الصقلية البركانية الخصبة في زراعة القمح بكميات كبيرة حتى إن شيشرون ، مقتبسا من كاتو الأكبر ، وصف الجزيرة بأنها مستودع غلال الجمهورية ، مرضعة الشعب الروماني.3 بنى الرومان الأثرياء فيلات فاخرة ، كانوا يسترخون فيها ويقضون أوقات فراغهم في صيد وحوش غريبة مستوردة خصوصا لأجلهم ، وشرب النبيذ المحلي والعربدة مع الفتيات الجميلات. وهذه الاحتفاليات محتفى بها في أعمال فسيفساء رائعة ، تعد من أفضل أعمال الفسيفساء التي حفظت في العالم ، في فيلا ديل كاسال ، ببلدة بياتسا أرميرينا ، في وسط صقلية. في القرون التي تلت سقوط الإمبراطورية الرومانية ، تعرضت صقلية للغزو مرات كثيرة ، وهو ما يؤكد الأهمية الاستراتيجية للجزيرة في مركز البحر المتوسط ؛ نظرا لقربها من جنوب إيطاليا مع سهولة']\n"
     ]
    },
    {
     "name": "stderr",
     "output_type": "stream",
     "text": [
      "Testing:  33%|███▎      | 32/98 [00:26<00:54,  1.20batch/s, Rouge1_Average=0.0697, Rouge2_Average=0.0104, RougeL_Average=0.0697]\n"
     ]
    },
    {
     "ename": "KeyboardInterrupt",
     "evalue": "",
     "output_type": "error",
     "traceback": [
      "\u001b[1;31m---------------------------------------------------------------------------\u001b[0m",
      "\u001b[1;31mKeyboardInterrupt\u001b[0m                         Traceback (most recent call last)",
      "Cell \u001b[1;32mIn[19], line 26\u001b[0m\n\u001b[0;32m     22\u001b[0m \u001b[39m# Loss = Outputs.loss\u001b[39;00m\n\u001b[0;32m     23\u001b[0m \u001b[39m# Total_Loss += Loss.item()\u001b[39;00m\n\u001b[0;32m     25\u001b[0m IDs \u001b[39m=\u001b[39m Tokenizer\u001b[39m.\u001b[39mbatch_decode(Input_IDs, skip_special_tokens\u001b[39m=\u001b[39m\u001b[39mTrue\u001b[39;00m)\n\u001b[1;32m---> 26\u001b[0m Decoded_Output \u001b[39m=\u001b[39m Tokenizer\u001b[39m.\u001b[39;49mbatch_decode(Outputs\u001b[39m.\u001b[39;49mlogits\u001b[39m.\u001b[39;49margmax(dim\u001b[39m=\u001b[39;49m\u001b[39m-\u001b[39;49m\u001b[39m1\u001b[39;49m), skip_special_tokens\u001b[39m=\u001b[39;49m\u001b[39mTrue\u001b[39;49;00m)\n\u001b[0;32m     27\u001b[0m \u001b[39mprint\u001b[39m(IDs)\n\u001b[0;32m     28\u001b[0m \u001b[39mprint\u001b[39m(Decoded_Output)\n",
      "File \u001b[1;32mc:\\Anaconda\\envs\\Cuda\\lib\\site-packages\\transformers\\tokenization_utils_base.py:3446\u001b[0m, in \u001b[0;36mPreTrainedTokenizerBase.batch_decode\u001b[1;34m(self, sequences, skip_special_tokens, clean_up_tokenization_spaces, **kwargs)\u001b[0m\n\u001b[0;32m   3422\u001b[0m \u001b[39mdef\u001b[39;00m \u001b[39mbatch_decode\u001b[39m(\n\u001b[0;32m   3423\u001b[0m     \u001b[39mself\u001b[39m,\n\u001b[0;32m   3424\u001b[0m     sequences: Union[List[\u001b[39mint\u001b[39m], List[List[\u001b[39mint\u001b[39m]], \u001b[39m\"\u001b[39m\u001b[39mnp.ndarray\u001b[39m\u001b[39m\"\u001b[39m, \u001b[39m\"\u001b[39m\u001b[39mtorch.Tensor\u001b[39m\u001b[39m\"\u001b[39m, \u001b[39m\"\u001b[39m\u001b[39mtf.Tensor\u001b[39m\u001b[39m\"\u001b[39m],\n\u001b[1;32m   (...)\u001b[0m\n\u001b[0;32m   3427\u001b[0m     \u001b[39m*\u001b[39m\u001b[39m*\u001b[39mkwargs,\n\u001b[0;32m   3428\u001b[0m ) \u001b[39m-\u001b[39m\u001b[39m>\u001b[39m List[\u001b[39mstr\u001b[39m]:\n\u001b[0;32m   3429\u001b[0m \u001b[39m    \u001b[39m\u001b[39m\"\"\"\u001b[39;00m\n\u001b[0;32m   3430\u001b[0m \u001b[39m    Convert a list of lists of token ids into a list of strings by calling decode.\u001b[39;00m\n\u001b[0;32m   3431\u001b[0m \n\u001b[1;32m   (...)\u001b[0m\n\u001b[0;32m   3444\u001b[0m \u001b[39m        `List[str]`: The list of decoded sentences.\u001b[39;00m\n\u001b[0;32m   3445\u001b[0m \u001b[39m    \"\"\"\u001b[39;00m\n\u001b[1;32m-> 3446\u001b[0m     \u001b[39mreturn\u001b[39;00m [\n\u001b[0;32m   3447\u001b[0m         \u001b[39mself\u001b[39m\u001b[39m.\u001b[39mdecode(\n\u001b[0;32m   3448\u001b[0m             seq,\n\u001b[0;32m   3449\u001b[0m             skip_special_tokens\u001b[39m=\u001b[39mskip_special_tokens,\n\u001b[0;32m   3450\u001b[0m             clean_up_tokenization_spaces\u001b[39m=\u001b[39mclean_up_tokenization_spaces,\n\u001b[0;32m   3451\u001b[0m             \u001b[39m*\u001b[39m\u001b[39m*\u001b[39mkwargs,\n\u001b[0;32m   3452\u001b[0m         )\n\u001b[0;32m   3453\u001b[0m         \u001b[39mfor\u001b[39;00m seq \u001b[39min\u001b[39;00m sequences\n\u001b[0;32m   3454\u001b[0m     ]\n",
      "File \u001b[1;32mc:\\Anaconda\\envs\\Cuda\\lib\\site-packages\\transformers\\tokenization_utils_base.py:3447\u001b[0m, in \u001b[0;36m<listcomp>\u001b[1;34m(.0)\u001b[0m\n\u001b[0;32m   3422\u001b[0m \u001b[39mdef\u001b[39;00m \u001b[39mbatch_decode\u001b[39m(\n\u001b[0;32m   3423\u001b[0m     \u001b[39mself\u001b[39m,\n\u001b[0;32m   3424\u001b[0m     sequences: Union[List[\u001b[39mint\u001b[39m], List[List[\u001b[39mint\u001b[39m]], \u001b[39m\"\u001b[39m\u001b[39mnp.ndarray\u001b[39m\u001b[39m\"\u001b[39m, \u001b[39m\"\u001b[39m\u001b[39mtorch.Tensor\u001b[39m\u001b[39m\"\u001b[39m, \u001b[39m\"\u001b[39m\u001b[39mtf.Tensor\u001b[39m\u001b[39m\"\u001b[39m],\n\u001b[1;32m   (...)\u001b[0m\n\u001b[0;32m   3427\u001b[0m     \u001b[39m*\u001b[39m\u001b[39m*\u001b[39mkwargs,\n\u001b[0;32m   3428\u001b[0m ) \u001b[39m-\u001b[39m\u001b[39m>\u001b[39m List[\u001b[39mstr\u001b[39m]:\n\u001b[0;32m   3429\u001b[0m \u001b[39m    \u001b[39m\u001b[39m\"\"\"\u001b[39;00m\n\u001b[0;32m   3430\u001b[0m \u001b[39m    Convert a list of lists of token ids into a list of strings by calling decode.\u001b[39;00m\n\u001b[0;32m   3431\u001b[0m \n\u001b[1;32m   (...)\u001b[0m\n\u001b[0;32m   3444\u001b[0m \u001b[39m        `List[str]`: The list of decoded sentences.\u001b[39;00m\n\u001b[0;32m   3445\u001b[0m \u001b[39m    \"\"\"\u001b[39;00m\n\u001b[0;32m   3446\u001b[0m     \u001b[39mreturn\u001b[39;00m [\n\u001b[1;32m-> 3447\u001b[0m         \u001b[39mself\u001b[39m\u001b[39m.\u001b[39mdecode(\n\u001b[0;32m   3448\u001b[0m             seq,\n\u001b[0;32m   3449\u001b[0m             skip_special_tokens\u001b[39m=\u001b[39mskip_special_tokens,\n\u001b[0;32m   3450\u001b[0m             clean_up_tokenization_spaces\u001b[39m=\u001b[39mclean_up_tokenization_spaces,\n\u001b[0;32m   3451\u001b[0m             \u001b[39m*\u001b[39m\u001b[39m*\u001b[39mkwargs,\n\u001b[0;32m   3452\u001b[0m         )\n\u001b[0;32m   3453\u001b[0m         \u001b[39mfor\u001b[39;00m seq \u001b[39min\u001b[39;00m sequences\n\u001b[0;32m   3454\u001b[0m     ]\n",
      "File \u001b[1;32mc:\\Anaconda\\envs\\Cuda\\lib\\site-packages\\transformers\\tokenization_utils_base.py:3484\u001b[0m, in \u001b[0;36mPreTrainedTokenizerBase.decode\u001b[1;34m(self, token_ids, skip_special_tokens, clean_up_tokenization_spaces, **kwargs)\u001b[0m\n\u001b[0;32m   3463\u001b[0m \u001b[39m\u001b[39m\u001b[39m\"\"\"\u001b[39;00m\n\u001b[0;32m   3464\u001b[0m \u001b[39mConverts a sequence of ids in a string, using the tokenizer and vocabulary with options to remove special\u001b[39;00m\n\u001b[0;32m   3465\u001b[0m \u001b[39mtokens and clean up tokenization spaces.\u001b[39;00m\n\u001b[1;32m   (...)\u001b[0m\n\u001b[0;32m   3481\u001b[0m \u001b[39m    `str`: The decoded sentence.\u001b[39;00m\n\u001b[0;32m   3482\u001b[0m \u001b[39m\"\"\"\u001b[39;00m\n\u001b[0;32m   3483\u001b[0m \u001b[39m# Convert inputs to python lists\u001b[39;00m\n\u001b[1;32m-> 3484\u001b[0m token_ids \u001b[39m=\u001b[39m to_py_obj(token_ids)\n\u001b[0;32m   3486\u001b[0m \u001b[39mreturn\u001b[39;00m \u001b[39mself\u001b[39m\u001b[39m.\u001b[39m_decode(\n\u001b[0;32m   3487\u001b[0m     token_ids\u001b[39m=\u001b[39mtoken_ids,\n\u001b[0;32m   3488\u001b[0m     skip_special_tokens\u001b[39m=\u001b[39mskip_special_tokens,\n\u001b[0;32m   3489\u001b[0m     clean_up_tokenization_spaces\u001b[39m=\u001b[39mclean_up_tokenization_spaces,\n\u001b[0;32m   3490\u001b[0m     \u001b[39m*\u001b[39m\u001b[39m*\u001b[39mkwargs,\n\u001b[0;32m   3491\u001b[0m )\n",
      "File \u001b[1;32mc:\\Anaconda\\envs\\Cuda\\lib\\site-packages\\transformers\\utils\\generic.py:193\u001b[0m, in \u001b[0;36mto_py_obj\u001b[1;34m(obj)\u001b[0m\n\u001b[0;32m    191\u001b[0m     \u001b[39mreturn\u001b[39;00m obj\u001b[39m.\u001b[39mnumpy()\u001b[39m.\u001b[39mtolist()\n\u001b[0;32m    192\u001b[0m \u001b[39melif\u001b[39;00m is_torch_tensor(obj):\n\u001b[1;32m--> 193\u001b[0m     \u001b[39mreturn\u001b[39;00m obj\u001b[39m.\u001b[39;49mdetach()\u001b[39m.\u001b[39;49mcpu()\u001b[39m.\u001b[39mtolist()\n\u001b[0;32m    194\u001b[0m \u001b[39melif\u001b[39;00m is_jax_tensor(obj):\n\u001b[0;32m    195\u001b[0m     \u001b[39mreturn\u001b[39;00m np\u001b[39m.\u001b[39masarray(obj)\u001b[39m.\u001b[39mtolist()\n",
      "\u001b[1;31mKeyboardInterrupt\u001b[0m: "
     ]
    }
   ],
   "source": [
    "Model.eval()\n",
    "Total_Loss = 0\n",
    "\n",
    "Total_Rouge1 = 0.0\n",
    "Total_Rouge2 = 0.0\n",
    "Total_RougeL = 0.0\n",
    "Total_Batches = 0\n",
    "\n",
    "with torch.no_grad():\n",
    "    with tqdm(Train_Dataloader, desc=\"Testing: \",  unit=\"batch\") as t:\n",
    "        for Batch in t:\n",
    "            Input_IDs = Batch[\"input_ids\"].to(device)\n",
    "            Attention_Mask = Batch[\"attention_mask\"].to(device)\n",
    "            Decoder_Input_IDs = Batch[\"decoder_input_ids\"].to(device)\n",
    "            Decoder_Attention_Mask = Batch[\"decoder_attention_mask\"].to(device)\n",
    "\n",
    "            Outputs = Model(\n",
    "                input_ids=Input_IDs,\n",
    "                attention_mask=Attention_Mask\n",
    "            )\n",
    "\n",
    "            # Loss = Outputs.loss\n",
    "            # Total_Loss += Loss.item()\n",
    "            \n",
    "            IDs = Tokenizer.batch_decode(Input_IDs, skip_special_tokens=True)\n",
    "            Decoded_Output = Tokenizer.batch_decode(Outputs.logits.argmax(dim=-1), skip_special_tokens=True)\n",
    "            print(IDs)\n",
    "            print(Decoded_Output)\n",
    "\n",
    "            Reference_sentences = Tokenizer.batch_decode(Decoder_Input_IDs, skip_special_tokens=True)\n",
    "            Generated_sentences = Tokenizer.batch_decode(Outputs.logits.argmax(dim=-1), skip_special_tokens=True)\n",
    "\n",
    "            Scores = Scorer.score(''.join(Reference_sentences), ''.join(Generated_sentences))\n",
    "            Total_Rouge1 += Scores['rouge1'].fmeasure\n",
    "            Total_Rouge2 += Scores['rouge2'].fmeasure\n",
    "            Total_RougeL += Scores['rougeL'].fmeasure\n",
    "            Total_Batches += 1\n",
    "\n",
    "            t.set_postfix(\n",
    "                # Loss_Average=Total_Loss / len(Train_Dataloader),\n",
    "                # loss=Loss.item(),\n",
    "                Rouge1_Average=Total_Rouge1 / Total_Batches,\n",
    "                Rouge2_Average=Total_Rouge2 / Total_Batches,\n",
    "                RougeL_Average=Total_RougeL / Total_Batches\n",
    "            )\n",
    "\n"
   ]
  },
  {
   "cell_type": "code",
   "execution_count": 29,
   "metadata": {},
   "outputs": [
    {
     "name": "stderr",
     "output_type": "stream",
     "text": [
      "Testing:   0%|          | 0/31 [00:00<?, ?batch/s]"
     ]
    },
    {
     "name": "stdout",
     "output_type": "stream",
     "text": [
      "tensor([[   878,  65306,    368,     44,  87202,      6, 102002, 133017,    250,\n",
      "          10754,  25288,  28771, 158219, 108451,  15617, 167591,    648,     44,\n",
      "          91587,    716,  29602,    368, 233090,   1761,  61818,   6466,  14626,\n",
      "             44,   6501,  24094, 133017,    250,  10754,  25288,    240,  35394,\n",
      "            906,  86765,   6472,   1101, 192761,     44, 185492,   1546,  38126,\n",
      "          93259, 137811, 115537,   6268,  54067,    230,     44, 135057, 192778,\n",
      "          53314,  45802,   5669, 136549,     44,     50,  26426, 131955,  13061,\n",
      "         168461,  54191,  23372,   9793,    179,  27944, 167315,  15814,    176,\n",
      "         122129,   1101,   6227,  12337,  44236,    323,    767,  12371,  23090,\n",
      "           6449,  73703,  74023,    250, 140588,    240,    359, 164220, 179846,\n",
      "            725,   1327,  10488,    250,   6449,    716,  14848, 154574,   3426,\n",
      "         105268,   1195,  51416,  48236, 111640,   5784, 232066,    767,  32848,\n",
      "          11020, 200561,    230,   1533,  54942,  25694,    496,  98755,    240,\n",
      "              6,  99016,   3484,  41755, 141092,      6,      5,   3138, 124854,\n",
      "            368,  84341,    240,  30723,     44,    716, 233090,  71697,    368,\n",
      "          20730,  44197,  61792,    230, 100631,  54163,  44197,  95554,    240,\n",
      "          76804,    230,   5669,  76276,  23031,     50,   6449, 149400,   2689,\n",
      "            240,   1936,   4003,    900,  76804,  41906,     50,   6501,  24094,\n",
      "         133017,    250,  10754,  25288,    240,  35394, 173090,  50910,   3138,\n",
      "           1692,    648,    359,  97500,  21188,  86765,   6472,  35508,   9787,\n",
      "          61825,    250,    556,    359, 192761,     44,      5,     65,  12326,\n",
      "          23338,     44,   6449,    716, 100508, 231167,    878, 185295,   1778,\n",
      "            240, 125285,    553,   6984,   1327, 157416,  10244,    179, 125967,\n",
      "            240, 191985,    176,  11937,  29928,    258,    725,   9294, 174504,\n",
      "            972,    729,  56482, 164152,  68417,    258,   5537,  16657,    396,\n",
      "           3484,  85918,    240,  96047,  54622,    230, 233090,   1761, 122210,\n",
      "          12371,  73077,    258, 116767,    176,   2796,   7107,  87202,      6,\n",
      "         183944,  58444,    230,  41697,    396, 147764,    906, 131142,    755,\n",
      "            878,  28715,   1778,  14409,    556,    754,  60026,    250,  71697,\n",
      "            368,  60586,   7938,  19194,    359, 192761,     65,    906,  86765,\n",
      "           6472,  35508,     65,  36951,  24094,    755, 133017,    250,  10754,\n",
      "          25288,  38241,  29168,    359, 103923,    240,  19707,  96047,      6,\n",
      "              5,  10651,  77676,   3484, 157416,  14386,  30555,    179, 125967,\n",
      "         159565, 168461,   1705, 102002,    556,    716, 195428,  84341, 159106,\n",
      "           1365,  20162, 131165,   5784, 232066,   3484,  41755, 141092, 112461,\n",
      "          92752,    900,    715,  48236,   1692,    906,  87991, 161716,  10038,\n",
      "            648,      6,      5,     65,  39223,    368,  84341,  91587,     44,\n",
      "         187428, 183072,   1761,    746, 119283,  13061,     44,      6, 102002,\n",
      "         133017,    250,  10754,  25288,  28771, 158219, 108451,  15617, 167591,\n",
      "            648,     44,   1761, 117480,  60137,  27567,    835,  14150,  10731,\n",
      "          33746,    795, 138284,    250,  77093,    836,  68148,    556, 179780,\n",
      "           7987,  10817,   1237, 177635, 179846,  34345, 126171,    725,    556,\n",
      "            716,  19031,   3070,    359, 102002,   6708,  25460,     65, 132180,\n",
      "          50980,  63918,    250,    556,      6, 142440,    368,    359, 192761,\n",
      "         166010,   3138,  77728,    906,  86765,   6472,  35508,   4587,  36184,\n",
      "          91261,     44,      5,     65,  65734,    368,  17625,  58922,   1778,\n",
      "          44595, 149835, 233090,   7938, 127037,    258, 118202,  10731,    795,\n",
      "         152224,  93259,  38287,   2103,  24196,    767,  40826,   1101, 181538,\n",
      "            755,    240, 124398,     65,  39229,  32719, 166123, 130394,   1101,\n",
      "         104613,    250,   1761, 131955, 168461,    608,  13061,   1101, 104262,\n",
      "         147764,  17625,   1241,  95721,    746, 152513,    906, 120918,    396,\n",
      "              6,  92149,  32719,   3484, 157416,  14386,  30555,    179,    725,\n",
      "             65,  82388,    250, 192778,   6578,  45802,   5669, 136549,   1761,\n",
      "         175735,  51416,  48236, 129513,  48236,    755,      6,      5,      2,\n",
      "         250004,      1,      1,      1,      1,      1,      1,      1,      1,\n",
      "              1,      1,      1,      1,      1,      1,      1,      1,      1,\n",
      "              1,      1,      1,      1,      1,      1,      1,      1]],\n",
      "       device='cuda:0')\n",
      "512\n"
     ]
    },
    {
     "name": "stderr",
     "output_type": "stream",
     "text": [
      "Testing:   0%|          | 0/31 [00:02<?, ?batch/s]\n"
     ]
    },
    {
     "ename": "AttributeError",
     "evalue": "'Seq2SeqLMOutput' object has no attribute 'sequences'",
     "output_type": "error",
     "traceback": [
      "\u001b[1;31m---------------------------------------------------------------------------\u001b[0m",
      "\u001b[1;31mAttributeError\u001b[0m                            Traceback (most recent call last)",
      "Cell \u001b[1;32mIn[29], line 26\u001b[0m\n\u001b[0;32m     19\u001b[0m     Outputs \u001b[39m=\u001b[39m Model(\n\u001b[0;32m     20\u001b[0m     input_ids\u001b[39m=\u001b[39mInput_IDs,\n\u001b[0;32m     21\u001b[0m     attention_mask\u001b[39m=\u001b[39mAttention_Mask,\n\u001b[0;32m     22\u001b[0m     labels\u001b[39m=\u001b[39mInput_IDs\n\u001b[0;32m     23\u001b[0m )\n\u001b[0;32m     25\u001b[0m     IDs \u001b[39m=\u001b[39m Tokenizer\u001b[39m.\u001b[39mbatch_decode(Input_IDs, skip_special_tokens\u001b[39m=\u001b[39m\u001b[39mTrue\u001b[39;00m)\n\u001b[1;32m---> 26\u001b[0m     Decoded_Output \u001b[39m=\u001b[39m Tokenizer\u001b[39m.\u001b[39mbatch_decode(Outputs\u001b[39m.\u001b[39;49msequences, skip_special_tokens\u001b[39m=\u001b[39m\u001b[39mTrue\u001b[39;00m)\n\u001b[0;32m     27\u001b[0m     \u001b[39mprint\u001b[39m(IDs)\n\u001b[0;32m     28\u001b[0m     \u001b[39mprint\u001b[39m(Decoded_Output)\n",
      "\u001b[1;31mAttributeError\u001b[0m: 'Seq2SeqLMOutput' object has no attribute 'sequences'"
     ]
    }
   ],
   "source": [
    "# Model.eval()\n",
    "\n",
    "# Total_Loss = 0\n",
    "# Total_Rouge1 = 0.0\n",
    "# Total_Rouge2 = 0.0\n",
    "# Total_RougeL = 0.0\n",
    "# Total_Batches = 0\n",
    "\n",
    "# with torch.no_grad():\n",
    "#     with tqdm(Test_Dataloader, desc=\"Testing\", unit=\"batch\") as t:\n",
    "#         for Batch in t:\n",
    "#             Input_IDs = Batch[\"input_ids\"].to(device)\n",
    "#             Attention_Mask = Batch[\"attention_mask\"].to(device)\n",
    "#             Decoder_Input_IDs = Batch[\"decoder_input_ids\"].to(device)\n",
    "#             Decoder_Attention_Mask = Batch[\"decoder_attention_mask\"].to(device)\n",
    "\n",
    "#             print(Input_IDs)\n",
    "#             print(len(Input_IDs[0]))\n",
    "#             Outputs = Model.generate(\n",
    "#                 input_ids=Input_IDs,\n",
    "#                 attention_mask=Attention_Mask,\n",
    "#                 max_length=100,\n",
    "#                 num_beams=4,\n",
    "#                 early_stopping=True,\n",
    "#                 return_dict_in_generate=True\n",
    "#             )\n",
    "            \n",
    "#             IDs = Tokenizer.batch_decode(Input_IDs, skip_special_tokens=True)\n",
    "#             Decoded_Output = Tokenizer.batch_decode(Outputs.sequences, skip_special_tokens=True)\n",
    "#             print(IDs)\n",
    "#             print(Decoded_Output)\n",
    "\n",
    "#             # Loss = Outputs.loss\n",
    "#             # Total_Loss += Loss.item()\n",
    "\n",
    "#             Reference_sentences = Tokenizer.batch_decode(Decoder_Input_IDs, skip_special_tokens=True)\n",
    "#             Generated_sentences = Tokenizer.batch_decode(Outputs.sequences, skip_special_tokens=True)\n",
    "\n",
    "#             Scores = Scorer.score(''.join(Reference_sentences), ''.join(Generated_sentences))\n",
    "#             Total_Rouge1 += Scores['rouge1'].fmeasure\n",
    "#             Total_Rouge2 += Scores['rouge2'].fmeasure\n",
    "#             Total_RougeL += Scores['rougeL'].fmeasure\n",
    "#             Total_Batches += 1\n",
    "\n",
    "#             t.set_postfix(\n",
    "#                 # Loss_Average=Total_Loss / len(Test_Dataloader),\n",
    "#                 # loss=Loss.item(),\n",
    "#                 Rouge1_Average=Total_Rouge1 / Total_Batches,\n",
    "#                 Rouge2_Average=Total_Rouge2 / Total_Batches,\n",
    "#                 RougeL_Average=Total_RougeL / Total_Batches\n",
    "#             )\n",
    "#             break"
   ]
  },
  {
   "cell_type": "code",
   "execution_count": null,
   "metadata": {},
   "outputs": [],
   "source": [
    "paragraph = \"علمت الأنباء بأنه تم إعلان نتائج الانتخابات الأخيرة في البلاد. حظي المرشح الأول بدعم واسع من الناخبين وفاز بالمنصب الرئاسي. وتم تكليفه بتشكيل حكومة جديدة للبلاد. يأمل الناس أن تسهم هذه الحكومة في تحقيق التقدم والاستقرار ومعالجة التحديات التي تواجه البلاد. من المتوقع أن تكون السنوات القادمة حافلة بالتحولات والتغيرات الإيجابية. نأمل أن يكون للبلاد مستقبل مشرق وأن تزدهر الأمور في جميع المجالات.\"\n",
    "\n",
    "input_tokens = Tokenizer.encode_plus(paragraph, add_special_tokens=True, truncation=True, max_length=512, padding='longest', return_tensors='pt')\n",
    "input_ids = input_tokens['input_ids'].to(device)\n",
    "attention_mask = input_tokens['attention_mask'].to(device)\n",
    "\n",
    "# Pass the input tensors through the model\n",
    "Model.eval()\n",
    "with torch.no_grad():\n",
    "    outputs = Model.generate(input_ids=input_ids, attention_mask=attention_mask, max_length=100, num_beams=4, early_stopping=True)\n",
    "\n",
    "# Decode the predicted summary\n",
    "summary = Tokenizer.decode(outputs[0], skip_special_tokens=True)\n",
    "print(len(paragraph))\n",
    "print(paragraph)\n",
    "print(summary)\n",
    "print(len(summary))"
   ]
  },
  {
   "cell_type": "code",
   "execution_count": null,
   "metadata": {},
   "outputs": [],
   "source": [
    "# Model.eval()\n",
    "\n",
    "# Predicted_Summaries = []\n",
    "\n",
    "# with tqdm(Train_Dataloader, unit=\"batch\") as t:\n",
    "#     for Batch in t:\n",
    "#         Input_IDs = Batch[\"input_ids\"]\n",
    "#         Attention_Mask = Batch[\"attention_mask\"]\n",
    "#         Outputs = Model.generate(\n",
    "#             input_ids=Input_IDs,\n",
    "#             attention_mask=Attention_Mask,\n",
    "#             max_length=Summary_Max_Length,\n",
    "#             num_beams=4,\n",
    "#             length_penalty=2.0,\n",
    "#             early_stopping=True\n",
    "#         )\n",
    "         \n",
    "#         print(Outputs)\n",
    "#         IDs = Tokenizer.batch_decode(Input_IDs, skip_special_tokens=True)\n",
    "#         print(IDs)\n",
    "#         Batch_Summaries = Tokenizer.batch_decode(Outputs, skip_special_tokens=True)\n",
    "#         print(Batch_Summaries)\n",
    "#         Predicted_Summaries.extend(Batch_Summaries)\n"
   ]
  },
  {
   "cell_type": "code",
   "execution_count": null,
   "metadata": {},
   "outputs": [
    {
     "data": {
      "text/plain": [
       "'التاريخ يقول ان غزو \" ا آشوريا \" لمصر حصل في القرن السابع قبل الميلاد واحتلت على اثره مصر لمدة تقارب المائة سنة تخللها مقاومة وحروب وقلاقل وثورات من المصريين لمقاومة الاحتلال الآشوري وفي النهاية استطاع المصريون طرد الآشوريين الغزاة لكن ما لبثوا ان غزاهم الفرس في منتصف القرن السادس قبل الميلاد وسقطت مصر في أيدي الفرس ورزحت تحت الاحتلال الفارسي قرابة 180 سنة بعد ان احتلها الآشوريون لمدة تقارب قرنا من الزمان ثم جاء اليونانيون بقيادة الإسكندر الأكبر المقدوني واحتل مصر وانهى الحقبة الفارسية في مصر واستمر حكم البطالمة لمصر قرابة ثلاثة قرون وما كادت مصر تخرج من نفوذ الحكم اليوناني حتى وقعت تحت الحكم الروماني واسمر حتى سقط على يد عمرو بن العاص فدخلت مصر تحت حكم العرب الى اليوم وان كان تخلله فترات حكم مصر خلالها المماليك والاخشيديون وأخيرا العثمانيون الأتراك وخضعت فترة قصيرة للانتداب البريطاني حتى نالت استقلالها وتأسست جمهورية مصر الحديثة واذا استثنينا فترة الانتداب البريطاني فان كل الحكومات من بعد الفتح الاسلامي لمصر حكومات إسلامية .. ومنذ الفتح الاسلامي لمصر توافد العرب زرافات الى مصر من جزيرة العرب ونلاحظ ان تاريخ مصر السياسي والحضاري المدون بدأ منذ تول الاسرة الفرعونية الاولى قبل 3500 سنة قبل الميلاد وهي بهذا تعد اقدم حضارة في العالم تم تدوينها .. وكان الحكام والمحكومين وقتها افارقة محليين يمكن ان نقول عنهم اصحاب السلالة الجينية e وهي السلالة الجينية لافارقة جنوب الصحراء ( أمازيغ ونوبيين وحبش ) .. وانتهى حكم مصر وخرج من أيدي الحكام المحليين بدخول الإسكندر الأكبر المقدوني لمصر .. وفي ظني ان السلالة الجينية j2 دخلت مصر مع قدوم الآشوريين والفرس الى مصر ودخلت السلالة الجينية j1 مع دخول الآشوريين ايضا لان بعض الساميين اختلطوا مع الاشوريين في الامبراطورية الآشورية وكانوا ضمن المكون الاجتماعي في الإمبراطوريات الاشورية والبابلية والسومرية في العراق والشام لكن ازداد ضخ السلالة الجينية j1 في مصر بعد الفتح الاسلامي لمصر ومن هنا نستنتج ان السلالة الجينية للمصريين الأصليين هي e والسلالتين الجينيتين j1,j2 للوافدين الأجانب الى مصر وكذلك يجب ان لا ننسى السلالة الجينية الهندواوروبية r التي دخلت مصر مع دخول البطالمة اليونان مصر والسلالات الجينية الأوروبية الاخرى دخلت مصر بدخول الرومان لمصر . وبناء على ما تقدم فانه من غير المستغرب ان تظهر المومياوات التي يصل عمرها الى ما يقارب الألف سنة قبل الميلاد على سلالات جينية (j1,j2,r) بجوار السلالة الجينية المحلية e'"
      ]
     },
     "execution_count": 15,
     "metadata": {},
     "output_type": "execute_result"
    }
   ],
   "source": [
    "# Train_Paragraphs[0]"
   ]
  },
  {
   "cell_type": "code",
   "execution_count": null,
   "metadata": {},
   "outputs": [
    {
     "name": "stdout",
     "output_type": "stream",
     "text": [
      "MBartForConditionalGeneration(\n",
      "  (model): MBartModel(\n",
      "    (shared): Embedding(250054, 1024, padding_idx=1)\n",
      "    (encoder): MBartEncoder(\n",
      "      (embed_tokens): Embedding(250054, 1024, padding_idx=1)\n",
      "      (embed_positions): MBartLearnedPositionalEmbedding(1026, 1024)\n",
      "      (layers): ModuleList(\n",
      "        (0-11): 12 x MBartEncoderLayer(\n",
      "          (self_attn): MBartAttention(\n",
      "            (k_proj): Linear(in_features=1024, out_features=1024, bias=True)\n",
      "            (v_proj): Linear(in_features=1024, out_features=1024, bias=True)\n",
      "            (q_proj): Linear(in_features=1024, out_features=1024, bias=True)\n",
      "            (out_proj): Linear(in_features=1024, out_features=1024, bias=True)\n",
      "          )\n",
      "          (self_attn_layer_norm): LayerNorm((1024,), eps=1e-05, elementwise_affine=True)\n",
      "          (activation_fn): GELUActivation()\n",
      "          (fc1): Linear(in_features=1024, out_features=4096, bias=True)\n",
      "          (fc2): Linear(in_features=4096, out_features=1024, bias=True)\n",
      "          (final_layer_norm): LayerNorm((1024,), eps=1e-05, elementwise_affine=True)\n",
      "        )\n",
      "      )\n",
      "      (layernorm_embedding): LayerNorm((1024,), eps=1e-05, elementwise_affine=True)\n",
      "      (layer_norm): LayerNorm((1024,), eps=1e-05, elementwise_affine=True)\n",
      "    )\n",
      "    (decoder): MBartDecoder(\n",
      "      (embed_tokens): Embedding(250054, 1024, padding_idx=1)\n",
      "      (embed_positions): MBartLearnedPositionalEmbedding(1026, 1024)\n",
      "      (layers): ModuleList(\n",
      "        (0-11): 12 x MBartDecoderLayer(\n",
      "          (self_attn): MBartAttention(\n",
      "            (k_proj): Linear(in_features=1024, out_features=1024, bias=True)\n",
      "            (v_proj): Linear(in_features=1024, out_features=1024, bias=True)\n",
      "            (q_proj): Linear(in_features=1024, out_features=1024, bias=True)\n",
      "            (out_proj): Linear(in_features=1024, out_features=1024, bias=True)\n",
      "          )\n",
      "          (activation_fn): GELUActivation()\n",
      "          (self_attn_layer_norm): LayerNorm((1024,), eps=1e-05, elementwise_affine=True)\n",
      "          (encoder_attn): MBartAttention(\n",
      "            (k_proj): Linear(in_features=1024, out_features=1024, bias=True)\n",
      "            (v_proj): Linear(in_features=1024, out_features=1024, bias=True)\n",
      "            (q_proj): Linear(in_features=1024, out_features=1024, bias=True)\n",
      "            (out_proj): Linear(in_features=1024, out_features=1024, bias=True)\n",
      "          )\n",
      "          (encoder_attn_layer_norm): LayerNorm((1024,), eps=1e-05, elementwise_affine=True)\n",
      "          (fc1): Linear(in_features=1024, out_features=4096, bias=True)\n",
      "          (fc2): Linear(in_features=4096, out_features=1024, bias=True)\n",
      "          (final_layer_norm): LayerNorm((1024,), eps=1e-05, elementwise_affine=True)\n",
      "        )\n",
      "      )\n",
      "      (layernorm_embedding): LayerNorm((1024,), eps=1e-05, elementwise_affine=True)\n",
      "      (layer_norm): LayerNorm((1024,), eps=1e-05, elementwise_affine=True)\n",
      "    )\n",
      "  )\n",
      "  (lm_head): Linear(in_features=1024, out_features=250054, bias=False)\n",
      ")\n",
      "<class 'transformers.models.mbart.modeling_mbart.MBartForConditionalGeneration'>\n"
     ]
    }
   ],
   "source": [
    "# print(Model)\n",
    "# print(type(Model))"
   ]
  },
  {
   "cell_type": "code",
   "execution_count": null,
   "metadata": {},
   "outputs": [],
   "source": [
    "# text = 'تاريخ أقول غزو \" آشوريا \" مصر حصل قرن سابع ميلاد احتال ثرا مصر مد تقارب المائة تخلل مقاوم حروب وقلاقل ثور مصري مقاوم احتلال الآشوري نهاية استطاع مصري طرد الآشوريين غزاة لبث غز فرس منتصف قرن سادس ميلاد سقط مصر يد فرس رزح احتلال فارس قراب ١٨٠ احتل الآشوريون مد تقارب قرن زم جاء يوناني قياد الإسكندر أكبر مقدوني حتل مصر وانهى حقب فارس مصر استمر حكم البطالمة مصر قراب قرون ما كاد مصر تخرج نفوذ حكم يونان وقع حكم رومان سمر سقط يد عمر العاص دخل مصر حكم عرب تخلل فتر حكم مصر خلال مماليك والاخشيديون أخير عثماني الأتراك خضع فترة قصير انتداب بريطاني نال استقلال تأسس جمهور مصر حديث واذا استثنى فترة انتداب بريطاني حكومة فتح الاسلامي مصر حكومة إسلام منذ فتح الاسلامي مصر توافد عرب زرافة مصر جزيرة عرب لاحظ تاريخ مصر سياسة حضار مدون بدأ تولي الاسرة فرعون ٣٥٠٠ ميلاد تعدي قدم حضار عالم تدوين حكام محكوم وقت افارقة محلي نقول عن اصحاب سلال جين e سلال جين لافارقة جنوب صحراء ( أمازيغ نوبي حبش ) انتهى حكم مصر خرج يد حكام محلي دخول الإسكندر أكبر مقدوني مصر ظن سلال جين j٢ دخل مصر قدوم الآشوريين فرس مصر دخل سلال جين j١ دخول الآشوريين لان الساميين اختلط الاشوريين الامبراطورية الآشورية كانو مكون اجتماع إمبراطوري الاشورية بابلي سومر عراق والشام ازداد ضخ سلال جين j١ مصر فتح الاسلامي مصر استنتج سلال جين مصري أصلي e سلال جين j١ j٢ وافد أجانب مصر ذلك جبى نسى سلال جين الهندواوروبية r دخل مصر دخول البطالمة يونان مصر سلال جين أوروبي الاخرى دخل مصر دخول روم مصر بناء تقدم مستغرب ظهر المومياوات صلى عمر قارب ألف ميلاد سلال جين ( j١ j٢ r ) جوار سلال جين محل e'\n",
    "\n",
    "# input_ids = Tokenizer.encode(text, return_tensors=\"pt\").to(device)\n",
    "# summary_ids = Model.generate(input_ids, max_length=100, num_beams=4, decoder_start_token_id=Model.config.pad_token_id)\n",
    "\n",
    "# summary = Tokenizer.decode(summary_ids.squeeze(), skip_special_tokens=True)\n"
   ]
  },
  {
   "cell_type": "code",
   "execution_count": null,
   "metadata": {},
   "outputs": [
    {
     "name": "stdout",
     "output_type": "stream",
     "text": [
      "1436\n",
      "تاريخ أقول غزو \" آشوريا \" مصر حصل قرن سابع ميلاد احتال ثرا مصر مد تقارب المائة تخلل مقاوم حروب وقلاقل ثور مصري مقاوم احتلال الآشوري نهاية استطاع مصري طرد الآشوريين غزاة لبث غز فرس منتصف قرن سادس ميلاد سقط مصر يد فرس رزح احتلال فارس قراب ١٨٠ احتل الآشوريون مد تقارب قرن زم جاء يوناني قياد الإسكندر أكبر مقدوني حتل مصر وانهى حقب فارس مصر استمر حكم البطالمة مصر قراب قرون ما كاد مصر تخرج نفوذ حكم يونان وقع حكم رومان سمر سقط يد عمر العاص دخل مصر حكم عرب تخلل فتر حكم مصر خلال مماليك والاخشيديون أخير عثماني الأتراك خضع فترة قصير انتداب بريطاني نال استقلال تأسس جمهور مصر حديث واذا استثنى فترة انتداب بريطاني حكومة فتح الاسلامي مصر حكومة إسلام منذ فتح الاسلامي مصر توافد عرب زرافة مصر جزيرة عرب لاحظ تاريخ مصر سياسة حضار مدون بدأ تولي الاسرة فرعون ٣٥٠٠ ميلاد تعدي قدم حضار عالم تدوين حكام محكوم وقت افارقة محلي نقول عن اصحاب سلال جين e سلال جين لافارقة جنوب صحراء ( أمازيغ نوبي حبش ) انتهى حكم مصر خرج يد حكام محلي دخول الإسكندر أكبر مقدوني مصر ظن سلال جين j٢ دخل مصر قدوم الآشوريين فرس مصر دخل سلال جين j١ دخول الآشوريين لان الساميين اختلط الاشوريين الامبراطورية الآشورية كانو مكون اجتماع إمبراطوري الاشورية بابلي سومر عراق والشام ازداد ضخ سلال جين j١ مصر فتح الاسلامي مصر استنتج سلال جين مصري أصلي e سلال جين j١ j٢ وافد أجانب مصر ذلك جبى نسى سلال جين الهندواوروبية r دخل مصر دخول البطالمة يونان مصر سلال جين أوروبي الاخرى دخل مصر دخول روم مصر بناء تقدم مستغرب ظهر المومياوات صلى عمر قارب ألف ميلاد سلال جين ( j١ j٢ r ) جوار سلال جين محل e\n",
      "0\n",
      "\n"
     ]
    }
   ],
   "source": [
    "# # print(summary_ids)\n",
    "# # print(input_ids)\n",
    "# print(len(text))\n",
    "# print(text)\n",
    "# print(len(summary))\n",
    "# print(summary)"
   ]
  },
  {
   "cell_type": "code",
   "execution_count": null,
   "metadata": {},
   "outputs": [
    {
     "data": {
      "text/plain": [
       "'التاريخ يقول ان غزو \" ا آشوريا \" لمصر حصل في القرن السابع قبل الميلاد واحتلت على اثره مصر لمدة تقارب المائة سنة تخللها مقاومة وحروب وقلاقل وثورات من المصريين لمقاومة الاحتلال الآشوري وفي النهاية استطاع المصريون طرد الآشوريين الغزاة لكن ما لبثوا ان غزاهم الفرس في منتصف القرن السادس قبل الميلاد وسقطت مصر في أيدي الفرس ورزحت تحت الاحتلال الفارسي قرابة 180 سنة بعد ان احتلها الآشوريون لمدة تقارب قرنا من الزمان ثم جاء اليونانيون بقيادة الإسكندر الأكبر المقدوني واحتل مصر وانهى الحقبة الفارسية في مصر واستمر حكم البطالمة لمصر قرابة ثلاثة قرون وما كادت مصر تخرج من نفوذ الحكم اليوناني حتى وقعت تحت الحكم الروماني واسمر حتى سقط على يد عمرو بن العاص فدخلت مصر تحت حكم العرب الى اليوم وان كان تخلله فترات حكم مصر خلالها المماليك والاخشيديون وأخيرا العثمانيون الأتراك وخضعت فترة قصيرة للانتداب البريطاني حتى نالت استقلالها وتأسست جمهورية مصر الحديثة واذا استثنينا فترة الانتداب البريطاني فان كل الحكومات من بعد الفتح الاسلامي لمصر حكومات إسلامية .. ومنذ الفتح الاسلامي لمصر توافد العرب زرافات الى مصر من جزيرة العرب ونلاحظ ان تاريخ مصر السياسي والحضاري المدون بدأ منذ تول الاسرة الفرعونية الاولى قبل 3500 سنة قبل الميلاد وهي بهذا تعد اقدم حضارة في العالم تم تدوينها .. وكان الحكام والمحكومين وقتها افارقة محليين يمكن ان نقول عنهم اصحاب السلالة الجينية e وهي السلالة الجينية لافارقة جنوب الصحراء ( أمازيغ ونوبيين وحبش ) .. وانتهى حكم مصر وخرج من أيدي الحكام المحليين بدخول الإسكندر الأكبر المقدوني لمصر .. وفي ظني ان السلالة الجينية j2 دخلت مصر مع قدوم الآشوريين والفرس الى مصر ودخلت السلالة الجينية j1 مع دخول الآشوريين ايضا لان بعض الساميين اختلطوا مع الاشوريين في الامبراطورية الآشورية وكانوا ضمن المكون الاجتماعي في الإمبراطوريات الاشورية والبابلية والسومرية في العراق والشام لكن ازداد ضخ السلالة الجينية j1 في مصر بعد الفتح الاسلامي لمصر ومن هنا نستنتج ان السلالة الجينية للمصريين الأصليين هي e والسلالتين الجينيتين j1,j2 للوافدين الأجانب الى مصر وكذلك يجب ان لا ننسى السلالة الجينية الهندواوروبية r التي دخلت مصر مع دخول البطالمة اليونان مصر والسلالات الجينية الأوروبية الاخرى دخلت مصر بدخول الرومان لمصر . وبناء على ما تقدم فانه من غير المستغرب ان تظهر المومياوات التي يصل عمرها الى ما يقارب الألف سنة قبل الميلاد على سلالات جينية (j1,j2,r) بجوار السلالة الجينية المحلية e'"
      ]
     },
     "execution_count": 20,
     "metadata": {},
     "output_type": "execute_result"
    }
   ],
   "source": [
    "# Train_Paragraphs[0]"
   ]
  },
  {
   "cell_type": "code",
   "execution_count": null,
   "metadata": {},
   "outputs": [],
   "source": [
    "# Scorer = rouge_scorer.RougeScorer([\"rouge1\", \"rouge2\", \"rougeL\"], use_stemmer=True)\n",
    "\n",
    "# Scores = []\n",
    "\n",
    "# for predicted, test in zip(Predicted_Summaries, Test_Summaries):\n",
    "#     score = Scorer.score(predicted, test)\n",
    "#     Scores.append(score)\n",
    "\n",
    "# Metrics = {\n",
    "#     \"rouge-1\": [score[\"rouge1\"].fmeasure for score in Scores],\n",
    "#     \"rouge-2\": [score[\"rouge2\"].fmeasure for score in Scores],\n",
    "#     \"rouge-l\": [score[\"rougeL\"].fmeasure for score in Scores]\n",
    "# }\n",
    "\n",
    "# print(Metrics)"
   ]
  },
  {
   "cell_type": "code",
   "execution_count": null,
   "metadata": {},
   "outputs": [
    {
     "name": "stdout",
     "output_type": "stream",
     "text": [
      "{'rouge-1': 0.0, 'rouge-2': 0.0, 'rouge-l': 0}\n"
     ]
    }
   ],
   "source": [
    "# Scorer = rouge_scorer.RougeScorer([\"rouge1\", \"rouge2\", \"rougeL\"], use_stemmer=True)\n",
    "# Scores = Scorer.score(Predicted_Summaries[0], Test_Summaries[0])\n",
    "\n",
    "# Metrics = {\n",
    "#     \"rouge-1\": Scores[\"rouge1\"].fmeasure,\n",
    "#     \"rouge-2\": Scores[\"rouge2\"].fmeasure,\n",
    "#     \"rouge-l\": Scores[\"rougeL\"].fmeasure,\n",
    "# }\n",
    "\n",
    "# print(Metrics)"
   ]
  },
  {
   "cell_type": "code",
   "execution_count": null,
   "metadata": {},
   "outputs": [
    {
     "data": {
      "text/plain": [
       "'اعلنت \" لجنة جائزة بشارة الخوري للتوعية الديموقراطية \" انها انجزت المسابقة التي نظمتها حول \" دور الرئيس بشارة الخوري في تحقيق الميثاق والاستقلال \" بالتعاون مع وزارة التربية والتعليم العالي وبدعم من \" مؤسسة فريديريتش ايبرت \"، والتي شارك فيها طلاب الصف الثانوي الثاني بفرعيه العلمي والادبي والذين ينتمون الى مدارس رسمية وخاصة في المحافظات اللبنانية ، لافتة الى ان اعلان النتائج وتوزيع الجوائز سيتم خلال احتفال يقام عند الخامسة من بعد ظهر الخميس 30 الحالي في قصر الاونيسكو . واوضحت اللجنة في بيان \" ان المسابقة تناولت تاريخ لبنان الحديث من قيام دولة لبنان الكبير في الاول من ايلول 1920، الى الجلاء في 31 كانون الاول 1946، دور الرئيس بشارة الخوري في تحقيق الوحدة الوطنية واهمية الالتزام بالميثاق الوطني للمحافظة على الاستقلال \". واشارت \" الى ان الطلاب المشاركين اخضعوا في مرحلة اولى لامتحان خطي فاز في نهايته 69 طالبا ، ثم اشترك 17 منهم ممن نالوا العلامات الاعلى في المرحلة الثانية من المسابقة التي تضمنت امتحانا شفهيا امام لجنة فاحصة من الاساتذة المختصين اجابوا فيه على اسئلة تناولت فترة ولادة الاستقلال و الميثاق الوطني ودور الرئيسين بشارة الخوري ورياض الصلح في تلك المرحلة . وفي نتيجة الامتحان الشفهي فاز خمسة طلاب بالجائزة على ان تعلن اللجنة المنظمة عن اسمائهم خلال احتفال الاونيسكو ويتسلمون جوائزهم المادية والمعنوية . وذكرت اللجنة انها \" المرة الاولى التي تمنح فيها \" جائزة بشارة الخوري للتوعية الديموقراطية \" التي بدأ التحضير لها العام الماضي لمناسبة مرور 50 عاما على وفاة اول رئيس للجمهورية اللبنانية المستقلة ، على ان تكون هذه الجائزة سنوية وتخصص للاضاءة على ثوابت الاستقلال اللبناني واسس الميثاق الوطني ومبادئه \". وشكرت الذين تعاونوا لانجاح المسابقة ولاسيما المدير العام لوزارة التربية الدكتور فادي يرق والمسؤولين في الوزارة ومدراء المدارس الرسمية والخاصة التي شارك طلابها فيها والاساتذة الذين تولوا تصحيح المسابقات واجراء الامتحان الشفهي ، ومؤسسة فريدريتش ايبرت التي قدمت الجوائز للفائزين .'"
      ]
     },
     "execution_count": 23,
     "metadata": {},
     "output_type": "execute_result"
    }
   ],
   "source": [
    "# Test_Paragraphs[0]"
   ]
  },
  {
   "cell_type": "code",
   "execution_count": null,
   "metadata": {},
   "outputs": [
    {
     "data": {
      "text/plain": [
       "''"
      ]
     },
     "execution_count": 24,
     "metadata": {},
     "output_type": "execute_result"
    }
   ],
   "source": [
    "# Predicted_Summaries[0]"
   ]
  },
  {
   "cell_type": "code",
   "execution_count": null,
   "metadata": {},
   "outputs": [
    {
     "data": {
      "text/plain": [
       "'قالت لجنة جائزة بشارة الخوري أنها اجتازت المسابقة التي نظمتها حول بشارة الخوري في أن يحقق الاستقلال، وقام طلبة الصف الثاني الثانوي بالمشاركة في مؤسسة فريديريتش ايبريت، وأن توزيع الجوائز يتم في احتفال يحدث الخامسة بعد الظهر، واللجنة قالت في بيان أن المسابقة كانت تحتوي على تاريخ لبنان الحديث، وأن بشارة الخوري حافظ على الالتزام بالميثاق لكي ينال الاستقلال، وأعلن عن أسماء الطلبة الفائزين في احتفال الأونيسكو.'"
      ]
     },
     "execution_count": 25,
     "metadata": {},
     "output_type": "execute_result"
    }
   ],
   "source": [
    "# Test_Summaries[0]"
   ]
  }
 ],
 "metadata": {
  "kernelspec": {
   "display_name": "Cuda",
   "language": "python",
   "name": "python3"
  },
  "language_info": {
   "codemirror_mode": {
    "name": "ipython",
    "version": 3
   },
   "file_extension": ".py",
   "mimetype": "text/x-python",
   "name": "python",
   "nbconvert_exporter": "python",
   "pygments_lexer": "ipython3",
   "version": "3.10.10"
  },
  "orig_nbformat": 4
 },
 "nbformat": 4,
 "nbformat_minor": 2
}
